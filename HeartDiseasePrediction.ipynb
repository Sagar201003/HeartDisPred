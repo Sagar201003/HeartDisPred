{
  "nbformat": 4,
  "nbformat_minor": 0,
  "metadata": {
    "colab": {
      "provenance": []
    },
    "kernelspec": {
      "name": "python3",
      "display_name": "Python 3"
    },
    "language_info": {
      "name": "python"
    },
    "widgets": {
      "application/vnd.jupyter.widget-state+json": {
        "0aa203fb53474b54a60c6e8e31961a52": {
          "model_module": "@jupyter-widgets/controls",
          "model_name": "HBoxModel",
          "model_module_version": "1.5.0",
          "state": {
            "_dom_classes": [],
            "_model_module": "@jupyter-widgets/controls",
            "_model_module_version": "1.5.0",
            "_model_name": "HBoxModel",
            "_view_count": null,
            "_view_module": "@jupyter-widgets/controls",
            "_view_module_version": "1.5.0",
            "_view_name": "HBoxView",
            "box_style": "",
            "children": [
              "IPY_MODEL_77fddc383da046e4b8b8318a907a8090",
              "IPY_MODEL_112a4a8f43744fa98a6e6e5387504dcc",
              "IPY_MODEL_157f6abd35ca4c88b33eb291a005f96e"
            ],
            "layout": "IPY_MODEL_0a87d715b5dd4d0691652aa3dc935f60"
          }
        },
        "77fddc383da046e4b8b8318a907a8090": {
          "model_module": "@jupyter-widgets/controls",
          "model_name": "HTMLModel",
          "model_module_version": "1.5.0",
          "state": {
            "_dom_classes": [],
            "_model_module": "@jupyter-widgets/controls",
            "_model_module_version": "1.5.0",
            "_model_name": "HTMLModel",
            "_view_count": null,
            "_view_module": "@jupyter-widgets/controls",
            "_view_module_version": "1.5.0",
            "_view_name": "HTMLView",
            "description": "",
            "description_tooltip": null,
            "layout": "IPY_MODEL_e86c1d12b6714253aa58575fbbf65169",
            "placeholder": "​",
            "style": "IPY_MODEL_7b3f2703b19d4525abe01877c6942957",
            "value": "Processing: 100%"
          }
        },
        "112a4a8f43744fa98a6e6e5387504dcc": {
          "model_module": "@jupyter-widgets/controls",
          "model_name": "FloatProgressModel",
          "model_module_version": "1.5.0",
          "state": {
            "_dom_classes": [],
            "_model_module": "@jupyter-widgets/controls",
            "_model_module_version": "1.5.0",
            "_model_name": "FloatProgressModel",
            "_view_count": null,
            "_view_module": "@jupyter-widgets/controls",
            "_view_module_version": "1.5.0",
            "_view_name": "ProgressView",
            "bar_style": "",
            "description": "",
            "description_tooltip": null,
            "layout": "IPY_MODEL_7478aca6192845c487e6fad61be4d6dc",
            "max": 65,
            "min": 0,
            "orientation": "horizontal",
            "style": "IPY_MODEL_b0a63cd1cc5c4a738bd6f711e3ab8053",
            "value": 65
          }
        },
        "157f6abd35ca4c88b33eb291a005f96e": {
          "model_module": "@jupyter-widgets/controls",
          "model_name": "HTMLModel",
          "model_module_version": "1.5.0",
          "state": {
            "_dom_classes": [],
            "_model_module": "@jupyter-widgets/controls",
            "_model_module_version": "1.5.0",
            "_model_name": "HTMLModel",
            "_view_count": null,
            "_view_module": "@jupyter-widgets/controls",
            "_view_module_version": "1.5.0",
            "_view_name": "HTMLView",
            "description": "",
            "description_tooltip": null,
            "layout": "IPY_MODEL_622d0ff087434168b2f7c88b8a57d619",
            "placeholder": "​",
            "style": "IPY_MODEL_6561250ed6854087a5819abf1823fd5d",
            "value": " 65/65 [00:27&lt;00:00,  3.08it/s]"
          }
        },
        "0a87d715b5dd4d0691652aa3dc935f60": {
          "model_module": "@jupyter-widgets/base",
          "model_name": "LayoutModel",
          "model_module_version": "1.2.0",
          "state": {
            "_model_module": "@jupyter-widgets/base",
            "_model_module_version": "1.2.0",
            "_model_name": "LayoutModel",
            "_view_count": null,
            "_view_module": "@jupyter-widgets/base",
            "_view_module_version": "1.2.0",
            "_view_name": "LayoutView",
            "align_content": null,
            "align_items": null,
            "align_self": null,
            "border": null,
            "bottom": null,
            "display": null,
            "flex": null,
            "flex_flow": null,
            "grid_area": null,
            "grid_auto_columns": null,
            "grid_auto_flow": null,
            "grid_auto_rows": null,
            "grid_column": null,
            "grid_gap": null,
            "grid_row": null,
            "grid_template_areas": null,
            "grid_template_columns": null,
            "grid_template_rows": null,
            "height": null,
            "justify_content": null,
            "justify_items": null,
            "left": null,
            "margin": null,
            "max_height": null,
            "max_width": null,
            "min_height": null,
            "min_width": null,
            "object_fit": null,
            "object_position": null,
            "order": null,
            "overflow": null,
            "overflow_x": null,
            "overflow_y": null,
            "padding": null,
            "right": null,
            "top": null,
            "visibility": "hidden",
            "width": null
          }
        },
        "e86c1d12b6714253aa58575fbbf65169": {
          "model_module": "@jupyter-widgets/base",
          "model_name": "LayoutModel",
          "model_module_version": "1.2.0",
          "state": {
            "_model_module": "@jupyter-widgets/base",
            "_model_module_version": "1.2.0",
            "_model_name": "LayoutModel",
            "_view_count": null,
            "_view_module": "@jupyter-widgets/base",
            "_view_module_version": "1.2.0",
            "_view_name": "LayoutView",
            "align_content": null,
            "align_items": null,
            "align_self": null,
            "border": null,
            "bottom": null,
            "display": null,
            "flex": null,
            "flex_flow": null,
            "grid_area": null,
            "grid_auto_columns": null,
            "grid_auto_flow": null,
            "grid_auto_rows": null,
            "grid_column": null,
            "grid_gap": null,
            "grid_row": null,
            "grid_template_areas": null,
            "grid_template_columns": null,
            "grid_template_rows": null,
            "height": null,
            "justify_content": null,
            "justify_items": null,
            "left": null,
            "margin": null,
            "max_height": null,
            "max_width": null,
            "min_height": null,
            "min_width": null,
            "object_fit": null,
            "object_position": null,
            "order": null,
            "overflow": null,
            "overflow_x": null,
            "overflow_y": null,
            "padding": null,
            "right": null,
            "top": null,
            "visibility": null,
            "width": null
          }
        },
        "7b3f2703b19d4525abe01877c6942957": {
          "model_module": "@jupyter-widgets/controls",
          "model_name": "DescriptionStyleModel",
          "model_module_version": "1.5.0",
          "state": {
            "_model_module": "@jupyter-widgets/controls",
            "_model_module_version": "1.5.0",
            "_model_name": "DescriptionStyleModel",
            "_view_count": null,
            "_view_module": "@jupyter-widgets/base",
            "_view_module_version": "1.2.0",
            "_view_name": "StyleView",
            "description_width": ""
          }
        },
        "7478aca6192845c487e6fad61be4d6dc": {
          "model_module": "@jupyter-widgets/base",
          "model_name": "LayoutModel",
          "model_module_version": "1.2.0",
          "state": {
            "_model_module": "@jupyter-widgets/base",
            "_model_module_version": "1.2.0",
            "_model_name": "LayoutModel",
            "_view_count": null,
            "_view_module": "@jupyter-widgets/base",
            "_view_module_version": "1.2.0",
            "_view_name": "LayoutView",
            "align_content": null,
            "align_items": null,
            "align_self": null,
            "border": null,
            "bottom": null,
            "display": null,
            "flex": null,
            "flex_flow": null,
            "grid_area": null,
            "grid_auto_columns": null,
            "grid_auto_flow": null,
            "grid_auto_rows": null,
            "grid_column": null,
            "grid_gap": null,
            "grid_row": null,
            "grid_template_areas": null,
            "grid_template_columns": null,
            "grid_template_rows": null,
            "height": null,
            "justify_content": null,
            "justify_items": null,
            "left": null,
            "margin": null,
            "max_height": null,
            "max_width": null,
            "min_height": null,
            "min_width": null,
            "object_fit": null,
            "object_position": null,
            "order": null,
            "overflow": null,
            "overflow_x": null,
            "overflow_y": null,
            "padding": null,
            "right": null,
            "top": null,
            "visibility": null,
            "width": null
          }
        },
        "b0a63cd1cc5c4a738bd6f711e3ab8053": {
          "model_module": "@jupyter-widgets/controls",
          "model_name": "ProgressStyleModel",
          "model_module_version": "1.5.0",
          "state": {
            "_model_module": "@jupyter-widgets/controls",
            "_model_module_version": "1.5.0",
            "_model_name": "ProgressStyleModel",
            "_view_count": null,
            "_view_module": "@jupyter-widgets/base",
            "_view_module_version": "1.2.0",
            "_view_name": "StyleView",
            "bar_color": null,
            "description_width": ""
          }
        },
        "622d0ff087434168b2f7c88b8a57d619": {
          "model_module": "@jupyter-widgets/base",
          "model_name": "LayoutModel",
          "model_module_version": "1.2.0",
          "state": {
            "_model_module": "@jupyter-widgets/base",
            "_model_module_version": "1.2.0",
            "_model_name": "LayoutModel",
            "_view_count": null,
            "_view_module": "@jupyter-widgets/base",
            "_view_module_version": "1.2.0",
            "_view_name": "LayoutView",
            "align_content": null,
            "align_items": null,
            "align_self": null,
            "border": null,
            "bottom": null,
            "display": null,
            "flex": null,
            "flex_flow": null,
            "grid_area": null,
            "grid_auto_columns": null,
            "grid_auto_flow": null,
            "grid_auto_rows": null,
            "grid_column": null,
            "grid_gap": null,
            "grid_row": null,
            "grid_template_areas": null,
            "grid_template_columns": null,
            "grid_template_rows": null,
            "height": null,
            "justify_content": null,
            "justify_items": null,
            "left": null,
            "margin": null,
            "max_height": null,
            "max_width": null,
            "min_height": null,
            "min_width": null,
            "object_fit": null,
            "object_position": null,
            "order": null,
            "overflow": null,
            "overflow_x": null,
            "overflow_y": null,
            "padding": null,
            "right": null,
            "top": null,
            "visibility": null,
            "width": null
          }
        },
        "6561250ed6854087a5819abf1823fd5d": {
          "model_module": "@jupyter-widgets/controls",
          "model_name": "DescriptionStyleModel",
          "model_module_version": "1.5.0",
          "state": {
            "_model_module": "@jupyter-widgets/controls",
            "_model_module_version": "1.5.0",
            "_model_name": "DescriptionStyleModel",
            "_view_count": null,
            "_view_module": "@jupyter-widgets/base",
            "_view_module_version": "1.2.0",
            "_view_name": "StyleView",
            "description_width": ""
          }
        },
        "6b004f1c0e6348548fea97e26d705e6c": {
          "model_module": "@jupyter-widgets/controls",
          "model_name": "VBoxModel",
          "model_module_version": "1.5.0",
          "state": {
            "_dom_classes": [
              "widget-interact"
            ],
            "_model_module": "@jupyter-widgets/controls",
            "_model_module_version": "1.5.0",
            "_model_name": "VBoxModel",
            "_view_count": null,
            "_view_module": "@jupyter-widgets/controls",
            "_view_module_version": "1.5.0",
            "_view_name": "VBoxView",
            "box_style": "",
            "children": [
              "IPY_MODEL_d98ea2c5804148358174baae5cf3b462",
              "IPY_MODEL_17cf1387bbea473e8ea0a594bbf3846c"
            ],
            "layout": "IPY_MODEL_435f1e0d75eb4933967b18a775bc3bbd"
          }
        },
        "d98ea2c5804148358174baae5cf3b462": {
          "model_module": "@jupyter-widgets/controls",
          "model_name": "ToggleButtonsModel",
          "model_module_version": "1.5.0",
          "state": {
            "_dom_classes": [],
            "_model_module": "@jupyter-widgets/controls",
            "_model_module_version": "1.5.0",
            "_model_name": "ToggleButtonsModel",
            "_options_labels": [
              "Pipeline Plot",
              "Hyperparameters",
              "AUC",
              "Confusion Matrix",
              "Threshold",
              "Precision Recall",
              "Prediction Error",
              "Class Report",
              "Feature Selection",
              "Learning Curve",
              "Manifold Learning",
              "Calibration Curve",
              "Validation Curve",
              "Dimensions",
              "Feature Importance",
              "Feature Importance (All)",
              "Decision Boundary",
              "Lift Chart",
              "Gain Chart",
              "Decision Tree",
              "KS Statistic Plot"
            ],
            "_view_count": null,
            "_view_module": "@jupyter-widgets/controls",
            "_view_module_version": "1.5.0",
            "_view_name": "ToggleButtonsView",
            "button_style": "",
            "description": "Plot Type:",
            "description_tooltip": null,
            "disabled": false,
            "icons": [
              ""
            ],
            "index": 0,
            "layout": "IPY_MODEL_1231444c8bf34e87bb3ee5e169501cc8",
            "style": "IPY_MODEL_d02974a4d6384b1a91ba15390363b1a8",
            "tooltips": []
          }
        },
        "17cf1387bbea473e8ea0a594bbf3846c": {
          "model_module": "@jupyter-widgets/output",
          "model_name": "OutputModel",
          "model_module_version": "1.0.0",
          "state": {
            "_dom_classes": [],
            "_model_module": "@jupyter-widgets/output",
            "_model_module_version": "1.0.0",
            "_model_name": "OutputModel",
            "_view_count": null,
            "_view_module": "@jupyter-widgets/output",
            "_view_module_version": "1.0.0",
            "_view_name": "OutputView",
            "layout": "IPY_MODEL_b215223db4284a77b9aee89ee8fee098",
            "msg_id": "",
            "outputs": [
              {
                "output_type": "error",
                "ename": "TypeError",
                "evalue": "ignored",
                "traceback": [
                  "\u001b[0;31m---------------------------------------------------------------------------\u001b[0m",
                  "\u001b[0;31mTypeError\u001b[0m                                 Traceback (most recent call last)",
                  "\u001b[0;32m/usr/local/lib/python3.10/dist-packages/ipywidgets/widgets/interaction.py\u001b[0m in \u001b[0;36mupdate\u001b[0;34m(self, *args)\u001b[0m\n\u001b[1;32m    255\u001b[0m                     \u001b[0mvalue\u001b[0m \u001b[0;34m=\u001b[0m \u001b[0mwidget\u001b[0m\u001b[0;34m.\u001b[0m\u001b[0mget_interact_value\u001b[0m\u001b[0;34m(\u001b[0m\u001b[0;34m)\u001b[0m\u001b[0;34m\u001b[0m\u001b[0;34m\u001b[0m\u001b[0m\n\u001b[1;32m    256\u001b[0m                     \u001b[0mself\u001b[0m\u001b[0;34m.\u001b[0m\u001b[0mkwargs\u001b[0m\u001b[0;34m[\u001b[0m\u001b[0mwidget\u001b[0m\u001b[0;34m.\u001b[0m\u001b[0m_kwarg\u001b[0m\u001b[0;34m]\u001b[0m \u001b[0;34m=\u001b[0m \u001b[0mvalue\u001b[0m\u001b[0;34m\u001b[0m\u001b[0;34m\u001b[0m\u001b[0m\n\u001b[0;32m--> 257\u001b[0;31m                 \u001b[0mself\u001b[0m\u001b[0;34m.\u001b[0m\u001b[0mresult\u001b[0m \u001b[0;34m=\u001b[0m \u001b[0mself\u001b[0m\u001b[0;34m.\u001b[0m\u001b[0mf\u001b[0m\u001b[0;34m(\u001b[0m\u001b[0;34m**\u001b[0m\u001b[0mself\u001b[0m\u001b[0;34m.\u001b[0m\u001b[0mkwargs\u001b[0m\u001b[0;34m)\u001b[0m\u001b[0;34m\u001b[0m\u001b[0;34m\u001b[0m\u001b[0m\n\u001b[0m\u001b[1;32m    258\u001b[0m                 \u001b[0mshow_inline_matplotlib_plots\u001b[0m\u001b[0;34m(\u001b[0m\u001b[0;34m)\u001b[0m\u001b[0;34m\u001b[0m\u001b[0;34m\u001b[0m\u001b[0m\n\u001b[1;32m    259\u001b[0m                 \u001b[0;32mif\u001b[0m \u001b[0mself\u001b[0m\u001b[0;34m.\u001b[0m\u001b[0mauto_display\u001b[0m \u001b[0;32mand\u001b[0m \u001b[0mself\u001b[0m\u001b[0;34m.\u001b[0m\u001b[0mresult\u001b[0m \u001b[0;32mis\u001b[0m \u001b[0;32mnot\u001b[0m \u001b[0;32mNone\u001b[0m\u001b[0;34m:\u001b[0m\u001b[0;34m\u001b[0m\u001b[0;34m\u001b[0m\u001b[0m\n",
                  "\u001b[0;32m/usr/local/lib/python3.10/dist-packages/pycaret/internal/pycaret_experiment/tabular_experiment.py\u001b[0m in \u001b[0;36m_plot_model\u001b[0;34m(self, estimator, plot, scale, save, fold, fit_kwargs, plot_kwargs, groups, feature_name, label, use_train_data, verbose, system, display, display_format)\u001b[0m\n\u001b[1;32m   1942\u001b[0m                 \u001b[0;31m# execute the plot method\u001b[0m\u001b[0;34m\u001b[0m\u001b[0;34m\u001b[0m\u001b[0m\n\u001b[1;32m   1943\u001b[0m                 \u001b[0;32mwith\u001b[0m \u001b[0mredirect_output\u001b[0m\u001b[0;34m(\u001b[0m\u001b[0mself\u001b[0m\u001b[0;34m.\u001b[0m\u001b[0mlogger\u001b[0m\u001b[0;34m)\u001b[0m\u001b[0;34m:\u001b[0m\u001b[0;34m\u001b[0m\u001b[0;34m\u001b[0m\u001b[0m\n\u001b[0;32m-> 1944\u001b[0;31m                     \u001b[0mret\u001b[0m \u001b[0;34m=\u001b[0m \u001b[0mlocals\u001b[0m\u001b[0;34m(\u001b[0m\u001b[0;34m)\u001b[0m\u001b[0;34m[\u001b[0m\u001b[0mplot\u001b[0m\u001b[0;34m]\u001b[0m\u001b[0;34m(\u001b[0m\u001b[0;34m)\u001b[0m\u001b[0;34m\u001b[0m\u001b[0;34m\u001b[0m\u001b[0m\n\u001b[0m\u001b[1;32m   1945\u001b[0m                 \u001b[0;32mif\u001b[0m \u001b[0mret\u001b[0m\u001b[0;34m:\u001b[0m\u001b[0;34m\u001b[0m\u001b[0;34m\u001b[0m\u001b[0m\n\u001b[1;32m   1946\u001b[0m                     \u001b[0mplot_filename\u001b[0m \u001b[0;34m=\u001b[0m \u001b[0mret\u001b[0m\u001b[0;34m\u001b[0m\u001b[0;34m\u001b[0m\u001b[0m\n",
                  "\u001b[0;32m/usr/local/lib/python3.10/dist-packages/pycaret/internal/pycaret_experiment/tabular_experiment.py\u001b[0m in \u001b[0;36mpipeline\u001b[0;34m()\u001b[0m\n\u001b[1;32m    574\u001b[0m                         )\n\u001b[1;32m    575\u001b[0m \u001b[0;34m\u001b[0m\u001b[0m\n\u001b[0;32m--> 576\u001b[0;31m                         \u001b[0md\u001b[0m\u001b[0;34m.\u001b[0m\u001b[0mdraw\u001b[0m\u001b[0;34m(\u001b[0m\u001b[0max\u001b[0m\u001b[0;34m=\u001b[0m\u001b[0max\u001b[0m\u001b[0;34m,\u001b[0m \u001b[0mshowframe\u001b[0m\u001b[0;34m=\u001b[0m\u001b[0;32mFalse\u001b[0m\u001b[0;34m,\u001b[0m \u001b[0mshow\u001b[0m\u001b[0;34m=\u001b[0m\u001b[0;32mFalse\u001b[0m\u001b[0;34m)\u001b[0m\u001b[0;34m\u001b[0m\u001b[0;34m\u001b[0m\u001b[0m\n\u001b[0m\u001b[1;32m    577\u001b[0m                         \u001b[0max\u001b[0m\u001b[0;34m.\u001b[0m\u001b[0mset_aspect\u001b[0m\u001b[0;34m(\u001b[0m\u001b[0;34m\"equal\"\u001b[0m\u001b[0;34m)\u001b[0m\u001b[0;34m\u001b[0m\u001b[0;34m\u001b[0m\u001b[0m\n\u001b[1;32m    578\u001b[0m                         \u001b[0mplt\u001b[0m\u001b[0;34m.\u001b[0m\u001b[0maxis\u001b[0m\u001b[0;34m(\u001b[0m\u001b[0;34m\"off\"\u001b[0m\u001b[0;34m)\u001b[0m\u001b[0;34m\u001b[0m\u001b[0;34m\u001b[0m\u001b[0m\n",
                  "\u001b[0;31mTypeError\u001b[0m: Drawing.draw() got an unexpected keyword argument 'ax'"
                ]
              }
            ]
          }
        },
        "435f1e0d75eb4933967b18a775bc3bbd": {
          "model_module": "@jupyter-widgets/base",
          "model_name": "LayoutModel",
          "model_module_version": "1.2.0",
          "state": {
            "_model_module": "@jupyter-widgets/base",
            "_model_module_version": "1.2.0",
            "_model_name": "LayoutModel",
            "_view_count": null,
            "_view_module": "@jupyter-widgets/base",
            "_view_module_version": "1.2.0",
            "_view_name": "LayoutView",
            "align_content": null,
            "align_items": null,
            "align_self": null,
            "border": null,
            "bottom": null,
            "display": null,
            "flex": null,
            "flex_flow": null,
            "grid_area": null,
            "grid_auto_columns": null,
            "grid_auto_flow": null,
            "grid_auto_rows": null,
            "grid_column": null,
            "grid_gap": null,
            "grid_row": null,
            "grid_template_areas": null,
            "grid_template_columns": null,
            "grid_template_rows": null,
            "height": null,
            "justify_content": null,
            "justify_items": null,
            "left": null,
            "margin": null,
            "max_height": null,
            "max_width": null,
            "min_height": null,
            "min_width": null,
            "object_fit": null,
            "object_position": null,
            "order": null,
            "overflow": null,
            "overflow_x": null,
            "overflow_y": null,
            "padding": null,
            "right": null,
            "top": null,
            "visibility": null,
            "width": null
          }
        },
        "1231444c8bf34e87bb3ee5e169501cc8": {
          "model_module": "@jupyter-widgets/base",
          "model_name": "LayoutModel",
          "model_module_version": "1.2.0",
          "state": {
            "_model_module": "@jupyter-widgets/base",
            "_model_module_version": "1.2.0",
            "_model_name": "LayoutModel",
            "_view_count": null,
            "_view_module": "@jupyter-widgets/base",
            "_view_module_version": "1.2.0",
            "_view_name": "LayoutView",
            "align_content": null,
            "align_items": null,
            "align_self": null,
            "border": null,
            "bottom": null,
            "display": null,
            "flex": null,
            "flex_flow": null,
            "grid_area": null,
            "grid_auto_columns": null,
            "grid_auto_flow": null,
            "grid_auto_rows": null,
            "grid_column": null,
            "grid_gap": null,
            "grid_row": null,
            "grid_template_areas": null,
            "grid_template_columns": null,
            "grid_template_rows": null,
            "height": null,
            "justify_content": null,
            "justify_items": null,
            "left": null,
            "margin": null,
            "max_height": null,
            "max_width": null,
            "min_height": null,
            "min_width": null,
            "object_fit": null,
            "object_position": null,
            "order": null,
            "overflow": null,
            "overflow_x": null,
            "overflow_y": null,
            "padding": null,
            "right": null,
            "top": null,
            "visibility": null,
            "width": null
          }
        },
        "d02974a4d6384b1a91ba15390363b1a8": {
          "model_module": "@jupyter-widgets/controls",
          "model_name": "ToggleButtonsStyleModel",
          "model_module_version": "1.5.0",
          "state": {
            "_model_module": "@jupyter-widgets/controls",
            "_model_module_version": "1.5.0",
            "_model_name": "ToggleButtonsStyleModel",
            "_view_count": null,
            "_view_module": "@jupyter-widgets/base",
            "_view_module_version": "1.2.0",
            "_view_name": "StyleView",
            "button_width": "",
            "description_width": "",
            "font_weight": ""
          }
        },
        "b215223db4284a77b9aee89ee8fee098": {
          "model_module": "@jupyter-widgets/base",
          "model_name": "LayoutModel",
          "model_module_version": "1.2.0",
          "state": {
            "_model_module": "@jupyter-widgets/base",
            "_model_module_version": "1.2.0",
            "_model_name": "LayoutModel",
            "_view_count": null,
            "_view_module": "@jupyter-widgets/base",
            "_view_module_version": "1.2.0",
            "_view_name": "LayoutView",
            "align_content": null,
            "align_items": null,
            "align_self": null,
            "border": null,
            "bottom": null,
            "display": null,
            "flex": null,
            "flex_flow": null,
            "grid_area": null,
            "grid_auto_columns": null,
            "grid_auto_flow": null,
            "grid_auto_rows": null,
            "grid_column": null,
            "grid_gap": null,
            "grid_row": null,
            "grid_template_areas": null,
            "grid_template_columns": null,
            "grid_template_rows": null,
            "height": null,
            "justify_content": null,
            "justify_items": null,
            "left": null,
            "margin": null,
            "max_height": null,
            "max_width": null,
            "min_height": null,
            "min_width": null,
            "object_fit": null,
            "object_position": null,
            "order": null,
            "overflow": null,
            "overflow_x": null,
            "overflow_y": null,
            "padding": null,
            "right": null,
            "top": null,
            "visibility": null,
            "width": null
          }
        },
        "35953cc2ebcb4e75b24cce4cd5226959": {
          "model_module": "@jupyter-widgets/controls",
          "model_name": "HBoxModel",
          "model_module_version": "1.5.0",
          "state": {
            "_dom_classes": [],
            "_model_module": "@jupyter-widgets/controls",
            "_model_module_version": "1.5.0",
            "_model_name": "HBoxModel",
            "_view_count": null,
            "_view_module": "@jupyter-widgets/controls",
            "_view_module_version": "1.5.0",
            "_view_name": "HBoxView",
            "box_style": "",
            "children": [
              "IPY_MODEL_c1375899ffa0460eb1d26b9c0585b1d1",
              "IPY_MODEL_82fa982206f14ab69efb51ed9f282e64",
              "IPY_MODEL_ff928bb50ac645c18ba7b185b1d6a6a8"
            ],
            "layout": "IPY_MODEL_6d234377a6e14d49a0d23957ffa1526a"
          }
        },
        "c1375899ffa0460eb1d26b9c0585b1d1": {
          "model_module": "@jupyter-widgets/controls",
          "model_name": "HTMLModel",
          "model_module_version": "1.5.0",
          "state": {
            "_dom_classes": [],
            "_model_module": "@jupyter-widgets/controls",
            "_model_module_version": "1.5.0",
            "_model_name": "HTMLModel",
            "_view_count": null,
            "_view_module": "@jupyter-widgets/controls",
            "_view_module_version": "1.5.0",
            "_view_name": "HTMLView",
            "description": "",
            "description_tooltip": null,
            "layout": "IPY_MODEL_df7c37b92e0445c98b512906ff786ec7",
            "placeholder": "​",
            "style": "IPY_MODEL_f4b78ddf331c4b4db45db0a22cd512a9",
            "value": "Processing: 100%"
          }
        },
        "82fa982206f14ab69efb51ed9f282e64": {
          "model_module": "@jupyter-widgets/controls",
          "model_name": "FloatProgressModel",
          "model_module_version": "1.5.0",
          "state": {
            "_dom_classes": [],
            "_model_module": "@jupyter-widgets/controls",
            "_model_module_version": "1.5.0",
            "_model_name": "FloatProgressModel",
            "_view_count": null,
            "_view_module": "@jupyter-widgets/controls",
            "_view_module_version": "1.5.0",
            "_view_name": "ProgressView",
            "bar_style": "",
            "description": "",
            "description_tooltip": null,
            "layout": "IPY_MODEL_7e72267a0e0a4d0680701fbddb57c59f",
            "max": 7,
            "min": 0,
            "orientation": "horizontal",
            "style": "IPY_MODEL_c9de892ce7d04a9e8672e553951f478c",
            "value": 7
          }
        },
        "ff928bb50ac645c18ba7b185b1d6a6a8": {
          "model_module": "@jupyter-widgets/controls",
          "model_name": "HTMLModel",
          "model_module_version": "1.5.0",
          "state": {
            "_dom_classes": [],
            "_model_module": "@jupyter-widgets/controls",
            "_model_module_version": "1.5.0",
            "_model_name": "HTMLModel",
            "_view_count": null,
            "_view_module": "@jupyter-widgets/controls",
            "_view_module_version": "1.5.0",
            "_view_name": "HTMLView",
            "description": "",
            "description_tooltip": null,
            "layout": "IPY_MODEL_79b45b4a5e0f4850a860b65084ddabd4",
            "placeholder": "​",
            "style": "IPY_MODEL_1b86d9084e794b3ca5763c2c388aabd3",
            "value": " 7/7 [00:34&lt;00:00,  3.89s/it]"
          }
        },
        "6d234377a6e14d49a0d23957ffa1526a": {
          "model_module": "@jupyter-widgets/base",
          "model_name": "LayoutModel",
          "model_module_version": "1.2.0",
          "state": {
            "_model_module": "@jupyter-widgets/base",
            "_model_module_version": "1.2.0",
            "_model_name": "LayoutModel",
            "_view_count": null,
            "_view_module": "@jupyter-widgets/base",
            "_view_module_version": "1.2.0",
            "_view_name": "LayoutView",
            "align_content": null,
            "align_items": null,
            "align_self": null,
            "border": null,
            "bottom": null,
            "display": null,
            "flex": null,
            "flex_flow": null,
            "grid_area": null,
            "grid_auto_columns": null,
            "grid_auto_flow": null,
            "grid_auto_rows": null,
            "grid_column": null,
            "grid_gap": null,
            "grid_row": null,
            "grid_template_areas": null,
            "grid_template_columns": null,
            "grid_template_rows": null,
            "height": null,
            "justify_content": null,
            "justify_items": null,
            "left": null,
            "margin": null,
            "max_height": null,
            "max_width": null,
            "min_height": null,
            "min_width": null,
            "object_fit": null,
            "object_position": null,
            "order": null,
            "overflow": null,
            "overflow_x": null,
            "overflow_y": null,
            "padding": null,
            "right": null,
            "top": null,
            "visibility": "hidden",
            "width": null
          }
        },
        "df7c37b92e0445c98b512906ff786ec7": {
          "model_module": "@jupyter-widgets/base",
          "model_name": "LayoutModel",
          "model_module_version": "1.2.0",
          "state": {
            "_model_module": "@jupyter-widgets/base",
            "_model_module_version": "1.2.0",
            "_model_name": "LayoutModel",
            "_view_count": null,
            "_view_module": "@jupyter-widgets/base",
            "_view_module_version": "1.2.0",
            "_view_name": "LayoutView",
            "align_content": null,
            "align_items": null,
            "align_self": null,
            "border": null,
            "bottom": null,
            "display": null,
            "flex": null,
            "flex_flow": null,
            "grid_area": null,
            "grid_auto_columns": null,
            "grid_auto_flow": null,
            "grid_auto_rows": null,
            "grid_column": null,
            "grid_gap": null,
            "grid_row": null,
            "grid_template_areas": null,
            "grid_template_columns": null,
            "grid_template_rows": null,
            "height": null,
            "justify_content": null,
            "justify_items": null,
            "left": null,
            "margin": null,
            "max_height": null,
            "max_width": null,
            "min_height": null,
            "min_width": null,
            "object_fit": null,
            "object_position": null,
            "order": null,
            "overflow": null,
            "overflow_x": null,
            "overflow_y": null,
            "padding": null,
            "right": null,
            "top": null,
            "visibility": null,
            "width": null
          }
        },
        "f4b78ddf331c4b4db45db0a22cd512a9": {
          "model_module": "@jupyter-widgets/controls",
          "model_name": "DescriptionStyleModel",
          "model_module_version": "1.5.0",
          "state": {
            "_model_module": "@jupyter-widgets/controls",
            "_model_module_version": "1.5.0",
            "_model_name": "DescriptionStyleModel",
            "_view_count": null,
            "_view_module": "@jupyter-widgets/base",
            "_view_module_version": "1.2.0",
            "_view_name": "StyleView",
            "description_width": ""
          }
        },
        "7e72267a0e0a4d0680701fbddb57c59f": {
          "model_module": "@jupyter-widgets/base",
          "model_name": "LayoutModel",
          "model_module_version": "1.2.0",
          "state": {
            "_model_module": "@jupyter-widgets/base",
            "_model_module_version": "1.2.0",
            "_model_name": "LayoutModel",
            "_view_count": null,
            "_view_module": "@jupyter-widgets/base",
            "_view_module_version": "1.2.0",
            "_view_name": "LayoutView",
            "align_content": null,
            "align_items": null,
            "align_self": null,
            "border": null,
            "bottom": null,
            "display": null,
            "flex": null,
            "flex_flow": null,
            "grid_area": null,
            "grid_auto_columns": null,
            "grid_auto_flow": null,
            "grid_auto_rows": null,
            "grid_column": null,
            "grid_gap": null,
            "grid_row": null,
            "grid_template_areas": null,
            "grid_template_columns": null,
            "grid_template_rows": null,
            "height": null,
            "justify_content": null,
            "justify_items": null,
            "left": null,
            "margin": null,
            "max_height": null,
            "max_width": null,
            "min_height": null,
            "min_width": null,
            "object_fit": null,
            "object_position": null,
            "order": null,
            "overflow": null,
            "overflow_x": null,
            "overflow_y": null,
            "padding": null,
            "right": null,
            "top": null,
            "visibility": null,
            "width": null
          }
        },
        "c9de892ce7d04a9e8672e553951f478c": {
          "model_module": "@jupyter-widgets/controls",
          "model_name": "ProgressStyleModel",
          "model_module_version": "1.5.0",
          "state": {
            "_model_module": "@jupyter-widgets/controls",
            "_model_module_version": "1.5.0",
            "_model_name": "ProgressStyleModel",
            "_view_count": null,
            "_view_module": "@jupyter-widgets/base",
            "_view_module_version": "1.2.0",
            "_view_name": "StyleView",
            "bar_color": null,
            "description_width": ""
          }
        },
        "79b45b4a5e0f4850a860b65084ddabd4": {
          "model_module": "@jupyter-widgets/base",
          "model_name": "LayoutModel",
          "model_module_version": "1.2.0",
          "state": {
            "_model_module": "@jupyter-widgets/base",
            "_model_module_version": "1.2.0",
            "_model_name": "LayoutModel",
            "_view_count": null,
            "_view_module": "@jupyter-widgets/base",
            "_view_module_version": "1.2.0",
            "_view_name": "LayoutView",
            "align_content": null,
            "align_items": null,
            "align_self": null,
            "border": null,
            "bottom": null,
            "display": null,
            "flex": null,
            "flex_flow": null,
            "grid_area": null,
            "grid_auto_columns": null,
            "grid_auto_flow": null,
            "grid_auto_rows": null,
            "grid_column": null,
            "grid_gap": null,
            "grid_row": null,
            "grid_template_areas": null,
            "grid_template_columns": null,
            "grid_template_rows": null,
            "height": null,
            "justify_content": null,
            "justify_items": null,
            "left": null,
            "margin": null,
            "max_height": null,
            "max_width": null,
            "min_height": null,
            "min_width": null,
            "object_fit": null,
            "object_position": null,
            "order": null,
            "overflow": null,
            "overflow_x": null,
            "overflow_y": null,
            "padding": null,
            "right": null,
            "top": null,
            "visibility": null,
            "width": null
          }
        },
        "1b86d9084e794b3ca5763c2c388aabd3": {
          "model_module": "@jupyter-widgets/controls",
          "model_name": "DescriptionStyleModel",
          "model_module_version": "1.5.0",
          "state": {
            "_model_module": "@jupyter-widgets/controls",
            "_model_module_version": "1.5.0",
            "_model_name": "DescriptionStyleModel",
            "_view_count": null,
            "_view_module": "@jupyter-widgets/base",
            "_view_module_version": "1.2.0",
            "_view_name": "StyleView",
            "description_width": ""
          }
        }
      }
    }
  },
  "cells": [
    {
      "cell_type": "code",
      "execution_count": 54,
      "metadata": {
        "id": "YOCpZ1Vm6cfW"
      },
      "outputs": [],
      "source": [
        "import numpy as np\n",
        "import pandas as pd\n",
        "import matplotlib.pyplot as plt\n",
        "import seaborn as sns\n",
        "from sklearn.model_selection import train_test_split\n",
        "from sklearn.preprocessing import StandardScaler\n",
        "from sklearn import svm\n",
        "from sklearn.ensemble import ExtraTreesClassifier\n",
        "from sklearn.linear_model import LogisticRegression\n",
        "from sklearn.neighbors import KNeighborsClassifier\n",
        "from sklearn.tree import DecisionTreeClassifier\n",
        "from sklearn.ensemble import RandomForestClassifier\n",
        "from sklearn.naive_bayes import GaussianNB\n",
        "from sklearn.ensemble import GradientBoostingClassifier\n",
        "from sklearn.metrics import accuracy_score"
      ]
    },
    {
      "cell_type": "code",
      "execution_count": 55,
      "metadata": {
        "colab": {
          "base_uri": "https://localhost:8080/"
        },
        "id": "j8u6yo8a1MQ3",
        "outputId": "e1850c61-89b6-4040-9061-fd74958b7fa1"
      },
      "outputs": [
        {
          "output_type": "stream",
          "name": "stdout",
          "text": [
            "Drive already mounted at /content/drive; to attempt to forcibly remount, call drive.mount(\"/content/drive\", force_remount=True).\n"
          ]
        }
      ],
      "source": [
        "from google.colab import drive\n",
        "drive.mount('/content/drive')"
      ]
    },
    {
      "cell_type": "code",
      "execution_count": 56,
      "metadata": {
        "id": "5YC2lGuVBiZA"
      },
      "outputs": [],
      "source": [
        "# loading the data from csv file to a Pandas DataFrame\n",
        "data = pd.read_csv('/content/drive/MyDrive/heart.csv')"
      ]
    },
    {
      "cell_type": "markdown",
      "source": [
        "# Dataset Information"
      ],
      "metadata": {
        "id": "GHEw6TPK2vQc"
      }
    },
    {
      "cell_type": "markdown",
      "source": [
        "Attribute Information:\n",
        "\n",
        "Only 14 attributes used:\n",
        "1. #3 (age)\n",
        "2. #4 (sex)\n",
        "3. #9 (cp)\n",
        "4. #10 (trestbps)\n",
        "5. #12 (chol)\n",
        "6. #16 (fbs)\n",
        "7. #19 (restecg)\n",
        "8. #32 (thalach)\n",
        "9. #38 (exang)\n",
        "10. #40 (oldpeak)\n",
        "11. #41 (slope)\n",
        "12. #44 (ca)\n",
        "13. #51 (thal)\n",
        "14. #58 (num) (the predicted attribute)\n",
        "\n",
        "Complete attribute documentation:\n",
        "1 id: patient identification number\n",
        "2 ccf: social security number (I replaced this with a dummy value of 0)\n",
        "3 age: age in years\n",
        "4 sex: sex (1 = male; 0 = female)\n",
        "5 painloc: chest pain location (1 = substernal; 0 = otherwise)\n",
        "6 painexer (1 = provoked by exertion; 0 = otherwise)\n",
        "7 relrest (1 = relieved after rest; 0 = otherwise)\n",
        "8 pncaden (sum of 5, 6, and 7)\n",
        "9 cp: chest pain type\n",
        "-- Value 1: typical angina\n",
        "-- Value 2: atypical angina\n",
        "-- Value 3: non-anginal pain\n",
        "-- Value 4: asymptomatic\n",
        "10 trestbps: resting blood pressure (in mm Hg on admission to the hospital)\n",
        "11 htn\n",
        "12 chol: serum cholestoral in mg/dl\n",
        "13 smoke: I believe this is 1 = yes; 0 = no (is or is not a smoker)\n",
        "14 cigs (cigarettes per day)\n",
        "15 years (number of years as a smoker)\n",
        "16 fbs: (fasting blood sugar > 120 mg/dl) (1 = true; 0 = false)\n",
        "17 dm (1 = history of diabetes; 0 = no such history)\n",
        "18 famhist: family history of coronary artery disease (1 = yes; 0 = no)\n",
        "19 restecg: resting electrocardiographic results\n",
        "-- Value 0: normal\n",
        "-- Value 1: having ST-T wave abnormality (T wave inversions and/or ST elevation or depression of > 0.05 mV)\n",
        "-- Value 2: showing probable or definite left ventricular hypertrophy by Estes' criteria\n",
        "20 ekgmo (month of exercise ECG reading)\n",
        "21 ekgday(day of exercise ECG reading)\n",
        "22 ekgyr (year of exercise ECG reading)\n",
        "23 dig (digitalis used furing exercise ECG: 1 = yes; 0 = no)\n",
        "24 prop (Beta blocker used during exercise ECG: 1 = yes; 0 = no)\n",
        "25 nitr (nitrates used during exercise ECG: 1 = yes; 0 = no)\n",
        "26 pro (calcium channel blocker used during exercise ECG: 1 = yes; 0 = no)\n",
        "27 diuretic (diuretic used used during exercise ECG: 1 = yes; 0 = no)\n",
        "28 proto: exercise protocol\n",
        "1 = Bruce\n",
        "2 = Kottus\n",
        "3 = McHenry\n",
        "4 = fast Balke\n",
        "5 = Balke\n",
        "6 = Noughton\n",
        "7 = bike 150 kpa min/min (Not sure if \"kpa min/min\" is what was written!)\n",
        "8 = bike 125 kpa min/min\n",
        "9 = bike 100 kpa min/min\n",
        "10 = bike 75 kpa min/min\n",
        "11 = bike 50 kpa min/min\n",
        "12 = arm ergometer\n",
        "29 thaldur: duration of exercise test in minutes\n",
        "30 thaltime: time when ST measure depression was noted\n",
        "31 met: mets achieved\n",
        "32 thalach: maximum heart rate achieved\n",
        "33 thalrest: resting heart rate\n",
        "34 tpeakbps: peak exercise blood pressure (first of 2 parts)\n",
        "35 tpeakbpd: peak exercise blood pressure (second of 2 parts)\n",
        "36 dummy\n",
        "37 trestbpd: resting blood pressure\n",
        "38 exang: exercise induced angina (1 = yes; 0 = no)\n",
        "39 xhypo: (1 = yes; 0 = no)\n",
        "40 oldpeak = ST depression induced by exercise relative to rest\n",
        "41 slope: the slope of the peak exercise ST segment\n",
        "-- Value 1: upsloping\n",
        "-- Value 2: flat\n",
        "-- Value 3: downsloping\n",
        "42 rldv5: height at rest\n",
        "43 rldv5e: height at peak exercise\n",
        "44 ca: number of major vessels (0-3) colored by flourosopy\n",
        "45 restckm: irrelevant\n",
        "46 exerckm: irrelevant\n",
        "47 restef: rest raidonuclid (sp?) ejection fraction\n",
        "48 restwm: rest wall (sp?) motion abnormality\n",
        "0 = none\n",
        "1 = mild or moderate\n",
        "2 = moderate or severe\n",
        "3 = akinesis or dyskmem (sp?)\n",
        "49 exeref: exercise radinalid (sp?) ejection fraction\n",
        "50 exerwm: exercise wall (sp?) motion\n",
        "51 thal: 3 = normal; 6 = fixed defect; 7 = reversable defect\n",
        "52 thalsev: not used\n",
        "53 thalpul: not used\n",
        "54 earlobe: not used\n",
        "55 cmo: month of cardiac cath (sp?) (perhaps \"call\")\n",
        "56 cday: day of cardiac cath (sp?)\n",
        "57 cyr: year of cardiac cath (sp?)\n",
        "58 num: diagnosis of heart disease (angiographic disease status)\n",
        "-- Value 0: < 50% diameter narrowing\n",
        "-- Value 1: > 50% diameter narrowing\n",
        "(in any major vessel: attributes 59 through 68 are vessels)\n",
        "59 lmt\n",
        "60 ladprox\n",
        "61 laddist\n",
        "62 diag\n",
        "63 cxmain\n",
        "64 ramus\n",
        "65 om1\n",
        "66 om2\n",
        "67 rcaprox\n",
        "68 rcadist\n",
        "69 lvx1: not used\n",
        "70 lvx2: not used\n",
        "71 lvx3: not used\n",
        "72 lvx4: not used\n",
        "73 lvf: not used\n",
        "74 cathef: not used\n",
        "75 junk: not used\n",
        "76 name: last name of patient (I replaced this with the dummy string \"name\")\n",
        "\n"
      ],
      "metadata": {
        "id": "bVs35CUk23tz"
      }
    },
    {
      "cell_type": "markdown",
      "metadata": {
        "id": "QQwmPEADKq0l"
      },
      "source": [
        "# EXPLORATORY DATA ANALYSIS"
      ]
    },
    {
      "cell_type": "code",
      "execution_count": 57,
      "metadata": {
        "colab": {
          "base_uri": "https://localhost:8080/",
          "height": 206
        },
        "id": "Iw8z6w60Djd2",
        "outputId": "676bb34d-d788-4415-858f-3f4841ebff32"
      },
      "outputs": [
        {
          "output_type": "execute_result",
          "data": {
            "text/plain": [
              "   age  sex  cp  trestbps  chol  fbs  restecg  thalach  exang  oldpeak  slope  \\\n",
              "0   52    1   0       125   212    0        1      168      0      1.0      2   \n",
              "1   53    1   0       140   203    1        0      155      1      3.1      0   \n",
              "2   70    1   0       145   174    0        1      125      1      2.6      0   \n",
              "3   61    1   0       148   203    0        1      161      0      0.0      2   \n",
              "4   62    0   0       138   294    1        1      106      0      1.9      1   \n",
              "\n",
              "   ca  thal  target  \n",
              "0   2     3       0  \n",
              "1   0     3       0  \n",
              "2   0     3       0  \n",
              "3   1     3       0  \n",
              "4   3     2       0  "
            ],
            "text/html": [
              "\n",
              "  <div id=\"df-d3cc16b5-33c9-4c98-b7cd-997e43c4ccc4\">\n",
              "    <div class=\"colab-df-container\">\n",
              "      <div>\n",
              "<style scoped>\n",
              "    .dataframe tbody tr th:only-of-type {\n",
              "        vertical-align: middle;\n",
              "    }\n",
              "\n",
              "    .dataframe tbody tr th {\n",
              "        vertical-align: top;\n",
              "    }\n",
              "\n",
              "    .dataframe thead th {\n",
              "        text-align: right;\n",
              "    }\n",
              "</style>\n",
              "<table border=\"1\" class=\"dataframe\">\n",
              "  <thead>\n",
              "    <tr style=\"text-align: right;\">\n",
              "      <th></th>\n",
              "      <th>age</th>\n",
              "      <th>sex</th>\n",
              "      <th>cp</th>\n",
              "      <th>trestbps</th>\n",
              "      <th>chol</th>\n",
              "      <th>fbs</th>\n",
              "      <th>restecg</th>\n",
              "      <th>thalach</th>\n",
              "      <th>exang</th>\n",
              "      <th>oldpeak</th>\n",
              "      <th>slope</th>\n",
              "      <th>ca</th>\n",
              "      <th>thal</th>\n",
              "      <th>target</th>\n",
              "    </tr>\n",
              "  </thead>\n",
              "  <tbody>\n",
              "    <tr>\n",
              "      <th>0</th>\n",
              "      <td>52</td>\n",
              "      <td>1</td>\n",
              "      <td>0</td>\n",
              "      <td>125</td>\n",
              "      <td>212</td>\n",
              "      <td>0</td>\n",
              "      <td>1</td>\n",
              "      <td>168</td>\n",
              "      <td>0</td>\n",
              "      <td>1.0</td>\n",
              "      <td>2</td>\n",
              "      <td>2</td>\n",
              "      <td>3</td>\n",
              "      <td>0</td>\n",
              "    </tr>\n",
              "    <tr>\n",
              "      <th>1</th>\n",
              "      <td>53</td>\n",
              "      <td>1</td>\n",
              "      <td>0</td>\n",
              "      <td>140</td>\n",
              "      <td>203</td>\n",
              "      <td>1</td>\n",
              "      <td>0</td>\n",
              "      <td>155</td>\n",
              "      <td>1</td>\n",
              "      <td>3.1</td>\n",
              "      <td>0</td>\n",
              "      <td>0</td>\n",
              "      <td>3</td>\n",
              "      <td>0</td>\n",
              "    </tr>\n",
              "    <tr>\n",
              "      <th>2</th>\n",
              "      <td>70</td>\n",
              "      <td>1</td>\n",
              "      <td>0</td>\n",
              "      <td>145</td>\n",
              "      <td>174</td>\n",
              "      <td>0</td>\n",
              "      <td>1</td>\n",
              "      <td>125</td>\n",
              "      <td>1</td>\n",
              "      <td>2.6</td>\n",
              "      <td>0</td>\n",
              "      <td>0</td>\n",
              "      <td>3</td>\n",
              "      <td>0</td>\n",
              "    </tr>\n",
              "    <tr>\n",
              "      <th>3</th>\n",
              "      <td>61</td>\n",
              "      <td>1</td>\n",
              "      <td>0</td>\n",
              "      <td>148</td>\n",
              "      <td>203</td>\n",
              "      <td>0</td>\n",
              "      <td>1</td>\n",
              "      <td>161</td>\n",
              "      <td>0</td>\n",
              "      <td>0.0</td>\n",
              "      <td>2</td>\n",
              "      <td>1</td>\n",
              "      <td>3</td>\n",
              "      <td>0</td>\n",
              "    </tr>\n",
              "    <tr>\n",
              "      <th>4</th>\n",
              "      <td>62</td>\n",
              "      <td>0</td>\n",
              "      <td>0</td>\n",
              "      <td>138</td>\n",
              "      <td>294</td>\n",
              "      <td>1</td>\n",
              "      <td>1</td>\n",
              "      <td>106</td>\n",
              "      <td>0</td>\n",
              "      <td>1.9</td>\n",
              "      <td>1</td>\n",
              "      <td>3</td>\n",
              "      <td>2</td>\n",
              "      <td>0</td>\n",
              "    </tr>\n",
              "  </tbody>\n",
              "</table>\n",
              "</div>\n",
              "      <button class=\"colab-df-convert\" onclick=\"convertToInteractive('df-d3cc16b5-33c9-4c98-b7cd-997e43c4ccc4')\"\n",
              "              title=\"Convert this dataframe to an interactive table.\"\n",
              "              style=\"display:none;\">\n",
              "        \n",
              "  <svg xmlns=\"http://www.w3.org/2000/svg\" height=\"24px\"viewBox=\"0 0 24 24\"\n",
              "       width=\"24px\">\n",
              "    <path d=\"M0 0h24v24H0V0z\" fill=\"none\"/>\n",
              "    <path d=\"M18.56 5.44l.94 2.06.94-2.06 2.06-.94-2.06-.94-.94-2.06-.94 2.06-2.06.94zm-11 1L8.5 8.5l.94-2.06 2.06-.94-2.06-.94L8.5 2.5l-.94 2.06-2.06.94zm10 10l.94 2.06.94-2.06 2.06-.94-2.06-.94-.94-2.06-.94 2.06-2.06.94z\"/><path d=\"M17.41 7.96l-1.37-1.37c-.4-.4-.92-.59-1.43-.59-.52 0-1.04.2-1.43.59L10.3 9.45l-7.72 7.72c-.78.78-.78 2.05 0 2.83L4 21.41c.39.39.9.59 1.41.59.51 0 1.02-.2 1.41-.59l7.78-7.78 2.81-2.81c.8-.78.8-2.07 0-2.86zM5.41 20L4 18.59l7.72-7.72 1.47 1.35L5.41 20z\"/>\n",
              "  </svg>\n",
              "      </button>\n",
              "      \n",
              "  <style>\n",
              "    .colab-df-container {\n",
              "      display:flex;\n",
              "      flex-wrap:wrap;\n",
              "      gap: 12px;\n",
              "    }\n",
              "\n",
              "    .colab-df-convert {\n",
              "      background-color: #E8F0FE;\n",
              "      border: none;\n",
              "      border-radius: 50%;\n",
              "      cursor: pointer;\n",
              "      display: none;\n",
              "      fill: #1967D2;\n",
              "      height: 32px;\n",
              "      padding: 0 0 0 0;\n",
              "      width: 32px;\n",
              "    }\n",
              "\n",
              "    .colab-df-convert:hover {\n",
              "      background-color: #E2EBFA;\n",
              "      box-shadow: 0px 1px 2px rgba(60, 64, 67, 0.3), 0px 1px 3px 1px rgba(60, 64, 67, 0.15);\n",
              "      fill: #174EA6;\n",
              "    }\n",
              "\n",
              "    [theme=dark] .colab-df-convert {\n",
              "      background-color: #3B4455;\n",
              "      fill: #D2E3FC;\n",
              "    }\n",
              "\n",
              "    [theme=dark] .colab-df-convert:hover {\n",
              "      background-color: #434B5C;\n",
              "      box-shadow: 0px 1px 3px 1px rgba(0, 0, 0, 0.15);\n",
              "      filter: drop-shadow(0px 1px 2px rgba(0, 0, 0, 0.3));\n",
              "      fill: #FFFFFF;\n",
              "    }\n",
              "  </style>\n",
              "\n",
              "      <script>\n",
              "        const buttonEl =\n",
              "          document.querySelector('#df-d3cc16b5-33c9-4c98-b7cd-997e43c4ccc4 button.colab-df-convert');\n",
              "        buttonEl.style.display =\n",
              "          google.colab.kernel.accessAllowed ? 'block' : 'none';\n",
              "\n",
              "        async function convertToInteractive(key) {\n",
              "          const element = document.querySelector('#df-d3cc16b5-33c9-4c98-b7cd-997e43c4ccc4');\n",
              "          const dataTable =\n",
              "            await google.colab.kernel.invokeFunction('convertToInteractive',\n",
              "                                                     [key], {});\n",
              "          if (!dataTable) return;\n",
              "\n",
              "          const docLinkHtml = 'Like what you see? Visit the ' +\n",
              "            '<a target=\"_blank\" href=https://colab.research.google.com/notebooks/data_table.ipynb>data table notebook</a>'\n",
              "            + ' to learn more about interactive tables.';\n",
              "          element.innerHTML = '';\n",
              "          dataTable['output_type'] = 'display_data';\n",
              "          await google.colab.output.renderOutput(dataTable, element);\n",
              "          const docLink = document.createElement('div');\n",
              "          docLink.innerHTML = docLinkHtml;\n",
              "          element.appendChild(docLink);\n",
              "        }\n",
              "      </script>\n",
              "    </div>\n",
              "  </div>\n",
              "  "
            ]
          },
          "metadata": {},
          "execution_count": 57
        }
      ],
      "source": [
        "# printing the first 5 rows of the dataframe\n",
        "data.head()"
      ]
    },
    {
      "cell_type": "code",
      "source": [
        "data.tail()"
      ],
      "metadata": {
        "colab": {
          "base_uri": "https://localhost:8080/",
          "height": 206
        },
        "id": "OcAM9Kfw3nxW",
        "outputId": "8126abaf-8140-4e97-e73a-d48c7fa3c203"
      },
      "execution_count": 58,
      "outputs": [
        {
          "output_type": "execute_result",
          "data": {
            "text/plain": [
              "      age  sex  cp  trestbps  chol  fbs  restecg  thalach  exang  oldpeak  \\\n",
              "1020   59    1   1       140   221    0        1      164      1      0.0   \n",
              "1021   60    1   0       125   258    0        0      141      1      2.8   \n",
              "1022   47    1   0       110   275    0        0      118      1      1.0   \n",
              "1023   50    0   0       110   254    0        0      159      0      0.0   \n",
              "1024   54    1   0       120   188    0        1      113      0      1.4   \n",
              "\n",
              "      slope  ca  thal  target  \n",
              "1020      2   0     2       1  \n",
              "1021      1   1     3       0  \n",
              "1022      1   1     2       0  \n",
              "1023      2   0     2       1  \n",
              "1024      1   1     3       0  "
            ],
            "text/html": [
              "\n",
              "  <div id=\"df-f62cc45b-4d29-4d05-a90a-f00c43f0976c\">\n",
              "    <div class=\"colab-df-container\">\n",
              "      <div>\n",
              "<style scoped>\n",
              "    .dataframe tbody tr th:only-of-type {\n",
              "        vertical-align: middle;\n",
              "    }\n",
              "\n",
              "    .dataframe tbody tr th {\n",
              "        vertical-align: top;\n",
              "    }\n",
              "\n",
              "    .dataframe thead th {\n",
              "        text-align: right;\n",
              "    }\n",
              "</style>\n",
              "<table border=\"1\" class=\"dataframe\">\n",
              "  <thead>\n",
              "    <tr style=\"text-align: right;\">\n",
              "      <th></th>\n",
              "      <th>age</th>\n",
              "      <th>sex</th>\n",
              "      <th>cp</th>\n",
              "      <th>trestbps</th>\n",
              "      <th>chol</th>\n",
              "      <th>fbs</th>\n",
              "      <th>restecg</th>\n",
              "      <th>thalach</th>\n",
              "      <th>exang</th>\n",
              "      <th>oldpeak</th>\n",
              "      <th>slope</th>\n",
              "      <th>ca</th>\n",
              "      <th>thal</th>\n",
              "      <th>target</th>\n",
              "    </tr>\n",
              "  </thead>\n",
              "  <tbody>\n",
              "    <tr>\n",
              "      <th>1020</th>\n",
              "      <td>59</td>\n",
              "      <td>1</td>\n",
              "      <td>1</td>\n",
              "      <td>140</td>\n",
              "      <td>221</td>\n",
              "      <td>0</td>\n",
              "      <td>1</td>\n",
              "      <td>164</td>\n",
              "      <td>1</td>\n",
              "      <td>0.0</td>\n",
              "      <td>2</td>\n",
              "      <td>0</td>\n",
              "      <td>2</td>\n",
              "      <td>1</td>\n",
              "    </tr>\n",
              "    <tr>\n",
              "      <th>1021</th>\n",
              "      <td>60</td>\n",
              "      <td>1</td>\n",
              "      <td>0</td>\n",
              "      <td>125</td>\n",
              "      <td>258</td>\n",
              "      <td>0</td>\n",
              "      <td>0</td>\n",
              "      <td>141</td>\n",
              "      <td>1</td>\n",
              "      <td>2.8</td>\n",
              "      <td>1</td>\n",
              "      <td>1</td>\n",
              "      <td>3</td>\n",
              "      <td>0</td>\n",
              "    </tr>\n",
              "    <tr>\n",
              "      <th>1022</th>\n",
              "      <td>47</td>\n",
              "      <td>1</td>\n",
              "      <td>0</td>\n",
              "      <td>110</td>\n",
              "      <td>275</td>\n",
              "      <td>0</td>\n",
              "      <td>0</td>\n",
              "      <td>118</td>\n",
              "      <td>1</td>\n",
              "      <td>1.0</td>\n",
              "      <td>1</td>\n",
              "      <td>1</td>\n",
              "      <td>2</td>\n",
              "      <td>0</td>\n",
              "    </tr>\n",
              "    <tr>\n",
              "      <th>1023</th>\n",
              "      <td>50</td>\n",
              "      <td>0</td>\n",
              "      <td>0</td>\n",
              "      <td>110</td>\n",
              "      <td>254</td>\n",
              "      <td>0</td>\n",
              "      <td>0</td>\n",
              "      <td>159</td>\n",
              "      <td>0</td>\n",
              "      <td>0.0</td>\n",
              "      <td>2</td>\n",
              "      <td>0</td>\n",
              "      <td>2</td>\n",
              "      <td>1</td>\n",
              "    </tr>\n",
              "    <tr>\n",
              "      <th>1024</th>\n",
              "      <td>54</td>\n",
              "      <td>1</td>\n",
              "      <td>0</td>\n",
              "      <td>120</td>\n",
              "      <td>188</td>\n",
              "      <td>0</td>\n",
              "      <td>1</td>\n",
              "      <td>113</td>\n",
              "      <td>0</td>\n",
              "      <td>1.4</td>\n",
              "      <td>1</td>\n",
              "      <td>1</td>\n",
              "      <td>3</td>\n",
              "      <td>0</td>\n",
              "    </tr>\n",
              "  </tbody>\n",
              "</table>\n",
              "</div>\n",
              "      <button class=\"colab-df-convert\" onclick=\"convertToInteractive('df-f62cc45b-4d29-4d05-a90a-f00c43f0976c')\"\n",
              "              title=\"Convert this dataframe to an interactive table.\"\n",
              "              style=\"display:none;\">\n",
              "        \n",
              "  <svg xmlns=\"http://www.w3.org/2000/svg\" height=\"24px\"viewBox=\"0 0 24 24\"\n",
              "       width=\"24px\">\n",
              "    <path d=\"M0 0h24v24H0V0z\" fill=\"none\"/>\n",
              "    <path d=\"M18.56 5.44l.94 2.06.94-2.06 2.06-.94-2.06-.94-.94-2.06-.94 2.06-2.06.94zm-11 1L8.5 8.5l.94-2.06 2.06-.94-2.06-.94L8.5 2.5l-.94 2.06-2.06.94zm10 10l.94 2.06.94-2.06 2.06-.94-2.06-.94-.94-2.06-.94 2.06-2.06.94z\"/><path d=\"M17.41 7.96l-1.37-1.37c-.4-.4-.92-.59-1.43-.59-.52 0-1.04.2-1.43.59L10.3 9.45l-7.72 7.72c-.78.78-.78 2.05 0 2.83L4 21.41c.39.39.9.59 1.41.59.51 0 1.02-.2 1.41-.59l7.78-7.78 2.81-2.81c.8-.78.8-2.07 0-2.86zM5.41 20L4 18.59l7.72-7.72 1.47 1.35L5.41 20z\"/>\n",
              "  </svg>\n",
              "      </button>\n",
              "      \n",
              "  <style>\n",
              "    .colab-df-container {\n",
              "      display:flex;\n",
              "      flex-wrap:wrap;\n",
              "      gap: 12px;\n",
              "    }\n",
              "\n",
              "    .colab-df-convert {\n",
              "      background-color: #E8F0FE;\n",
              "      border: none;\n",
              "      border-radius: 50%;\n",
              "      cursor: pointer;\n",
              "      display: none;\n",
              "      fill: #1967D2;\n",
              "      height: 32px;\n",
              "      padding: 0 0 0 0;\n",
              "      width: 32px;\n",
              "    }\n",
              "\n",
              "    .colab-df-convert:hover {\n",
              "      background-color: #E2EBFA;\n",
              "      box-shadow: 0px 1px 2px rgba(60, 64, 67, 0.3), 0px 1px 3px 1px rgba(60, 64, 67, 0.15);\n",
              "      fill: #174EA6;\n",
              "    }\n",
              "\n",
              "    [theme=dark] .colab-df-convert {\n",
              "      background-color: #3B4455;\n",
              "      fill: #D2E3FC;\n",
              "    }\n",
              "\n",
              "    [theme=dark] .colab-df-convert:hover {\n",
              "      background-color: #434B5C;\n",
              "      box-shadow: 0px 1px 3px 1px rgba(0, 0, 0, 0.15);\n",
              "      filter: drop-shadow(0px 1px 2px rgba(0, 0, 0, 0.3));\n",
              "      fill: #FFFFFF;\n",
              "    }\n",
              "  </style>\n",
              "\n",
              "      <script>\n",
              "        const buttonEl =\n",
              "          document.querySelector('#df-f62cc45b-4d29-4d05-a90a-f00c43f0976c button.colab-df-convert');\n",
              "        buttonEl.style.display =\n",
              "          google.colab.kernel.accessAllowed ? 'block' : 'none';\n",
              "\n",
              "        async function convertToInteractive(key) {\n",
              "          const element = document.querySelector('#df-f62cc45b-4d29-4d05-a90a-f00c43f0976c');\n",
              "          const dataTable =\n",
              "            await google.colab.kernel.invokeFunction('convertToInteractive',\n",
              "                                                     [key], {});\n",
              "          if (!dataTable) return;\n",
              "\n",
              "          const docLinkHtml = 'Like what you see? Visit the ' +\n",
              "            '<a target=\"_blank\" href=https://colab.research.google.com/notebooks/data_table.ipynb>data table notebook</a>'\n",
              "            + ' to learn more about interactive tables.';\n",
              "          element.innerHTML = '';\n",
              "          dataTable['output_type'] = 'display_data';\n",
              "          await google.colab.output.renderOutput(dataTable, element);\n",
              "          const docLink = document.createElement('div');\n",
              "          docLink.innerHTML = docLinkHtml;\n",
              "          element.appendChild(docLink);\n",
              "        }\n",
              "      </script>\n",
              "    </div>\n",
              "  </div>\n",
              "  "
            ]
          },
          "metadata": {},
          "execution_count": 58
        }
      ]
    },
    {
      "cell_type": "code",
      "source": [
        "data.sample(5)"
      ],
      "metadata": {
        "colab": {
          "base_uri": "https://localhost:8080/",
          "height": 206
        },
        "id": "SL_1KoRe3raL",
        "outputId": "1e251e25-7bec-4fcb-90cc-832b31125ee5"
      },
      "execution_count": 59,
      "outputs": [
        {
          "output_type": "execute_result",
          "data": {
            "text/plain": [
              "     age  sex  cp  trestbps  chol  fbs  restecg  thalach  exang  oldpeak  \\\n",
              "85    44    1   1       120   220    0        1      170      0      0.0   \n",
              "210   42    1   2       120   240    1        1      194      0      0.8   \n",
              "182   60    1   0       140   293    0        0      170      0      1.2   \n",
              "872   64    1   3       170   227    0        0      155      0      0.6   \n",
              "716   55    0   0       128   205    0        2      130      1      2.0   \n",
              "\n",
              "     slope  ca  thal  target  \n",
              "85       2   0     2       1  \n",
              "210      0   0     3       1  \n",
              "182      1   2     3       0  \n",
              "872      1   0     3       1  \n",
              "716      1   1     3       0  "
            ],
            "text/html": [
              "\n",
              "  <div id=\"df-31aaacf2-4bd7-44da-b35b-4abd5f87d353\">\n",
              "    <div class=\"colab-df-container\">\n",
              "      <div>\n",
              "<style scoped>\n",
              "    .dataframe tbody tr th:only-of-type {\n",
              "        vertical-align: middle;\n",
              "    }\n",
              "\n",
              "    .dataframe tbody tr th {\n",
              "        vertical-align: top;\n",
              "    }\n",
              "\n",
              "    .dataframe thead th {\n",
              "        text-align: right;\n",
              "    }\n",
              "</style>\n",
              "<table border=\"1\" class=\"dataframe\">\n",
              "  <thead>\n",
              "    <tr style=\"text-align: right;\">\n",
              "      <th></th>\n",
              "      <th>age</th>\n",
              "      <th>sex</th>\n",
              "      <th>cp</th>\n",
              "      <th>trestbps</th>\n",
              "      <th>chol</th>\n",
              "      <th>fbs</th>\n",
              "      <th>restecg</th>\n",
              "      <th>thalach</th>\n",
              "      <th>exang</th>\n",
              "      <th>oldpeak</th>\n",
              "      <th>slope</th>\n",
              "      <th>ca</th>\n",
              "      <th>thal</th>\n",
              "      <th>target</th>\n",
              "    </tr>\n",
              "  </thead>\n",
              "  <tbody>\n",
              "    <tr>\n",
              "      <th>85</th>\n",
              "      <td>44</td>\n",
              "      <td>1</td>\n",
              "      <td>1</td>\n",
              "      <td>120</td>\n",
              "      <td>220</td>\n",
              "      <td>0</td>\n",
              "      <td>1</td>\n",
              "      <td>170</td>\n",
              "      <td>0</td>\n",
              "      <td>0.0</td>\n",
              "      <td>2</td>\n",
              "      <td>0</td>\n",
              "      <td>2</td>\n",
              "      <td>1</td>\n",
              "    </tr>\n",
              "    <tr>\n",
              "      <th>210</th>\n",
              "      <td>42</td>\n",
              "      <td>1</td>\n",
              "      <td>2</td>\n",
              "      <td>120</td>\n",
              "      <td>240</td>\n",
              "      <td>1</td>\n",
              "      <td>1</td>\n",
              "      <td>194</td>\n",
              "      <td>0</td>\n",
              "      <td>0.8</td>\n",
              "      <td>0</td>\n",
              "      <td>0</td>\n",
              "      <td>3</td>\n",
              "      <td>1</td>\n",
              "    </tr>\n",
              "    <tr>\n",
              "      <th>182</th>\n",
              "      <td>60</td>\n",
              "      <td>1</td>\n",
              "      <td>0</td>\n",
              "      <td>140</td>\n",
              "      <td>293</td>\n",
              "      <td>0</td>\n",
              "      <td>0</td>\n",
              "      <td>170</td>\n",
              "      <td>0</td>\n",
              "      <td>1.2</td>\n",
              "      <td>1</td>\n",
              "      <td>2</td>\n",
              "      <td>3</td>\n",
              "      <td>0</td>\n",
              "    </tr>\n",
              "    <tr>\n",
              "      <th>872</th>\n",
              "      <td>64</td>\n",
              "      <td>1</td>\n",
              "      <td>3</td>\n",
              "      <td>170</td>\n",
              "      <td>227</td>\n",
              "      <td>0</td>\n",
              "      <td>0</td>\n",
              "      <td>155</td>\n",
              "      <td>0</td>\n",
              "      <td>0.6</td>\n",
              "      <td>1</td>\n",
              "      <td>0</td>\n",
              "      <td>3</td>\n",
              "      <td>1</td>\n",
              "    </tr>\n",
              "    <tr>\n",
              "      <th>716</th>\n",
              "      <td>55</td>\n",
              "      <td>0</td>\n",
              "      <td>0</td>\n",
              "      <td>128</td>\n",
              "      <td>205</td>\n",
              "      <td>0</td>\n",
              "      <td>2</td>\n",
              "      <td>130</td>\n",
              "      <td>1</td>\n",
              "      <td>2.0</td>\n",
              "      <td>1</td>\n",
              "      <td>1</td>\n",
              "      <td>3</td>\n",
              "      <td>0</td>\n",
              "    </tr>\n",
              "  </tbody>\n",
              "</table>\n",
              "</div>\n",
              "      <button class=\"colab-df-convert\" onclick=\"convertToInteractive('df-31aaacf2-4bd7-44da-b35b-4abd5f87d353')\"\n",
              "              title=\"Convert this dataframe to an interactive table.\"\n",
              "              style=\"display:none;\">\n",
              "        \n",
              "  <svg xmlns=\"http://www.w3.org/2000/svg\" height=\"24px\"viewBox=\"0 0 24 24\"\n",
              "       width=\"24px\">\n",
              "    <path d=\"M0 0h24v24H0V0z\" fill=\"none\"/>\n",
              "    <path d=\"M18.56 5.44l.94 2.06.94-2.06 2.06-.94-2.06-.94-.94-2.06-.94 2.06-2.06.94zm-11 1L8.5 8.5l.94-2.06 2.06-.94-2.06-.94L8.5 2.5l-.94 2.06-2.06.94zm10 10l.94 2.06.94-2.06 2.06-.94-2.06-.94-.94-2.06-.94 2.06-2.06.94z\"/><path d=\"M17.41 7.96l-1.37-1.37c-.4-.4-.92-.59-1.43-.59-.52 0-1.04.2-1.43.59L10.3 9.45l-7.72 7.72c-.78.78-.78 2.05 0 2.83L4 21.41c.39.39.9.59 1.41.59.51 0 1.02-.2 1.41-.59l7.78-7.78 2.81-2.81c.8-.78.8-2.07 0-2.86zM5.41 20L4 18.59l7.72-7.72 1.47 1.35L5.41 20z\"/>\n",
              "  </svg>\n",
              "      </button>\n",
              "      \n",
              "  <style>\n",
              "    .colab-df-container {\n",
              "      display:flex;\n",
              "      flex-wrap:wrap;\n",
              "      gap: 12px;\n",
              "    }\n",
              "\n",
              "    .colab-df-convert {\n",
              "      background-color: #E8F0FE;\n",
              "      border: none;\n",
              "      border-radius: 50%;\n",
              "      cursor: pointer;\n",
              "      display: none;\n",
              "      fill: #1967D2;\n",
              "      height: 32px;\n",
              "      padding: 0 0 0 0;\n",
              "      width: 32px;\n",
              "    }\n",
              "\n",
              "    .colab-df-convert:hover {\n",
              "      background-color: #E2EBFA;\n",
              "      box-shadow: 0px 1px 2px rgba(60, 64, 67, 0.3), 0px 1px 3px 1px rgba(60, 64, 67, 0.15);\n",
              "      fill: #174EA6;\n",
              "    }\n",
              "\n",
              "    [theme=dark] .colab-df-convert {\n",
              "      background-color: #3B4455;\n",
              "      fill: #D2E3FC;\n",
              "    }\n",
              "\n",
              "    [theme=dark] .colab-df-convert:hover {\n",
              "      background-color: #434B5C;\n",
              "      box-shadow: 0px 1px 3px 1px rgba(0, 0, 0, 0.15);\n",
              "      filter: drop-shadow(0px 1px 2px rgba(0, 0, 0, 0.3));\n",
              "      fill: #FFFFFF;\n",
              "    }\n",
              "  </style>\n",
              "\n",
              "      <script>\n",
              "        const buttonEl =\n",
              "          document.querySelector('#df-31aaacf2-4bd7-44da-b35b-4abd5f87d353 button.colab-df-convert');\n",
              "        buttonEl.style.display =\n",
              "          google.colab.kernel.accessAllowed ? 'block' : 'none';\n",
              "\n",
              "        async function convertToInteractive(key) {\n",
              "          const element = document.querySelector('#df-31aaacf2-4bd7-44da-b35b-4abd5f87d353');\n",
              "          const dataTable =\n",
              "            await google.colab.kernel.invokeFunction('convertToInteractive',\n",
              "                                                     [key], {});\n",
              "          if (!dataTable) return;\n",
              "\n",
              "          const docLinkHtml = 'Like what you see? Visit the ' +\n",
              "            '<a target=\"_blank\" href=https://colab.research.google.com/notebooks/data_table.ipynb>data table notebook</a>'\n",
              "            + ' to learn more about interactive tables.';\n",
              "          element.innerHTML = '';\n",
              "          dataTable['output_type'] = 'display_data';\n",
              "          await google.colab.output.renderOutput(dataTable, element);\n",
              "          const docLink = document.createElement('div');\n",
              "          docLink.innerHTML = docLinkHtml;\n",
              "          element.appendChild(docLink);\n",
              "        }\n",
              "      </script>\n",
              "    </div>\n",
              "  </div>\n",
              "  "
            ]
          },
          "metadata": {},
          "execution_count": 59
        }
      ]
    },
    {
      "cell_type": "code",
      "execution_count": 60,
      "metadata": {
        "colab": {
          "base_uri": "https://localhost:8080/"
        },
        "id": "cK7L_o2TDuZb",
        "outputId": "6f5dd3de-84ee-4f29-fddd-b98849f65ae8"
      },
      "outputs": [
        {
          "output_type": "execute_result",
          "data": {
            "text/plain": [
              "(1025, 14)"
            ]
          },
          "metadata": {},
          "execution_count": 60
        }
      ],
      "source": [
        "# number of rows and columns in the dataframe\n",
        "data.shape"
      ]
    },
    {
      "cell_type": "code",
      "source": [
        "data.columns"
      ],
      "metadata": {
        "id": "V9EQyzNpiyVn",
        "outputId": "f1f1ed5a-a549-4fdc-f298-3455eb8ec7b8",
        "colab": {
          "base_uri": "https://localhost:8080/"
        }
      },
      "execution_count": 61,
      "outputs": [
        {
          "output_type": "execute_result",
          "data": {
            "text/plain": [
              "Index(['age', 'sex', 'cp', 'trestbps', 'chol', 'fbs', 'restecg', 'thalach',\n",
              "       'exang', 'oldpeak', 'slope', 'ca', 'thal', 'target'],\n",
              "      dtype='object')"
            ]
          },
          "metadata": {},
          "execution_count": 61
        }
      ]
    },
    {
      "cell_type": "code",
      "execution_count": 62,
      "metadata": {
        "colab": {
          "base_uri": "https://localhost:8080/"
        },
        "id": "NLmzHIgnEGi4",
        "outputId": "450bf256-e052-4d01-facf-23d852f8a344"
      },
      "outputs": [
        {
          "output_type": "stream",
          "name": "stdout",
          "text": [
            "<class 'pandas.core.frame.DataFrame'>\n",
            "RangeIndex: 1025 entries, 0 to 1024\n",
            "Data columns (total 14 columns):\n",
            " #   Column    Non-Null Count  Dtype  \n",
            "---  ------    --------------  -----  \n",
            " 0   age       1025 non-null   int64  \n",
            " 1   sex       1025 non-null   int64  \n",
            " 2   cp        1025 non-null   int64  \n",
            " 3   trestbps  1025 non-null   int64  \n",
            " 4   chol      1025 non-null   int64  \n",
            " 5   fbs       1025 non-null   int64  \n",
            " 6   restecg   1025 non-null   int64  \n",
            " 7   thalach   1025 non-null   int64  \n",
            " 8   exang     1025 non-null   int64  \n",
            " 9   oldpeak   1025 non-null   float64\n",
            " 10  slope     1025 non-null   int64  \n",
            " 11  ca        1025 non-null   int64  \n",
            " 12  thal      1025 non-null   int64  \n",
            " 13  target    1025 non-null   int64  \n",
            "dtypes: float64(1), int64(13)\n",
            "memory usage: 112.2 KB\n"
          ]
        }
      ],
      "source": [
        "# getting more information about the dataset\n",
        "data.info()"
      ]
    },
    {
      "cell_type": "code",
      "execution_count": 63,
      "metadata": {
        "colab": {
          "base_uri": "https://localhost:8080/"
        },
        "id": "70rgu_k4ET9F",
        "outputId": "20b49c6a-5cf9-44dc-debd-fd907bc871d1"
      },
      "outputs": [
        {
          "output_type": "execute_result",
          "data": {
            "text/plain": [
              "age         0\n",
              "sex         0\n",
              "cp          0\n",
              "trestbps    0\n",
              "chol        0\n",
              "fbs         0\n",
              "restecg     0\n",
              "thalach     0\n",
              "exang       0\n",
              "oldpeak     0\n",
              "slope       0\n",
              "ca          0\n",
              "thal        0\n",
              "target      0\n",
              "dtype: int64"
            ]
          },
          "metadata": {},
          "execution_count": 63
        }
      ],
      "source": [
        "# checking for missing values in each column\n",
        "data.isnull().sum()"
      ]
    },
    {
      "cell_type": "code",
      "execution_count": 64,
      "metadata": {
        "colab": {
          "base_uri": "https://localhost:8080/",
          "height": 344
        },
        "id": "1AxFu0-nEhSA",
        "outputId": "b5db07ee-dafa-4ec8-845c-dccfc86ca90e"
      },
      "outputs": [
        {
          "output_type": "execute_result",
          "data": {
            "text/plain": [
              "               age          sex           cp     trestbps        chol  \\\n",
              "count  1025.000000  1025.000000  1025.000000  1025.000000  1025.00000   \n",
              "mean     54.434146     0.695610     0.942439   131.611707   246.00000   \n",
              "std       9.072290     0.460373     1.029641    17.516718    51.59251   \n",
              "min      29.000000     0.000000     0.000000    94.000000   126.00000   \n",
              "25%      48.000000     0.000000     0.000000   120.000000   211.00000   \n",
              "50%      56.000000     1.000000     1.000000   130.000000   240.00000   \n",
              "75%      61.000000     1.000000     2.000000   140.000000   275.00000   \n",
              "max      77.000000     1.000000     3.000000   200.000000   564.00000   \n",
              "\n",
              "               fbs      restecg      thalach        exang      oldpeak  \\\n",
              "count  1025.000000  1025.000000  1025.000000  1025.000000  1025.000000   \n",
              "mean      0.149268     0.529756   149.114146     0.336585     1.071512   \n",
              "std       0.356527     0.527878    23.005724     0.472772     1.175053   \n",
              "min       0.000000     0.000000    71.000000     0.000000     0.000000   \n",
              "25%       0.000000     0.000000   132.000000     0.000000     0.000000   \n",
              "50%       0.000000     1.000000   152.000000     0.000000     0.800000   \n",
              "75%       0.000000     1.000000   166.000000     1.000000     1.800000   \n",
              "max       1.000000     2.000000   202.000000     1.000000     6.200000   \n",
              "\n",
              "             slope           ca         thal       target  \n",
              "count  1025.000000  1025.000000  1025.000000  1025.000000  \n",
              "mean      1.385366     0.754146     2.323902     0.513171  \n",
              "std       0.617755     1.030798     0.620660     0.500070  \n",
              "min       0.000000     0.000000     0.000000     0.000000  \n",
              "25%       1.000000     0.000000     2.000000     0.000000  \n",
              "50%       1.000000     0.000000     2.000000     1.000000  \n",
              "75%       2.000000     1.000000     3.000000     1.000000  \n",
              "max       2.000000     4.000000     3.000000     1.000000  "
            ],
            "text/html": [
              "\n",
              "  <div id=\"df-fa3a873d-ec9c-434a-93f9-7338e8f5835a\">\n",
              "    <div class=\"colab-df-container\">\n",
              "      <div>\n",
              "<style scoped>\n",
              "    .dataframe tbody tr th:only-of-type {\n",
              "        vertical-align: middle;\n",
              "    }\n",
              "\n",
              "    .dataframe tbody tr th {\n",
              "        vertical-align: top;\n",
              "    }\n",
              "\n",
              "    .dataframe thead th {\n",
              "        text-align: right;\n",
              "    }\n",
              "</style>\n",
              "<table border=\"1\" class=\"dataframe\">\n",
              "  <thead>\n",
              "    <tr style=\"text-align: right;\">\n",
              "      <th></th>\n",
              "      <th>age</th>\n",
              "      <th>sex</th>\n",
              "      <th>cp</th>\n",
              "      <th>trestbps</th>\n",
              "      <th>chol</th>\n",
              "      <th>fbs</th>\n",
              "      <th>restecg</th>\n",
              "      <th>thalach</th>\n",
              "      <th>exang</th>\n",
              "      <th>oldpeak</th>\n",
              "      <th>slope</th>\n",
              "      <th>ca</th>\n",
              "      <th>thal</th>\n",
              "      <th>target</th>\n",
              "    </tr>\n",
              "  </thead>\n",
              "  <tbody>\n",
              "    <tr>\n",
              "      <th>count</th>\n",
              "      <td>1025.000000</td>\n",
              "      <td>1025.000000</td>\n",
              "      <td>1025.000000</td>\n",
              "      <td>1025.000000</td>\n",
              "      <td>1025.00000</td>\n",
              "      <td>1025.000000</td>\n",
              "      <td>1025.000000</td>\n",
              "      <td>1025.000000</td>\n",
              "      <td>1025.000000</td>\n",
              "      <td>1025.000000</td>\n",
              "      <td>1025.000000</td>\n",
              "      <td>1025.000000</td>\n",
              "      <td>1025.000000</td>\n",
              "      <td>1025.000000</td>\n",
              "    </tr>\n",
              "    <tr>\n",
              "      <th>mean</th>\n",
              "      <td>54.434146</td>\n",
              "      <td>0.695610</td>\n",
              "      <td>0.942439</td>\n",
              "      <td>131.611707</td>\n",
              "      <td>246.00000</td>\n",
              "      <td>0.149268</td>\n",
              "      <td>0.529756</td>\n",
              "      <td>149.114146</td>\n",
              "      <td>0.336585</td>\n",
              "      <td>1.071512</td>\n",
              "      <td>1.385366</td>\n",
              "      <td>0.754146</td>\n",
              "      <td>2.323902</td>\n",
              "      <td>0.513171</td>\n",
              "    </tr>\n",
              "    <tr>\n",
              "      <th>std</th>\n",
              "      <td>9.072290</td>\n",
              "      <td>0.460373</td>\n",
              "      <td>1.029641</td>\n",
              "      <td>17.516718</td>\n",
              "      <td>51.59251</td>\n",
              "      <td>0.356527</td>\n",
              "      <td>0.527878</td>\n",
              "      <td>23.005724</td>\n",
              "      <td>0.472772</td>\n",
              "      <td>1.175053</td>\n",
              "      <td>0.617755</td>\n",
              "      <td>1.030798</td>\n",
              "      <td>0.620660</td>\n",
              "      <td>0.500070</td>\n",
              "    </tr>\n",
              "    <tr>\n",
              "      <th>min</th>\n",
              "      <td>29.000000</td>\n",
              "      <td>0.000000</td>\n",
              "      <td>0.000000</td>\n",
              "      <td>94.000000</td>\n",
              "      <td>126.00000</td>\n",
              "      <td>0.000000</td>\n",
              "      <td>0.000000</td>\n",
              "      <td>71.000000</td>\n",
              "      <td>0.000000</td>\n",
              "      <td>0.000000</td>\n",
              "      <td>0.000000</td>\n",
              "      <td>0.000000</td>\n",
              "      <td>0.000000</td>\n",
              "      <td>0.000000</td>\n",
              "    </tr>\n",
              "    <tr>\n",
              "      <th>25%</th>\n",
              "      <td>48.000000</td>\n",
              "      <td>0.000000</td>\n",
              "      <td>0.000000</td>\n",
              "      <td>120.000000</td>\n",
              "      <td>211.00000</td>\n",
              "      <td>0.000000</td>\n",
              "      <td>0.000000</td>\n",
              "      <td>132.000000</td>\n",
              "      <td>0.000000</td>\n",
              "      <td>0.000000</td>\n",
              "      <td>1.000000</td>\n",
              "      <td>0.000000</td>\n",
              "      <td>2.000000</td>\n",
              "      <td>0.000000</td>\n",
              "    </tr>\n",
              "    <tr>\n",
              "      <th>50%</th>\n",
              "      <td>56.000000</td>\n",
              "      <td>1.000000</td>\n",
              "      <td>1.000000</td>\n",
              "      <td>130.000000</td>\n",
              "      <td>240.00000</td>\n",
              "      <td>0.000000</td>\n",
              "      <td>1.000000</td>\n",
              "      <td>152.000000</td>\n",
              "      <td>0.000000</td>\n",
              "      <td>0.800000</td>\n",
              "      <td>1.000000</td>\n",
              "      <td>0.000000</td>\n",
              "      <td>2.000000</td>\n",
              "      <td>1.000000</td>\n",
              "    </tr>\n",
              "    <tr>\n",
              "      <th>75%</th>\n",
              "      <td>61.000000</td>\n",
              "      <td>1.000000</td>\n",
              "      <td>2.000000</td>\n",
              "      <td>140.000000</td>\n",
              "      <td>275.00000</td>\n",
              "      <td>0.000000</td>\n",
              "      <td>1.000000</td>\n",
              "      <td>166.000000</td>\n",
              "      <td>1.000000</td>\n",
              "      <td>1.800000</td>\n",
              "      <td>2.000000</td>\n",
              "      <td>1.000000</td>\n",
              "      <td>3.000000</td>\n",
              "      <td>1.000000</td>\n",
              "    </tr>\n",
              "    <tr>\n",
              "      <th>max</th>\n",
              "      <td>77.000000</td>\n",
              "      <td>1.000000</td>\n",
              "      <td>3.000000</td>\n",
              "      <td>200.000000</td>\n",
              "      <td>564.00000</td>\n",
              "      <td>1.000000</td>\n",
              "      <td>2.000000</td>\n",
              "      <td>202.000000</td>\n",
              "      <td>1.000000</td>\n",
              "      <td>6.200000</td>\n",
              "      <td>2.000000</td>\n",
              "      <td>4.000000</td>\n",
              "      <td>3.000000</td>\n",
              "      <td>1.000000</td>\n",
              "    </tr>\n",
              "  </tbody>\n",
              "</table>\n",
              "</div>\n",
              "      <button class=\"colab-df-convert\" onclick=\"convertToInteractive('df-fa3a873d-ec9c-434a-93f9-7338e8f5835a')\"\n",
              "              title=\"Convert this dataframe to an interactive table.\"\n",
              "              style=\"display:none;\">\n",
              "        \n",
              "  <svg xmlns=\"http://www.w3.org/2000/svg\" height=\"24px\"viewBox=\"0 0 24 24\"\n",
              "       width=\"24px\">\n",
              "    <path d=\"M0 0h24v24H0V0z\" fill=\"none\"/>\n",
              "    <path d=\"M18.56 5.44l.94 2.06.94-2.06 2.06-.94-2.06-.94-.94-2.06-.94 2.06-2.06.94zm-11 1L8.5 8.5l.94-2.06 2.06-.94-2.06-.94L8.5 2.5l-.94 2.06-2.06.94zm10 10l.94 2.06.94-2.06 2.06-.94-2.06-.94-.94-2.06-.94 2.06-2.06.94z\"/><path d=\"M17.41 7.96l-1.37-1.37c-.4-.4-.92-.59-1.43-.59-.52 0-1.04.2-1.43.59L10.3 9.45l-7.72 7.72c-.78.78-.78 2.05 0 2.83L4 21.41c.39.39.9.59 1.41.59.51 0 1.02-.2 1.41-.59l7.78-7.78 2.81-2.81c.8-.78.8-2.07 0-2.86zM5.41 20L4 18.59l7.72-7.72 1.47 1.35L5.41 20z\"/>\n",
              "  </svg>\n",
              "      </button>\n",
              "      \n",
              "  <style>\n",
              "    .colab-df-container {\n",
              "      display:flex;\n",
              "      flex-wrap:wrap;\n",
              "      gap: 12px;\n",
              "    }\n",
              "\n",
              "    .colab-df-convert {\n",
              "      background-color: #E8F0FE;\n",
              "      border: none;\n",
              "      border-radius: 50%;\n",
              "      cursor: pointer;\n",
              "      display: none;\n",
              "      fill: #1967D2;\n",
              "      height: 32px;\n",
              "      padding: 0 0 0 0;\n",
              "      width: 32px;\n",
              "    }\n",
              "\n",
              "    .colab-df-convert:hover {\n",
              "      background-color: #E2EBFA;\n",
              "      box-shadow: 0px 1px 2px rgba(60, 64, 67, 0.3), 0px 1px 3px 1px rgba(60, 64, 67, 0.15);\n",
              "      fill: #174EA6;\n",
              "    }\n",
              "\n",
              "    [theme=dark] .colab-df-convert {\n",
              "      background-color: #3B4455;\n",
              "      fill: #D2E3FC;\n",
              "    }\n",
              "\n",
              "    [theme=dark] .colab-df-convert:hover {\n",
              "      background-color: #434B5C;\n",
              "      box-shadow: 0px 1px 3px 1px rgba(0, 0, 0, 0.15);\n",
              "      filter: drop-shadow(0px 1px 2px rgba(0, 0, 0, 0.3));\n",
              "      fill: #FFFFFF;\n",
              "    }\n",
              "  </style>\n",
              "\n",
              "      <script>\n",
              "        const buttonEl =\n",
              "          document.querySelector('#df-fa3a873d-ec9c-434a-93f9-7338e8f5835a button.colab-df-convert');\n",
              "        buttonEl.style.display =\n",
              "          google.colab.kernel.accessAllowed ? 'block' : 'none';\n",
              "\n",
              "        async function convertToInteractive(key) {\n",
              "          const element = document.querySelector('#df-fa3a873d-ec9c-434a-93f9-7338e8f5835a');\n",
              "          const dataTable =\n",
              "            await google.colab.kernel.invokeFunction('convertToInteractive',\n",
              "                                                     [key], {});\n",
              "          if (!dataTable) return;\n",
              "\n",
              "          const docLinkHtml = 'Like what you see? Visit the ' +\n",
              "            '<a target=\"_blank\" href=https://colab.research.google.com/notebooks/data_table.ipynb>data table notebook</a>'\n",
              "            + ' to learn more about interactive tables.';\n",
              "          element.innerHTML = '';\n",
              "          dataTable['output_type'] = 'display_data';\n",
              "          await google.colab.output.renderOutput(dataTable, element);\n",
              "          const docLink = document.createElement('div');\n",
              "          docLink.innerHTML = docLinkHtml;\n",
              "          element.appendChild(docLink);\n",
              "        }\n",
              "      </script>\n",
              "    </div>\n",
              "  </div>\n",
              "  "
            ]
          },
          "metadata": {},
          "execution_count": 64
        }
      ],
      "source": [
        "# getting some statistical measures about the data\n",
        "data.describe()"
      ]
    },
    {
      "cell_type": "code",
      "execution_count": 65,
      "metadata": {
        "colab": {
          "base_uri": "https://localhost:8080/"
        },
        "id": "3O8AclzwExyH",
        "outputId": "82650737-1ca1-4160-ee9c-e02a7d830ced"
      },
      "outputs": [
        {
          "output_type": "execute_result",
          "data": {
            "text/plain": [
              "1    526\n",
              "0    499\n",
              "Name: target, dtype: int64"
            ]
          },
          "metadata": {},
          "execution_count": 65
        }
      ],
      "source": [
        "# distribution of target Variable\n",
        "data['target'].value_counts()"
      ]
    },
    {
      "cell_type": "markdown",
      "metadata": {
        "id": "L1srlxtEFYfN"
      },
      "source": [
        "1  --> Patient has a heart disease\n",
        "\n",
        "0 --> Healthy\n"
      ]
    },
    {
      "cell_type": "code",
      "execution_count": 66,
      "metadata": {
        "colab": {
          "base_uri": "https://localhost:8080/",
          "height": 143
        },
        "id": "zUrPan7CFTMq",
        "outputId": "eba2c12e-c03a-485d-d10d-df51ded530a8"
      },
      "outputs": [
        {
          "output_type": "execute_result",
          "data": {
            "text/plain": [
              "              age       sex        cp    trestbps        chol       fbs  \\\n",
              "target                                                                    \n",
              "0       56.569138  0.827655  0.482966  134.106212  251.292585  0.164329   \n",
              "1       52.408745  0.570342  1.378327  129.245247  240.979087  0.134981   \n",
              "\n",
              "         restecg     thalach     exang   oldpeak     slope        ca      thal  \n",
              "target                                                                          \n",
              "0       0.456914  139.130261  0.549098  1.600200  1.166333  1.158317  2.539078  \n",
              "1       0.598859  158.585551  0.134981  0.569962  1.593156  0.370722  2.119772  "
            ],
            "text/html": [
              "\n",
              "  <div id=\"df-54b10483-1fa2-48f2-b6ab-edbae8f627e5\">\n",
              "    <div class=\"colab-df-container\">\n",
              "      <div>\n",
              "<style scoped>\n",
              "    .dataframe tbody tr th:only-of-type {\n",
              "        vertical-align: middle;\n",
              "    }\n",
              "\n",
              "    .dataframe tbody tr th {\n",
              "        vertical-align: top;\n",
              "    }\n",
              "\n",
              "    .dataframe thead th {\n",
              "        text-align: right;\n",
              "    }\n",
              "</style>\n",
              "<table border=\"1\" class=\"dataframe\">\n",
              "  <thead>\n",
              "    <tr style=\"text-align: right;\">\n",
              "      <th></th>\n",
              "      <th>age</th>\n",
              "      <th>sex</th>\n",
              "      <th>cp</th>\n",
              "      <th>trestbps</th>\n",
              "      <th>chol</th>\n",
              "      <th>fbs</th>\n",
              "      <th>restecg</th>\n",
              "      <th>thalach</th>\n",
              "      <th>exang</th>\n",
              "      <th>oldpeak</th>\n",
              "      <th>slope</th>\n",
              "      <th>ca</th>\n",
              "      <th>thal</th>\n",
              "    </tr>\n",
              "    <tr>\n",
              "      <th>target</th>\n",
              "      <th></th>\n",
              "      <th></th>\n",
              "      <th></th>\n",
              "      <th></th>\n",
              "      <th></th>\n",
              "      <th></th>\n",
              "      <th></th>\n",
              "      <th></th>\n",
              "      <th></th>\n",
              "      <th></th>\n",
              "      <th></th>\n",
              "      <th></th>\n",
              "      <th></th>\n",
              "    </tr>\n",
              "  </thead>\n",
              "  <tbody>\n",
              "    <tr>\n",
              "      <th>0</th>\n",
              "      <td>56.569138</td>\n",
              "      <td>0.827655</td>\n",
              "      <td>0.482966</td>\n",
              "      <td>134.106212</td>\n",
              "      <td>251.292585</td>\n",
              "      <td>0.164329</td>\n",
              "      <td>0.456914</td>\n",
              "      <td>139.130261</td>\n",
              "      <td>0.549098</td>\n",
              "      <td>1.600200</td>\n",
              "      <td>1.166333</td>\n",
              "      <td>1.158317</td>\n",
              "      <td>2.539078</td>\n",
              "    </tr>\n",
              "    <tr>\n",
              "      <th>1</th>\n",
              "      <td>52.408745</td>\n",
              "      <td>0.570342</td>\n",
              "      <td>1.378327</td>\n",
              "      <td>129.245247</td>\n",
              "      <td>240.979087</td>\n",
              "      <td>0.134981</td>\n",
              "      <td>0.598859</td>\n",
              "      <td>158.585551</td>\n",
              "      <td>0.134981</td>\n",
              "      <td>0.569962</td>\n",
              "      <td>1.593156</td>\n",
              "      <td>0.370722</td>\n",
              "      <td>2.119772</td>\n",
              "    </tr>\n",
              "  </tbody>\n",
              "</table>\n",
              "</div>\n",
              "      <button class=\"colab-df-convert\" onclick=\"convertToInteractive('df-54b10483-1fa2-48f2-b6ab-edbae8f627e5')\"\n",
              "              title=\"Convert this dataframe to an interactive table.\"\n",
              "              style=\"display:none;\">\n",
              "        \n",
              "  <svg xmlns=\"http://www.w3.org/2000/svg\" height=\"24px\"viewBox=\"0 0 24 24\"\n",
              "       width=\"24px\">\n",
              "    <path d=\"M0 0h24v24H0V0z\" fill=\"none\"/>\n",
              "    <path d=\"M18.56 5.44l.94 2.06.94-2.06 2.06-.94-2.06-.94-.94-2.06-.94 2.06-2.06.94zm-11 1L8.5 8.5l.94-2.06 2.06-.94-2.06-.94L8.5 2.5l-.94 2.06-2.06.94zm10 10l.94 2.06.94-2.06 2.06-.94-2.06-.94-.94-2.06-.94 2.06-2.06.94z\"/><path d=\"M17.41 7.96l-1.37-1.37c-.4-.4-.92-.59-1.43-.59-.52 0-1.04.2-1.43.59L10.3 9.45l-7.72 7.72c-.78.78-.78 2.05 0 2.83L4 21.41c.39.39.9.59 1.41.59.51 0 1.02-.2 1.41-.59l7.78-7.78 2.81-2.81c.8-.78.8-2.07 0-2.86zM5.41 20L4 18.59l7.72-7.72 1.47 1.35L5.41 20z\"/>\n",
              "  </svg>\n",
              "      </button>\n",
              "      \n",
              "  <style>\n",
              "    .colab-df-container {\n",
              "      display:flex;\n",
              "      flex-wrap:wrap;\n",
              "      gap: 12px;\n",
              "    }\n",
              "\n",
              "    .colab-df-convert {\n",
              "      background-color: #E8F0FE;\n",
              "      border: none;\n",
              "      border-radius: 50%;\n",
              "      cursor: pointer;\n",
              "      display: none;\n",
              "      fill: #1967D2;\n",
              "      height: 32px;\n",
              "      padding: 0 0 0 0;\n",
              "      width: 32px;\n",
              "    }\n",
              "\n",
              "    .colab-df-convert:hover {\n",
              "      background-color: #E2EBFA;\n",
              "      box-shadow: 0px 1px 2px rgba(60, 64, 67, 0.3), 0px 1px 3px 1px rgba(60, 64, 67, 0.15);\n",
              "      fill: #174EA6;\n",
              "    }\n",
              "\n",
              "    [theme=dark] .colab-df-convert {\n",
              "      background-color: #3B4455;\n",
              "      fill: #D2E3FC;\n",
              "    }\n",
              "\n",
              "    [theme=dark] .colab-df-convert:hover {\n",
              "      background-color: #434B5C;\n",
              "      box-shadow: 0px 1px 3px 1px rgba(0, 0, 0, 0.15);\n",
              "      filter: drop-shadow(0px 1px 2px rgba(0, 0, 0, 0.3));\n",
              "      fill: #FFFFFF;\n",
              "    }\n",
              "  </style>\n",
              "\n",
              "      <script>\n",
              "        const buttonEl =\n",
              "          document.querySelector('#df-54b10483-1fa2-48f2-b6ab-edbae8f627e5 button.colab-df-convert');\n",
              "        buttonEl.style.display =\n",
              "          google.colab.kernel.accessAllowed ? 'block' : 'none';\n",
              "\n",
              "        async function convertToInteractive(key) {\n",
              "          const element = document.querySelector('#df-54b10483-1fa2-48f2-b6ab-edbae8f627e5');\n",
              "          const dataTable =\n",
              "            await google.colab.kernel.invokeFunction('convertToInteractive',\n",
              "                                                     [key], {});\n",
              "          if (!dataTable) return;\n",
              "\n",
              "          const docLinkHtml = 'Like what you see? Visit the ' +\n",
              "            '<a target=\"_blank\" href=https://colab.research.google.com/notebooks/data_table.ipynb>data table notebook</a>'\n",
              "            + ' to learn more about interactive tables.';\n",
              "          element.innerHTML = '';\n",
              "          dataTable['output_type'] = 'display_data';\n",
              "          await google.colab.output.renderOutput(dataTable, element);\n",
              "          const docLink = document.createElement('div');\n",
              "          docLink.innerHTML = docLinkHtml;\n",
              "          element.appendChild(docLink);\n",
              "        }\n",
              "      </script>\n",
              "    </div>\n",
              "  </div>\n",
              "  "
            ]
          },
          "metadata": {},
          "execution_count": 66
        }
      ],
      "source": [
        "# grouping the data bas3ed on the target variable\n",
        "data.groupby('target').mean()"
      ]
    },
    {
      "cell_type": "markdown",
      "metadata": {
        "id": "8RY6c0waGSs7"
      },
      "source": [
        "# Data Pre-Processing"
      ]
    },
    {
      "cell_type": "code",
      "execution_count": 67,
      "metadata": {
        "colab": {
          "base_uri": "https://localhost:8080/",
          "height": 488
        },
        "id": "5-BpSfLDCbn-",
        "outputId": "6d27e4aa-b598-4086-fca5-63412eef3b65"
      },
      "outputs": [
        {
          "output_type": "execute_result",
          "data": {
            "text/plain": [
              "               age       sex        cp  trestbps      chol       fbs  \\\n",
              "age       1.000000 -0.103240 -0.071966  0.271121  0.219823  0.121243   \n",
              "sex      -0.103240  1.000000 -0.041119 -0.078974 -0.198258  0.027200   \n",
              "cp       -0.071966 -0.041119  1.000000  0.038177 -0.081641  0.079294   \n",
              "trestbps  0.271121 -0.078974  0.038177  1.000000  0.127977  0.181767   \n",
              "chol      0.219823 -0.198258 -0.081641  0.127977  1.000000  0.026917   \n",
              "fbs       0.121243  0.027200  0.079294  0.181767  0.026917  1.000000   \n",
              "restecg  -0.132696 -0.055117  0.043581 -0.123794 -0.147410 -0.104051   \n",
              "thalach  -0.390227 -0.049365  0.306839 -0.039264 -0.021772 -0.008866   \n",
              "exang     0.088163  0.139157 -0.401513  0.061197  0.067382  0.049261   \n",
              "oldpeak   0.208137  0.084687 -0.174733  0.187434  0.064880  0.010859   \n",
              "slope    -0.169105 -0.026666  0.131633 -0.120445 -0.014248 -0.061902   \n",
              "ca        0.271551  0.111729 -0.176206  0.104554  0.074259  0.137156   \n",
              "thal      0.072297  0.198424 -0.163341  0.059276  0.100244 -0.042177   \n",
              "target   -0.229324 -0.279501  0.434854 -0.138772 -0.099966 -0.041164   \n",
              "\n",
              "           restecg   thalach     exang   oldpeak     slope        ca  \\\n",
              "age      -0.132696 -0.390227  0.088163  0.208137 -0.169105  0.271551   \n",
              "sex      -0.055117 -0.049365  0.139157  0.084687 -0.026666  0.111729   \n",
              "cp        0.043581  0.306839 -0.401513 -0.174733  0.131633 -0.176206   \n",
              "trestbps -0.123794 -0.039264  0.061197  0.187434 -0.120445  0.104554   \n",
              "chol     -0.147410 -0.021772  0.067382  0.064880 -0.014248  0.074259   \n",
              "fbs      -0.104051 -0.008866  0.049261  0.010859 -0.061902  0.137156   \n",
              "restecg   1.000000  0.048411 -0.065606 -0.050114  0.086086 -0.078072   \n",
              "thalach   0.048411  1.000000 -0.380281 -0.349796  0.395308 -0.207888   \n",
              "exang    -0.065606 -0.380281  1.000000  0.310844 -0.267335  0.107849   \n",
              "oldpeak  -0.050114 -0.349796  0.310844  1.000000 -0.575189  0.221816   \n",
              "slope     0.086086  0.395308 -0.267335 -0.575189  1.000000 -0.073440   \n",
              "ca       -0.078072 -0.207888  0.107849  0.221816 -0.073440  1.000000   \n",
              "thal     -0.020504 -0.098068  0.197201  0.202672 -0.094090  0.149014   \n",
              "target    0.134468  0.422895 -0.438029 -0.438441  0.345512 -0.382085   \n",
              "\n",
              "              thal    target  \n",
              "age       0.072297 -0.229324  \n",
              "sex       0.198424 -0.279501  \n",
              "cp       -0.163341  0.434854  \n",
              "trestbps  0.059276 -0.138772  \n",
              "chol      0.100244 -0.099966  \n",
              "fbs      -0.042177 -0.041164  \n",
              "restecg  -0.020504  0.134468  \n",
              "thalach  -0.098068  0.422895  \n",
              "exang     0.197201 -0.438029  \n",
              "oldpeak   0.202672 -0.438441  \n",
              "slope    -0.094090  0.345512  \n",
              "ca        0.149014 -0.382085  \n",
              "thal      1.000000 -0.337838  \n",
              "target   -0.337838  1.000000  "
            ],
            "text/html": [
              "\n",
              "  <div id=\"df-8d0f2a8d-7ec9-428f-857e-f36899f0692b\">\n",
              "    <div class=\"colab-df-container\">\n",
              "      <div>\n",
              "<style scoped>\n",
              "    .dataframe tbody tr th:only-of-type {\n",
              "        vertical-align: middle;\n",
              "    }\n",
              "\n",
              "    .dataframe tbody tr th {\n",
              "        vertical-align: top;\n",
              "    }\n",
              "\n",
              "    .dataframe thead th {\n",
              "        text-align: right;\n",
              "    }\n",
              "</style>\n",
              "<table border=\"1\" class=\"dataframe\">\n",
              "  <thead>\n",
              "    <tr style=\"text-align: right;\">\n",
              "      <th></th>\n",
              "      <th>age</th>\n",
              "      <th>sex</th>\n",
              "      <th>cp</th>\n",
              "      <th>trestbps</th>\n",
              "      <th>chol</th>\n",
              "      <th>fbs</th>\n",
              "      <th>restecg</th>\n",
              "      <th>thalach</th>\n",
              "      <th>exang</th>\n",
              "      <th>oldpeak</th>\n",
              "      <th>slope</th>\n",
              "      <th>ca</th>\n",
              "      <th>thal</th>\n",
              "      <th>target</th>\n",
              "    </tr>\n",
              "  </thead>\n",
              "  <tbody>\n",
              "    <tr>\n",
              "      <th>age</th>\n",
              "      <td>1.000000</td>\n",
              "      <td>-0.103240</td>\n",
              "      <td>-0.071966</td>\n",
              "      <td>0.271121</td>\n",
              "      <td>0.219823</td>\n",
              "      <td>0.121243</td>\n",
              "      <td>-0.132696</td>\n",
              "      <td>-0.390227</td>\n",
              "      <td>0.088163</td>\n",
              "      <td>0.208137</td>\n",
              "      <td>-0.169105</td>\n",
              "      <td>0.271551</td>\n",
              "      <td>0.072297</td>\n",
              "      <td>-0.229324</td>\n",
              "    </tr>\n",
              "    <tr>\n",
              "      <th>sex</th>\n",
              "      <td>-0.103240</td>\n",
              "      <td>1.000000</td>\n",
              "      <td>-0.041119</td>\n",
              "      <td>-0.078974</td>\n",
              "      <td>-0.198258</td>\n",
              "      <td>0.027200</td>\n",
              "      <td>-0.055117</td>\n",
              "      <td>-0.049365</td>\n",
              "      <td>0.139157</td>\n",
              "      <td>0.084687</td>\n",
              "      <td>-0.026666</td>\n",
              "      <td>0.111729</td>\n",
              "      <td>0.198424</td>\n",
              "      <td>-0.279501</td>\n",
              "    </tr>\n",
              "    <tr>\n",
              "      <th>cp</th>\n",
              "      <td>-0.071966</td>\n",
              "      <td>-0.041119</td>\n",
              "      <td>1.000000</td>\n",
              "      <td>0.038177</td>\n",
              "      <td>-0.081641</td>\n",
              "      <td>0.079294</td>\n",
              "      <td>0.043581</td>\n",
              "      <td>0.306839</td>\n",
              "      <td>-0.401513</td>\n",
              "      <td>-0.174733</td>\n",
              "      <td>0.131633</td>\n",
              "      <td>-0.176206</td>\n",
              "      <td>-0.163341</td>\n",
              "      <td>0.434854</td>\n",
              "    </tr>\n",
              "    <tr>\n",
              "      <th>trestbps</th>\n",
              "      <td>0.271121</td>\n",
              "      <td>-0.078974</td>\n",
              "      <td>0.038177</td>\n",
              "      <td>1.000000</td>\n",
              "      <td>0.127977</td>\n",
              "      <td>0.181767</td>\n",
              "      <td>-0.123794</td>\n",
              "      <td>-0.039264</td>\n",
              "      <td>0.061197</td>\n",
              "      <td>0.187434</td>\n",
              "      <td>-0.120445</td>\n",
              "      <td>0.104554</td>\n",
              "      <td>0.059276</td>\n",
              "      <td>-0.138772</td>\n",
              "    </tr>\n",
              "    <tr>\n",
              "      <th>chol</th>\n",
              "      <td>0.219823</td>\n",
              "      <td>-0.198258</td>\n",
              "      <td>-0.081641</td>\n",
              "      <td>0.127977</td>\n",
              "      <td>1.000000</td>\n",
              "      <td>0.026917</td>\n",
              "      <td>-0.147410</td>\n",
              "      <td>-0.021772</td>\n",
              "      <td>0.067382</td>\n",
              "      <td>0.064880</td>\n",
              "      <td>-0.014248</td>\n",
              "      <td>0.074259</td>\n",
              "      <td>0.100244</td>\n",
              "      <td>-0.099966</td>\n",
              "    </tr>\n",
              "    <tr>\n",
              "      <th>fbs</th>\n",
              "      <td>0.121243</td>\n",
              "      <td>0.027200</td>\n",
              "      <td>0.079294</td>\n",
              "      <td>0.181767</td>\n",
              "      <td>0.026917</td>\n",
              "      <td>1.000000</td>\n",
              "      <td>-0.104051</td>\n",
              "      <td>-0.008866</td>\n",
              "      <td>0.049261</td>\n",
              "      <td>0.010859</td>\n",
              "      <td>-0.061902</td>\n",
              "      <td>0.137156</td>\n",
              "      <td>-0.042177</td>\n",
              "      <td>-0.041164</td>\n",
              "    </tr>\n",
              "    <tr>\n",
              "      <th>restecg</th>\n",
              "      <td>-0.132696</td>\n",
              "      <td>-0.055117</td>\n",
              "      <td>0.043581</td>\n",
              "      <td>-0.123794</td>\n",
              "      <td>-0.147410</td>\n",
              "      <td>-0.104051</td>\n",
              "      <td>1.000000</td>\n",
              "      <td>0.048411</td>\n",
              "      <td>-0.065606</td>\n",
              "      <td>-0.050114</td>\n",
              "      <td>0.086086</td>\n",
              "      <td>-0.078072</td>\n",
              "      <td>-0.020504</td>\n",
              "      <td>0.134468</td>\n",
              "    </tr>\n",
              "    <tr>\n",
              "      <th>thalach</th>\n",
              "      <td>-0.390227</td>\n",
              "      <td>-0.049365</td>\n",
              "      <td>0.306839</td>\n",
              "      <td>-0.039264</td>\n",
              "      <td>-0.021772</td>\n",
              "      <td>-0.008866</td>\n",
              "      <td>0.048411</td>\n",
              "      <td>1.000000</td>\n",
              "      <td>-0.380281</td>\n",
              "      <td>-0.349796</td>\n",
              "      <td>0.395308</td>\n",
              "      <td>-0.207888</td>\n",
              "      <td>-0.098068</td>\n",
              "      <td>0.422895</td>\n",
              "    </tr>\n",
              "    <tr>\n",
              "      <th>exang</th>\n",
              "      <td>0.088163</td>\n",
              "      <td>0.139157</td>\n",
              "      <td>-0.401513</td>\n",
              "      <td>0.061197</td>\n",
              "      <td>0.067382</td>\n",
              "      <td>0.049261</td>\n",
              "      <td>-0.065606</td>\n",
              "      <td>-0.380281</td>\n",
              "      <td>1.000000</td>\n",
              "      <td>0.310844</td>\n",
              "      <td>-0.267335</td>\n",
              "      <td>0.107849</td>\n",
              "      <td>0.197201</td>\n",
              "      <td>-0.438029</td>\n",
              "    </tr>\n",
              "    <tr>\n",
              "      <th>oldpeak</th>\n",
              "      <td>0.208137</td>\n",
              "      <td>0.084687</td>\n",
              "      <td>-0.174733</td>\n",
              "      <td>0.187434</td>\n",
              "      <td>0.064880</td>\n",
              "      <td>0.010859</td>\n",
              "      <td>-0.050114</td>\n",
              "      <td>-0.349796</td>\n",
              "      <td>0.310844</td>\n",
              "      <td>1.000000</td>\n",
              "      <td>-0.575189</td>\n",
              "      <td>0.221816</td>\n",
              "      <td>0.202672</td>\n",
              "      <td>-0.438441</td>\n",
              "    </tr>\n",
              "    <tr>\n",
              "      <th>slope</th>\n",
              "      <td>-0.169105</td>\n",
              "      <td>-0.026666</td>\n",
              "      <td>0.131633</td>\n",
              "      <td>-0.120445</td>\n",
              "      <td>-0.014248</td>\n",
              "      <td>-0.061902</td>\n",
              "      <td>0.086086</td>\n",
              "      <td>0.395308</td>\n",
              "      <td>-0.267335</td>\n",
              "      <td>-0.575189</td>\n",
              "      <td>1.000000</td>\n",
              "      <td>-0.073440</td>\n",
              "      <td>-0.094090</td>\n",
              "      <td>0.345512</td>\n",
              "    </tr>\n",
              "    <tr>\n",
              "      <th>ca</th>\n",
              "      <td>0.271551</td>\n",
              "      <td>0.111729</td>\n",
              "      <td>-0.176206</td>\n",
              "      <td>0.104554</td>\n",
              "      <td>0.074259</td>\n",
              "      <td>0.137156</td>\n",
              "      <td>-0.078072</td>\n",
              "      <td>-0.207888</td>\n",
              "      <td>0.107849</td>\n",
              "      <td>0.221816</td>\n",
              "      <td>-0.073440</td>\n",
              "      <td>1.000000</td>\n",
              "      <td>0.149014</td>\n",
              "      <td>-0.382085</td>\n",
              "    </tr>\n",
              "    <tr>\n",
              "      <th>thal</th>\n",
              "      <td>0.072297</td>\n",
              "      <td>0.198424</td>\n",
              "      <td>-0.163341</td>\n",
              "      <td>0.059276</td>\n",
              "      <td>0.100244</td>\n",
              "      <td>-0.042177</td>\n",
              "      <td>-0.020504</td>\n",
              "      <td>-0.098068</td>\n",
              "      <td>0.197201</td>\n",
              "      <td>0.202672</td>\n",
              "      <td>-0.094090</td>\n",
              "      <td>0.149014</td>\n",
              "      <td>1.000000</td>\n",
              "      <td>-0.337838</td>\n",
              "    </tr>\n",
              "    <tr>\n",
              "      <th>target</th>\n",
              "      <td>-0.229324</td>\n",
              "      <td>-0.279501</td>\n",
              "      <td>0.434854</td>\n",
              "      <td>-0.138772</td>\n",
              "      <td>-0.099966</td>\n",
              "      <td>-0.041164</td>\n",
              "      <td>0.134468</td>\n",
              "      <td>0.422895</td>\n",
              "      <td>-0.438029</td>\n",
              "      <td>-0.438441</td>\n",
              "      <td>0.345512</td>\n",
              "      <td>-0.382085</td>\n",
              "      <td>-0.337838</td>\n",
              "      <td>1.000000</td>\n",
              "    </tr>\n",
              "  </tbody>\n",
              "</table>\n",
              "</div>\n",
              "      <button class=\"colab-df-convert\" onclick=\"convertToInteractive('df-8d0f2a8d-7ec9-428f-857e-f36899f0692b')\"\n",
              "              title=\"Convert this dataframe to an interactive table.\"\n",
              "              style=\"display:none;\">\n",
              "        \n",
              "  <svg xmlns=\"http://www.w3.org/2000/svg\" height=\"24px\"viewBox=\"0 0 24 24\"\n",
              "       width=\"24px\">\n",
              "    <path d=\"M0 0h24v24H0V0z\" fill=\"none\"/>\n",
              "    <path d=\"M18.56 5.44l.94 2.06.94-2.06 2.06-.94-2.06-.94-.94-2.06-.94 2.06-2.06.94zm-11 1L8.5 8.5l.94-2.06 2.06-.94-2.06-.94L8.5 2.5l-.94 2.06-2.06.94zm10 10l.94 2.06.94-2.06 2.06-.94-2.06-.94-.94-2.06-.94 2.06-2.06.94z\"/><path d=\"M17.41 7.96l-1.37-1.37c-.4-.4-.92-.59-1.43-.59-.52 0-1.04.2-1.43.59L10.3 9.45l-7.72 7.72c-.78.78-.78 2.05 0 2.83L4 21.41c.39.39.9.59 1.41.59.51 0 1.02-.2 1.41-.59l7.78-7.78 2.81-2.81c.8-.78.8-2.07 0-2.86zM5.41 20L4 18.59l7.72-7.72 1.47 1.35L5.41 20z\"/>\n",
              "  </svg>\n",
              "      </button>\n",
              "      \n",
              "  <style>\n",
              "    .colab-df-container {\n",
              "      display:flex;\n",
              "      flex-wrap:wrap;\n",
              "      gap: 12px;\n",
              "    }\n",
              "\n",
              "    .colab-df-convert {\n",
              "      background-color: #E8F0FE;\n",
              "      border: none;\n",
              "      border-radius: 50%;\n",
              "      cursor: pointer;\n",
              "      display: none;\n",
              "      fill: #1967D2;\n",
              "      height: 32px;\n",
              "      padding: 0 0 0 0;\n",
              "      width: 32px;\n",
              "    }\n",
              "\n",
              "    .colab-df-convert:hover {\n",
              "      background-color: #E2EBFA;\n",
              "      box-shadow: 0px 1px 2px rgba(60, 64, 67, 0.3), 0px 1px 3px 1px rgba(60, 64, 67, 0.15);\n",
              "      fill: #174EA6;\n",
              "    }\n",
              "\n",
              "    [theme=dark] .colab-df-convert {\n",
              "      background-color: #3B4455;\n",
              "      fill: #D2E3FC;\n",
              "    }\n",
              "\n",
              "    [theme=dark] .colab-df-convert:hover {\n",
              "      background-color: #434B5C;\n",
              "      box-shadow: 0px 1px 3px 1px rgba(0, 0, 0, 0.15);\n",
              "      filter: drop-shadow(0px 1px 2px rgba(0, 0, 0, 0.3));\n",
              "      fill: #FFFFFF;\n",
              "    }\n",
              "  </style>\n",
              "\n",
              "      <script>\n",
              "        const buttonEl =\n",
              "          document.querySelector('#df-8d0f2a8d-7ec9-428f-857e-f36899f0692b button.colab-df-convert');\n",
              "        buttonEl.style.display =\n",
              "          google.colab.kernel.accessAllowed ? 'block' : 'none';\n",
              "\n",
              "        async function convertToInteractive(key) {\n",
              "          const element = document.querySelector('#df-8d0f2a8d-7ec9-428f-857e-f36899f0692b');\n",
              "          const dataTable =\n",
              "            await google.colab.kernel.invokeFunction('convertToInteractive',\n",
              "                                                     [key], {});\n",
              "          if (!dataTable) return;\n",
              "\n",
              "          const docLinkHtml = 'Like what you see? Visit the ' +\n",
              "            '<a target=\"_blank\" href=https://colab.research.google.com/notebooks/data_table.ipynb>data table notebook</a>'\n",
              "            + ' to learn more about interactive tables.';\n",
              "          element.innerHTML = '';\n",
              "          dataTable['output_type'] = 'display_data';\n",
              "          await google.colab.output.renderOutput(dataTable, element);\n",
              "          const docLink = document.createElement('div');\n",
              "          docLink.innerHTML = docLinkHtml;\n",
              "          element.appendChild(docLink);\n",
              "        }\n",
              "      </script>\n",
              "    </div>\n",
              "  </div>\n",
              "  "
            ]
          },
          "metadata": {},
          "execution_count": 67
        }
      ],
      "source": [
        "data.corr()"
      ]
    },
    {
      "cell_type": "code",
      "execution_count": 68,
      "metadata": {
        "colab": {
          "base_uri": "https://localhost:8080/",
          "height": 1000
        },
        "id": "qW06sY9-9ncc",
        "outputId": "00ab9d97-8855-420c-ac18-e8e8f3122e3b"
      },
      "outputs": [
        {
          "output_type": "execute_result",
          "data": {
            "text/plain": [
              "<Axes: >"
            ]
          },
          "metadata": {},
          "execution_count": 68
        },
        {
          "output_type": "display_data",
          "data": {
            "text/plain": [
              "<Figure size 3000x3000 with 2 Axes>"
            ],
            "image/png": "[encoded data removed]"
          },
          "metadata": {}
        }
      ],
      "source": [
        "plt.figure(figsize=(30,30))\n",
        "sns.heatmap(data=data.corr(), annot=True, cmap='crest')"
      ]
    },
    {
      "cell_type": "code",
      "execution_count": 69,
      "metadata": {
        "colab": {
          "base_uri": "https://localhost:8080/",
          "height": 1000
        },
        "id": "iWZulR3RdFEq",
        "outputId": "b97e0cf3-0f45-45f5-d273-203d6828d537"
      },
      "outputs": [
        {
          "output_type": "execute_result",
          "data": {
            "text/plain": [
              "<Axes: >"
            ]
          },
          "metadata": {},
          "execution_count": 69
        },
        {
          "output_type": "display_data",
          "data": {
            "text/plain": [
              "<Figure size 5000x5000 with 1 Axes>"
            ],
            "image/png": "[encoded data removed]"
          },
          "metadata": {}
        }
      ],
      "source": [
        "#Plot a Boxplot\n",
        "plt.figure(figsize=(50,50))\n",
        "data.boxplot()"
      ]
    },
    {
      "cell_type": "markdown",
      "metadata": {
        "id": "We7sRYu7Gc4q"
      },
      "source": [
        "Separating the features & Target"
      ]
    },
    {
      "cell_type": "code",
      "execution_count": 70,
      "metadata": {
        "id": "Z1gaNqUj5_l3"
      },
      "outputs": [],
      "source": [
        "#data = data.drop(columns=['name'], axis=1)"
      ]
    },
    {
      "cell_type": "code",
      "execution_count": 71,
      "metadata": {
        "id": "UAcz8jFnFuzH"
      },
      "outputs": [],
      "source": [
        "X = np.array(data.drop(columns=['target'], axis=1))\n",
        "Y = np.array(data['target'])"
      ]
    },
    {
      "cell_type": "code",
      "execution_count": 72,
      "metadata": {
        "colab": {
          "base_uri": "https://localhost:8080/"
        },
        "id": "guRof_8WG1Yn",
        "outputId": "f26fc887-a6f4-4cbe-8bc1-e3872d23adf8"
      },
      "outputs": [
        {
          "output_type": "stream",
          "name": "stdout",
          "text": [
            "[[52.  1.  0. ...  2.  2.  3.]\n",
            " [53.  1.  0. ...  0.  0.  3.]\n",
            " [70.  1.  0. ...  0.  0.  3.]\n",
            " ...\n",
            " [47.  1.  0. ...  1.  1.  2.]\n",
            " [50.  0.  0. ...  2.  0.  2.]\n",
            " [54.  1.  0. ...  1.  1.  3.]]\n"
          ]
        }
      ],
      "source": [
        "print(X)"
      ]
    },
    {
      "cell_type": "code",
      "execution_count": 73,
      "metadata": {
        "colab": {
          "base_uri": "https://localhost:8080/"
        },
        "id": "xSNrvkJoG3cY",
        "outputId": "f380b6e2-56d8-4007-d5f2-17134042429a"
      },
      "outputs": [
        {
          "output_type": "stream",
          "name": "stdout",
          "text": [
            "[0 0 0 ... 0 1 0]\n"
          ]
        }
      ],
      "source": [
        "print(Y)"
      ]
    },
    {
      "cell_type": "markdown",
      "metadata": {
        "id": "WDeqEaaHHBAS"
      },
      "source": [
        "Splitting the data to training data & Test data"
      ]
    },
    {
      "cell_type": "code",
      "execution_count": 74,
      "metadata": {
        "id": "4c6nrCiVG6NB"
      },
      "outputs": [],
      "source": [
        "X_train, X_test, Y_train, Y_test = train_test_split(X, Y, test_size=0.30)"
      ]
    },
    {
      "cell_type": "code",
      "execution_count": 75,
      "metadata": {
        "colab": {
          "base_uri": "https://localhost:8080/"
        },
        "id": "6OqUka96H35c",
        "outputId": "574607ac-3e9a-431f-d49b-1930e0756d68"
      },
      "outputs": [
        {
          "output_type": "stream",
          "name": "stdout",
          "text": [
            "(1025, 13) (717, 13) (308, 13)\n"
          ]
        }
      ],
      "source": [
        "print(X.shape, X_train.shape, X_test.shape)"
      ]
    },
    {
      "cell_type": "markdown",
      "metadata": {
        "id": "ACsXtFTGIFU-"
      },
      "source": [
        "Data Standardization"
      ]
    },
    {
      "cell_type": "code",
      "execution_count": 76,
      "metadata": {
        "id": "DbpeUHeUH-4A"
      },
      "outputs": [],
      "source": [
        "scaler = StandardScaler()"
      ]
    },
    {
      "cell_type": "code",
      "execution_count": 77,
      "metadata": {
        "id": "MVkVqUbhIdBs",
        "colab": {
          "base_uri": "https://localhost:8080/",
          "height": 74
        },
        "outputId": "ea6a0ab1-193c-4b46-9ced-5bf8bb7070e2"
      },
      "outputs": [
        {
          "output_type": "execute_result",
          "data": {
            "text/plain": [
              "StandardScaler(copy=True, with_mean=True, with_std=True)"
            ],
            "text/html": [
              "<style>#sk-container-id-5 {color: black;background-color: white;}#sk-container-id-5 pre{padding: 0;}#sk-container-id-5 div.sk-toggleable {background-color: white;}#sk-container-id-5 label.sk-toggleable__label {cursor: pointer;display: block;width: 100%;margin-bottom: 0;padding: 0.3em;box-sizing: border-box;text-align: center;}#sk-container-id-5 label.sk-toggleable__label-arrow:before {content: \"▸\";float: left;margin-right: 0.25em;color: #696969;}#sk-container-id-5 label.sk-toggleable__label-arrow:hover:before {color: black;}#sk-container-id-5 div.sk-estimator:hover label.sk-toggleable__label-arrow:before {color: black;}#sk-container-id-5 div.sk-toggleable__content {max-height: 0;max-width: 0;overflow: hidden;text-align: left;background-color: #f0f8ff;}#sk-container-id-5 div.sk-toggleable__content pre {margin: 0.2em;color: black;border-radius: 0.25em;background-color: #f0f8ff;}#sk-container-id-5 input.sk-toggleable__control:checked~div.sk-toggleable__content {max-height: 200px;max-width: 100%;overflow: auto;}#sk-container-id-5 input.sk-toggleable__control:checked~label.sk-toggleable__label-arrow:before {content: \"▾\";}#sk-container-id-5 div.sk-estimator input.sk-toggleable__control:checked~label.sk-toggleable__label {background-color: #d4ebff;}#sk-container-id-5 div.sk-label input.sk-toggleable__control:checked~label.sk-toggleable__label {background-color: #d4ebff;}#sk-container-id-5 input.sk-hidden--visually {border: 0;clip: rect(1px 1px 1px 1px);clip: rect(1px, 1px, 1px, 1px);height: 1px;margin: -1px;overflow: hidden;padding: 0;position: absolute;width: 1px;}#sk-container-id-5 div.sk-estimator {font-family: monospace;background-color: #f0f8ff;border: 1px dotted black;border-radius: 0.25em;box-sizing: border-box;margin-bottom: 0.5em;}#sk-container-id-5 div.sk-estimator:hover {background-color: #d4ebff;}#sk-container-id-5 div.sk-parallel-item::after {content: \"\";width: 100%;border-bottom: 1px solid gray;flex-grow: 1;}#sk-container-id-5 div.sk-label:hover label.sk-toggleable__label {background-color: #d4ebff;}#sk-container-id-5 div.sk-serial::before {content: \"\";position: absolute;border-left: 1px solid gray;box-sizing: border-box;top: 0;bottom: 0;left: 50%;z-index: 0;}#sk-container-id-5 div.sk-serial {display: flex;flex-direction: column;align-items: center;background-color: white;padding-right: 0.2em;padding-left: 0.2em;position: relative;}#sk-container-id-5 div.sk-item {position: relative;z-index: 1;}#sk-container-id-5 div.sk-parallel {display: flex;align-items: stretch;justify-content: center;background-color: white;position: relative;}#sk-container-id-5 div.sk-item::before, #sk-container-id-5 div.sk-parallel-item::before {content: \"\";position: absolute;border-left: 1px solid gray;box-sizing: border-box;top: 0;bottom: 0;left: 50%;z-index: -1;}#sk-container-id-5 div.sk-parallel-item {display: flex;flex-direction: column;z-index: 1;position: relative;background-color: white;}#sk-container-id-5 div.sk-parallel-item:first-child::after {align-self: flex-end;width: 50%;}#sk-container-id-5 div.sk-parallel-item:last-child::after {align-self: flex-start;width: 50%;}#sk-container-id-5 div.sk-parallel-item:only-child::after {width: 0;}#sk-container-id-5 div.sk-dashed-wrapped {border: 1px dashed gray;margin: 0 0.4em 0.5em 0.4em;box-sizing: border-box;padding-bottom: 0.4em;background-color: white;}#sk-container-id-5 div.sk-label label {font-family: monospace;font-weight: bold;display: inline-block;line-height: 1.2em;}#sk-container-id-5 div.sk-label-container {text-align: center;}#sk-container-id-5 div.sk-container {/* jupyter's `normalize.less` sets `[hidden] { display: none; }` but bootstrap.min.css set `[hidden] { display: none !important; }` so we also need the `!important` here to be able to override the default hidden behavior on the sphinx rendered scikit-learn.org. See: https://github.com/scikit-learn/scikit-learn/issues/21755 */display: inline-block !important;position: relative;}#sk-container-id-5 div.sk-text-repr-fallback {display: none;}</style><div id=\"sk-container-id-5\" class=\"sk-top-container\"><div class=\"sk-text-repr-fallback\"><pre>StandardScaler(copy=True, with_mean=True, with_std=True)</pre><b>In a Jupyter environment, please rerun this cell to show the HTML representation or trust the notebook. <br />On GitHub, the HTML representation is unable to render, please try loading this page with nbviewer.org.</b></div><div class=\"sk-container\" hidden><div class=\"sk-item\"><div class=\"sk-estimator sk-toggleable\"><input class=\"sk-toggleable__control sk-hidden--visually\" id=\"sk-estimator-id-5\" type=\"checkbox\" checked><label for=\"sk-estimator-id-5\" class=\"sk-toggleable__label sk-toggleable__label-arrow\">StandardScaler</label><div class=\"sk-toggleable__content\"><pre>StandardScaler(copy=True, with_mean=True, with_std=True)</pre></div></div></div></div></div>"
            ]
          },
          "metadata": {},
          "execution_count": 77
        }
      ],
      "source": [
        "scaler.fit(X_train)"
      ]
    },
    {
      "cell_type": "code",
      "execution_count": 78,
      "metadata": {
        "id": "1FeONzpiInv5"
      },
      "outputs": [],
      "source": [
        "#X_train = scaler.transform(X_train)\n",
        "\n",
        "#X_test = scaler.transform(X_test)"
      ]
    },
    {
      "cell_type": "code",
      "execution_count": 79,
      "metadata": {
        "id": "OS2_4yaVJAiH"
      },
      "outputs": [],
      "source": [
        "#print(X_train)"
      ]
    },
    {
      "cell_type": "markdown",
      "metadata": {
        "id": "QIOAtx35JUMg"
      },
      "source": [
        "Logistic Model Training"
      ]
    },
    {
      "cell_type": "code",
      "source": [
        "Logreg = LogisticRegression()"
      ],
      "metadata": {
        "id": "7mPZibKt9YTS"
      },
      "execution_count": 80,
      "outputs": []
    },
    {
      "cell_type": "code",
      "source": [
        "Logreg.fit(X_train,Y_train)"
      ],
      "metadata": {
        "colab": {
          "base_uri": "https://localhost:8080/",
          "height": 144
        },
        "id": "vhsKZUp39oRA",
        "outputId": "08c4036a-4a9d-4136-cbe0-711d7558921f"
      },
      "execution_count": 81,
      "outputs": [
        {
          "output_type": "execute_result",
          "data": {
            "text/plain": [
              "LogisticRegression(C=1.0, class_weight=None, dual=False, fit_intercept=True,\n",
              "                   intercept_scaling=1, l1_ratio=None, max_iter=100,\n",
              "                   multi_class='auto', n_jobs=None, penalty='l2',\n",
              "                   random_state=None, solver='lbfgs', tol=0.0001, verbose=0,\n",
              "                   warm_start=False)"
            ],
            "text/html": [
              "<style>#sk-container-id-6 {color: black;background-color: white;}#sk-container-id-6 pre{padding: 0;}#sk-container-id-6 div.sk-toggleable {background-color: white;}#sk-container-id-6 label.sk-toggleable__label {cursor: pointer;display: block;width: 100%;margin-bottom: 0;padding: 0.3em;box-sizing: border-box;text-align: center;}#sk-container-id-6 label.sk-toggleable__label-arrow:before {content: \"▸\";float: left;margin-right: 0.25em;color: #696969;}#sk-container-id-6 label.sk-toggleable__label-arrow:hover:before {color: black;}#sk-container-id-6 div.sk-estimator:hover label.sk-toggleable__label-arrow:before {color: black;}#sk-container-id-6 div.sk-toggleable__content {max-height: 0;max-width: 0;overflow: hidden;text-align: left;background-color: #f0f8ff;}#sk-container-id-6 div.sk-toggleable__content pre {margin: 0.2em;color: black;border-radius: 0.25em;background-color: #f0f8ff;}#sk-container-id-6 input.sk-toggleable__control:checked~div.sk-toggleable__content {max-height: 200px;max-width: 100%;overflow: auto;}#sk-container-id-6 input.sk-toggleable__control:checked~label.sk-toggleable__label-arrow:before {content: \"▾\";}#sk-container-id-6 div.sk-estimator input.sk-toggleable__control:checked~label.sk-toggleable__label {background-color: #d4ebff;}#sk-container-id-6 div.sk-label input.sk-toggleable__control:checked~label.sk-toggleable__label {background-color: #d4ebff;}#sk-container-id-6 input.sk-hidden--visually {border: 0;clip: rect(1px 1px 1px 1px);clip: rect(1px, 1px, 1px, 1px);height: 1px;margin: -1px;overflow: hidden;padding: 0;position: absolute;width: 1px;}#sk-container-id-6 div.sk-estimator {font-family: monospace;background-color: #f0f8ff;border: 1px dotted black;border-radius: 0.25em;box-sizing: border-box;margin-bottom: 0.5em;}#sk-container-id-6 div.sk-estimator:hover {background-color: #d4ebff;}#sk-container-id-6 div.sk-parallel-item::after {content: \"\";width: 100%;border-bottom: 1px solid gray;flex-grow: 1;}#sk-container-id-6 div.sk-label:hover label.sk-toggleable__label {background-color: #d4ebff;}#sk-container-id-6 div.sk-serial::before {content: \"\";position: absolute;border-left: 1px solid gray;box-sizing: border-box;top: 0;bottom: 0;left: 50%;z-index: 0;}#sk-container-id-6 div.sk-serial {display: flex;flex-direction: column;align-items: center;background-color: white;padding-right: 0.2em;padding-left: 0.2em;position: relative;}#sk-container-id-6 div.sk-item {position: relative;z-index: 1;}#sk-container-id-6 div.sk-parallel {display: flex;align-items: stretch;justify-content: center;background-color: white;position: relative;}#sk-container-id-6 div.sk-item::before, #sk-container-id-6 div.sk-parallel-item::before {content: \"\";position: absolute;border-left: 1px solid gray;box-sizing: border-box;top: 0;bottom: 0;left: 50%;z-index: -1;}#sk-container-id-6 div.sk-parallel-item {display: flex;flex-direction: column;z-index: 1;position: relative;background-color: white;}#sk-container-id-6 div.sk-parallel-item:first-child::after {align-self: flex-end;width: 50%;}#sk-container-id-6 div.sk-parallel-item:last-child::after {align-self: flex-start;width: 50%;}#sk-container-id-6 div.sk-parallel-item:only-child::after {width: 0;}#sk-container-id-6 div.sk-dashed-wrapped {border: 1px dashed gray;margin: 0 0.4em 0.5em 0.4em;box-sizing: border-box;padding-bottom: 0.4em;background-color: white;}#sk-container-id-6 div.sk-label label {font-family: monospace;font-weight: bold;display: inline-block;line-height: 1.2em;}#sk-container-id-6 div.sk-label-container {text-align: center;}#sk-container-id-6 div.sk-container {/* jupyter's `normalize.less` sets `[hidden] { display: none; }` but bootstrap.min.css set `[hidden] { display: none !important; }` so we also need the `!important` here to be able to override the default hidden behavior on the sphinx rendered scikit-learn.org. See: https://github.com/scikit-learn/scikit-learn/issues/21755 */display: inline-block !important;position: relative;}#sk-container-id-6 div.sk-text-repr-fallback {display: none;}</style><div id=\"sk-container-id-6\" class=\"sk-top-container\"><div class=\"sk-text-repr-fallback\"><pre>LogisticRegression(C=1.0, class_weight=None, dual=False, fit_intercept=True,\n",
              "                   intercept_scaling=1, l1_ratio=None, max_iter=100,\n",
              "                   multi_class=&#x27;auto&#x27;, n_jobs=None, penalty=&#x27;l2&#x27;,\n",
              "                   random_state=None, solver=&#x27;lbfgs&#x27;, tol=0.0001, verbose=0,\n",
              "                   warm_start=False)</pre><b>In a Jupyter environment, please rerun this cell to show the HTML representation or trust the notebook. <br />On GitHub, the HTML representation is unable to render, please try loading this page with nbviewer.org.</b></div><div class=\"sk-container\" hidden><div class=\"sk-item\"><div class=\"sk-estimator sk-toggleable\"><input class=\"sk-toggleable__control sk-hidden--visually\" id=\"sk-estimator-id-6\" type=\"checkbox\" checked><label for=\"sk-estimator-id-6\" class=\"sk-toggleable__label sk-toggleable__label-arrow\">LogisticRegression</label><div class=\"sk-toggleable__content\"><pre>LogisticRegression(C=1.0, class_weight=None, dual=False, fit_intercept=True,\n",
              "                   intercept_scaling=1, l1_ratio=None, max_iter=100,\n",
              "                   multi_class=&#x27;auto&#x27;, n_jobs=None, penalty=&#x27;l2&#x27;,\n",
              "                   random_state=None, solver=&#x27;lbfgs&#x27;, tol=0.0001, verbose=0,\n",
              "                   warm_start=False)</pre></div></div></div></div></div>"
            ]
          },
          "metadata": {},
          "execution_count": 81
        }
      ]
    },
    {
      "cell_type": "code",
      "source": [
        "Logreg.score(X_test,Y_test)"
      ],
      "metadata": {
        "colab": {
          "base_uri": "https://localhost:8080/"
        },
        "id": "vOa64uFU9t-4",
        "outputId": "ad01870c-0fa3-4fa2-c0de-1142ac9616e4"
      },
      "execution_count": 82,
      "outputs": [
        {
          "output_type": "execute_result",
          "data": {
            "text/plain": [
              "0.8668831168831169"
            ]
          },
          "metadata": {},
          "execution_count": 82
        }
      ]
    },
    {
      "cell_type": "code",
      "source": [
        "Y_pred=Logreg.predict(X_test)"
      ],
      "metadata": {
        "id": "w1HeDtFY91xp"
      },
      "execution_count": 83,
      "outputs": []
    },
    {
      "cell_type": "code",
      "source": [
        "Y_pred"
      ],
      "metadata": {
        "colab": {
          "base_uri": "https://localhost:8080/"
        },
        "id": "PlwuuFzO96rR",
        "outputId": "3c6020f4-c3ac-48c7-f397-901c74c6f234"
      },
      "execution_count": 84,
      "outputs": [
        {
          "output_type": "execute_result",
          "data": {
            "text/plain": [
              "array([0, 1, 1, 0, 0, 1, 0, 0, 0, 1, 1, 0, 1, 0, 0, 1, 1, 0, 0, 1, 0, 0,\n",
              "       0, 1, 1, 0, 1, 1, 1, 1, 1, 1, 1, 0, 0, 0, 1, 1, 0, 0, 1, 1, 0, 1,\n",
              "       0, 1, 0, 1, 1, 1, 0, 1, 1, 1, 1, 0, 1, 1, 1, 1, 1, 1, 1, 0, 0, 0,\n",
              "       1, 1, 1, 0, 1, 0, 0, 0, 0, 1, 0, 0, 1, 0, 0, 1, 0, 1, 1, 0, 1, 0,\n",
              "       1, 1, 1, 0, 1, 0, 0, 0, 0, 0, 1, 0, 1, 0, 0, 0, 0, 0, 1, 1, 1, 0,\n",
              "       0, 1, 1, 1, 1, 0, 0, 1, 1, 1, 1, 0, 0, 0, 1, 0, 1, 1, 1, 1, 0, 1,\n",
              "       1, 0, 0, 1, 0, 0, 1, 1, 1, 1, 1, 0, 1, 0, 1, 1, 0, 1, 0, 0, 1, 0,\n",
              "       1, 1, 0, 1, 1, 0, 0, 1, 0, 1, 0, 1, 1, 1, 1, 1, 0, 1, 0, 1, 1, 0,\n",
              "       0, 0, 1, 0, 1, 0, 1, 0, 1, 1, 1, 1, 0, 0, 0, 0, 0, 0, 0, 0, 1, 1,\n",
              "       0, 1, 1, 0, 0, 0, 0, 1, 1, 1, 0, 1, 0, 1, 0, 0, 1, 1, 0, 0, 0, 1,\n",
              "       1, 0, 1, 1, 1, 1, 1, 0, 0, 0, 0, 1, 0, 0, 0, 0, 1, 1, 1, 1, 1, 1,\n",
              "       0, 1, 1, 1, 1, 0, 0, 1, 1, 0, 1, 0, 1, 1, 0, 0, 1, 1, 1, 0, 1, 1,\n",
              "       0, 0, 0, 1, 0, 1, 1, 1, 0, 0, 1, 0, 1, 0, 1, 0, 1, 0, 0, 1, 1, 1,\n",
              "       1, 1, 1, 0, 0, 1, 1, 1, 0, 0, 1, 0, 0, 0, 1, 1, 1, 1, 1, 1, 0, 0])"
            ]
          },
          "metadata": {},
          "execution_count": 84
        }
      ]
    },
    {
      "cell_type": "code",
      "source": [
        "Y_test"
      ],
      "metadata": {
        "colab": {
          "base_uri": "https://localhost:8080/"
        },
        "id": "ARUp0Hjv-ASY",
        "outputId": "d4c8287a-6a60-425f-d552-5395fd298560"
      },
      "execution_count": 85,
      "outputs": [
        {
          "output_type": "execute_result",
          "data": {
            "text/plain": [
              "array([0, 1, 1, 0, 0, 1, 0, 0, 0, 1, 0, 0, 1, 0, 0, 1, 1, 0, 0, 1, 0, 0,\n",
              "       0, 1, 0, 0, 1, 1, 1, 1, 0, 1, 0, 0, 0, 0, 1, 1, 0, 0, 0, 1, 0, 1,\n",
              "       0, 0, 0, 1, 1, 1, 0, 1, 1, 1, 1, 0, 1, 1, 1, 1, 1, 0, 0, 0, 0, 1,\n",
              "       1, 1, 1, 0, 1, 0, 0, 0, 0, 1, 1, 0, 1, 0, 1, 1, 0, 1, 1, 0, 1, 0,\n",
              "       1, 0, 0, 0, 0, 0, 0, 0, 0, 0, 1, 0, 1, 0, 0, 0, 0, 0, 1, 1, 1, 0,\n",
              "       0, 1, 1, 1, 1, 0, 0, 1, 1, 1, 1, 0, 0, 1, 1, 0, 1, 1, 1, 1, 0, 1,\n",
              "       1, 0, 0, 1, 0, 0, 1, 1, 1, 1, 1, 0, 1, 0, 0, 1, 0, 1, 0, 0, 0, 0,\n",
              "       0, 1, 0, 1, 1, 1, 0, 1, 0, 1, 0, 1, 1, 1, 0, 1, 0, 0, 0, 0, 1, 0,\n",
              "       0, 0, 1, 0, 0, 0, 1, 0, 1, 1, 1, 1, 0, 0, 0, 0, 0, 1, 0, 0, 1, 1,\n",
              "       0, 1, 0, 0, 0, 0, 0, 0, 1, 1, 0, 1, 0, 1, 0, 0, 1, 1, 0, 0, 0, 1,\n",
              "       1, 0, 0, 0, 1, 1, 1, 0, 0, 0, 0, 0, 0, 1, 0, 0, 1, 1, 0, 1, 0, 1,\n",
              "       1, 1, 1, 1, 1, 0, 0, 0, 1, 0, 0, 0, 1, 1, 0, 0, 1, 1, 0, 0, 1, 1,\n",
              "       0, 0, 0, 0, 0, 1, 1, 1, 0, 0, 0, 0, 1, 0, 1, 0, 1, 0, 0, 1, 1, 1,\n",
              "       1, 1, 1, 0, 0, 1, 0, 0, 0, 0, 1, 0, 0, 0, 0, 1, 1, 1, 1, 1, 0, 0])"
            ]
          },
          "metadata": {},
          "execution_count": 85
        }
      ]
    },
    {
      "cell_type": "markdown",
      "metadata": {
        "id": "QlR4JG4YMfOR"
      },
      "source": [
        "Building a Predictive System"
      ]
    },
    {
      "cell_type": "markdown",
      "metadata": {
        "id": "3ONO-wFqDbSY"
      },
      "source": [
        "# PyCARET library"
      ]
    },
    {
      "cell_type": "code",
      "execution_count": 86,
      "metadata": {
        "colab": {
          "base_uri": "https://localhost:8080/"
        },
        "id": "yvvP_Il7DaZ-",
        "outputId": "8fc05347-e803-432c-efaf-9e17753c1fd0"
      },
      "outputs": [
        {
          "output_type": "stream",
          "name": "stdout",
          "text": [
            "Looking in indexes: https://pypi.org/simple, https://us-python.pkg.dev/colab-wheels/public/simple/\n",
            "Requirement already satisfied: pycaret in /usr/local/lib/python3.10/dist-packages (3.0.0)\n",
            "Requirement already satisfied: ipython>=5.5.0 in /usr/local/lib/python3.10/dist-packages (from pycaret) (7.34.0)\n",
            "Requirement already satisfied: ipywidgets>=7.6.5 in /usr/local/lib/python3.10/dist-packages (from pycaret) (7.7.1)\n",
            "Requirement already satisfied: tqdm>=4.62.0 in /usr/local/lib/python3.10/dist-packages (from pycaret) (4.65.0)\n",
            "Requirement already satisfied: numpy<1.25,>=1.21 in /usr/local/lib/python3.10/dist-packages (from pycaret) (1.22.4)\n",
            "Requirement already satisfied: pandas<1.6.0,>=1.3.0 in /usr/local/lib/python3.10/dist-packages (from pycaret) (1.5.3)\n",
            "Requirement already satisfied: jinja2>=1.2 in /usr/local/lib/python3.10/dist-packages (from pycaret) (3.1.2)\n",
            "Requirement already satisfied: scipy<2.0.0 in /usr/local/lib/python3.10/dist-packages (from pycaret) (1.10.1)\n",
            "Requirement already satisfied: joblib>=1.2.0 in /usr/local/lib/python3.10/dist-packages (from pycaret) (1.2.0)\n",
            "Requirement already satisfied: scikit-learn>=1.0 in /usr/local/lib/python3.10/dist-packages (from pycaret) (1.2.2)\n",
            "Requirement already satisfied: pyod>=1.0.8 in /usr/local/lib/python3.10/dist-packages (from pycaret) (1.0.9)\n",
            "Requirement already satisfied: imbalanced-learn>=0.8.1 in /usr/local/lib/python3.10/dist-packages (from pycaret) (0.10.1)\n",
            "Requirement already satisfied: category-encoders>=2.4.0 in /usr/local/lib/python3.10/dist-packages (from pycaret) (2.6.0)\n",
            "Requirement already satisfied: lightgbm>=3.0.0 in /usr/local/lib/python3.10/dist-packages (from pycaret) (3.3.5)\n",
            "Requirement already satisfied: numba>=0.55.0 in /usr/local/lib/python3.10/dist-packages (from pycaret) (0.56.4)\n",
            "Requirement already satisfied: requests>=2.27.1 in /usr/local/lib/python3.10/dist-packages (from pycaret) (2.27.1)\n",
            "Requirement already satisfied: psutil>=5.9.0 in /usr/local/lib/python3.10/dist-packages (from pycaret) (5.9.5)\n",
            "Requirement already satisfied: markupsafe>=2.0.1 in /usr/local/lib/python3.10/dist-packages (from pycaret) (2.1.2)\n",
            "Requirement already satisfied: importlib-metadata>=4.12.0 in /usr/local/lib/python3.10/dist-packages (from pycaret) (6.6.0)\n",
            "Requirement already satisfied: nbformat>=4.2.0 in /usr/local/lib/python3.10/dist-packages (from pycaret) (5.8.0)\n",
            "Requirement already satisfied: cloudpickle in /usr/local/lib/python3.10/dist-packages (from pycaret) (2.2.1)\n",
            "Requirement already satisfied: deprecation>=2.1.0 in /usr/local/lib/python3.10/dist-packages (from pycaret) (2.1.0)\n",
            "Requirement already satisfied: xxhash in /usr/local/lib/python3.10/dist-packages (from pycaret) (3.2.0)\n",
            "Requirement already satisfied: matplotlib>=3.3.0 in /usr/local/lib/python3.10/dist-packages (from pycaret) (3.7.1)\n",
            "Requirement already satisfied: scikit-plot>=0.3.7 in /usr/local/lib/python3.10/dist-packages (from pycaret) (0.3.7)\n",
            "Requirement already satisfied: yellowbrick>=1.4 in /usr/local/lib/python3.10/dist-packages (from pycaret) (1.5)\n",
            "Requirement already satisfied: plotly>=5.0.0 in /usr/local/lib/python3.10/dist-packages (from pycaret) (5.13.1)\n",
            "Requirement already satisfied: kaleido>=0.2.1 in /usr/local/lib/python3.10/dist-packages (from pycaret) (0.2.1)\n",
            "Requirement already satisfied: schemdraw>=0.14 in /usr/local/lib/python3.10/dist-packages (from pycaret) (0.16)\n",
            "Requirement already satisfied: plotly-resampler>=0.8.3.1 in /usr/local/lib/python3.10/dist-packages (from pycaret) (0.8.3.2)\n",
            "Requirement already satisfied: statsmodels>=0.12.1 in /usr/local/lib/python3.10/dist-packages (from pycaret) (0.13.5)\n",
            "Requirement already satisfied: sktime>=0.16.1 in /usr/local/lib/python3.10/dist-packages (from pycaret) (0.18.0)\n",
            "Requirement already satisfied: tbats>=1.1.0 in /usr/local/lib/python3.10/dist-packages (from pycaret) (1.1.3)\n",
            "Requirement already satisfied: pmdarima!=1.8.1,<3.0.0,>=1.8.0 in /usr/local/lib/python3.10/dist-packages (from pycaret) (2.0.3)\n",
            "Requirement already satisfied: wurlitzer in /usr/local/lib/python3.10/dist-packages (from pycaret) (3.0.3)\n",
            "Requirement already satisfied: patsy>=0.5.1 in /usr/local/lib/python3.10/dist-packages (from category-encoders>=2.4.0->pycaret) (0.5.3)\n",
            "Requirement already satisfied: packaging in /usr/local/lib/python3.10/dist-packages (from deprecation>=2.1.0->pycaret) (23.1)\n",
            "Requirement already satisfied: threadpoolctl>=2.0.0 in /usr/local/lib/python3.10/dist-packages (from imbalanced-learn>=0.8.1->pycaret) (3.1.0)\n",
            "Requirement already satisfied: zipp>=0.5 in /usr/local/lib/python3.10/dist-packages (from importlib-metadata>=4.12.0->pycaret) (3.15.0)\n",
            "Requirement already satisfied: setuptools>=18.5 in /usr/local/lib/python3.10/dist-packages (from ipython>=5.5.0->pycaret) (67.7.2)\n",
            "Requirement already satisfied: jedi>=0.16 in /usr/local/lib/python3.10/dist-packages (from ipython>=5.5.0->pycaret) (0.18.2)\n",
            "Requirement already satisfied: decorator in /usr/local/lib/python3.10/dist-packages (from ipython>=5.5.0->pycaret) (4.4.2)\n",
            "Requirement already satisfied: pickleshare in /usr/local/lib/python3.10/dist-packages (from ipython>=5.5.0->pycaret) (0.7.5)\n",
            "Requirement already satisfied: traitlets>=4.2 in /usr/local/lib/python3.10/dist-packages (from ipython>=5.5.0->pycaret) (5.7.1)\n",
            "Requirement already satisfied: prompt-toolkit!=3.0.0,!=3.0.1,<3.1.0,>=2.0.0 in /usr/local/lib/python3.10/dist-packages (from ipython>=5.5.0->pycaret) (3.0.38)\n",
            "Requirement already satisfied: pygments in /usr/local/lib/python3.10/dist-packages (from ipython>=5.5.0->pycaret) (2.14.0)\n",
            "Requirement already satisfied: backcall in /usr/local/lib/python3.10/dist-packages (from ipython>=5.5.0->pycaret) (0.2.0)\n",
            "Requirement already satisfied: matplotlib-inline in /usr/local/lib/python3.10/dist-packages (from ipython>=5.5.0->pycaret) (0.1.6)\n",
            "Requirement already satisfied: pexpect>4.3 in /usr/local/lib/python3.10/dist-packages (from ipython>=5.5.0->pycaret) (4.8.0)\n",
            "Requirement already satisfied: ipykernel>=4.5.1 in /usr/local/lib/python3.10/dist-packages (from ipywidgets>=7.6.5->pycaret) (5.5.6)\n",
            "Requirement already satisfied: ipython-genutils~=0.2.0 in /usr/local/lib/python3.10/dist-packages (from ipywidgets>=7.6.5->pycaret) (0.2.0)\n",
            "Requirement already satisfied: widgetsnbextension~=3.6.0 in /usr/local/lib/python3.10/dist-packages (from ipywidgets>=7.6.5->pycaret) (3.6.4)\n",
            "Requirement already satisfied: jupyterlab-widgets>=1.0.0 in /usr/local/lib/python3.10/dist-packages (from ipywidgets>=7.6.5->pycaret) (3.0.7)\n",
            "Requirement already satisfied: wheel in /usr/local/lib/python3.10/dist-packages (from lightgbm>=3.0.0->pycaret) (0.40.0)\n",
            "Requirement already satisfied: contourpy>=1.0.1 in /usr/local/lib/python3.10/dist-packages (from matplotlib>=3.3.0->pycaret) (1.0.7)\n",
            "Requirement already satisfied: cycler>=0.10 in /usr/local/lib/python3.10/dist-packages (from matplotlib>=3.3.0->pycaret) (0.11.0)\n",
            "Requirement already satisfied: fonttools>=4.22.0 in /usr/local/lib/python3.10/dist-packages (from matplotlib>=3.3.0->pycaret) (4.39.3)\n",
            "Requirement already satisfied: kiwisolver>=1.0.1 in /usr/local/lib/python3.10/dist-packages (from matplotlib>=3.3.0->pycaret) (1.4.4)\n",
            "Requirement already satisfied: pillow>=6.2.0 in /usr/local/lib/python3.10/dist-packages (from matplotlib>=3.3.0->pycaret) (8.4.0)\n",
            "Requirement already satisfied: pyparsing>=2.3.1 in /usr/local/lib/python3.10/dist-packages (from matplotlib>=3.3.0->pycaret) (3.0.9)\n",
            "Requirement already satisfied: python-dateutil>=2.7 in /usr/local/lib/python3.10/dist-packages (from matplotlib>=3.3.0->pycaret) (2.8.2)\n",
            "Requirement already satisfied: fastjsonschema in /usr/local/lib/python3.10/dist-packages (from nbformat>=4.2.0->pycaret) (2.16.3)\n",
            "Requirement already satisfied: jsonschema>=2.6 in /usr/local/lib/python3.10/dist-packages (from nbformat>=4.2.0->pycaret) (4.3.3)\n",
            "Requirement already satisfied: jupyter-core in /usr/local/lib/python3.10/dist-packages (from nbformat>=4.2.0->pycaret) (5.3.0)\n",
            "Requirement already satisfied: llvmlite<0.40,>=0.39.0dev0 in /usr/local/lib/python3.10/dist-packages (from numba>=0.55.0->pycaret) (0.39.1)\n",
            "Requirement already satisfied: pytz>=2020.1 in /usr/local/lib/python3.10/dist-packages (from pandas<1.6.0,>=1.3.0->pycaret) (2022.7.1)\n",
            "Requirement already satisfied: tenacity>=6.2.0 in /usr/local/lib/python3.10/dist-packages (from plotly>=5.0.0->pycaret) (8.2.2)\n",
            "Requirement already satisfied: dash<3.0.0,>=2.2.0 in /usr/local/lib/python3.10/dist-packages (from plotly-resampler>=0.8.3.1->pycaret) (2.9.3)\n",
            "Requirement already satisfied: jupyter-dash>=0.4.2 in /usr/local/lib/python3.10/dist-packages (from plotly-resampler>=0.8.3.1->pycaret) (0.4.2)\n",
            "Requirement already satisfied: orjson<4.0.0,>=3.8.0 in /usr/local/lib/python3.10/dist-packages (from plotly-resampler>=0.8.3.1->pycaret) (3.8.12)\n",
            "Requirement already satisfied: trace-updater>=0.0.8 in /usr/local/lib/python3.10/dist-packages (from plotly-resampler>=0.8.3.1->pycaret) (0.0.9.1)\n",
            "Requirement already satisfied: Cython!=0.29.18,!=0.29.31,>=0.29 in /usr/local/lib/python3.10/dist-packages (from pmdarima!=1.8.1,<3.0.0,>=1.8.0->pycaret) (0.29.34)\n",
            "Requirement already satisfied: urllib3 in /usr/local/lib/python3.10/dist-packages (from pmdarima!=1.8.1,<3.0.0,>=1.8.0->pycaret) (1.26.15)\n",
            "Requirement already satisfied: six in /usr/local/lib/python3.10/dist-packages (from pyod>=1.0.8->pycaret) (1.16.0)\n",
            "Requirement already satisfied: certifi>=2017.4.17 in /usr/local/lib/python3.10/dist-packages (from requests>=2.27.1->pycaret) (2022.12.7)\n",
            "Requirement already satisfied: charset-normalizer~=2.0.0 in /usr/local/lib/python3.10/dist-packages (from requests>=2.27.1->pycaret) (2.0.12)\n",
            "Requirement already satisfied: idna<4,>=2.5 in /usr/local/lib/python3.10/dist-packages (from requests>=2.27.1->pycaret) (3.4)\n",
            "Requirement already satisfied: deprecated>=1.2.13 in /usr/local/lib/python3.10/dist-packages (from sktime>=0.16.1->pycaret) (1.2.13)\n",
            "Requirement already satisfied: scikit-base<0.5.0 in /usr/local/lib/python3.10/dist-packages (from sktime>=0.16.1->pycaret) (0.4.3)\n",
            "Requirement already satisfied: Flask>=1.0.4 in /usr/local/lib/python3.10/dist-packages (from dash<3.0.0,>=2.2.0->plotly-resampler>=0.8.3.1->pycaret) (2.2.4)\n",
            "Requirement already satisfied: dash-html-components==2.0.0 in /usr/local/lib/python3.10/dist-packages (from dash<3.0.0,>=2.2.0->plotly-resampler>=0.8.3.1->pycaret) (2.0.0)\n",
            "Requirement already satisfied: dash-core-components==2.0.0 in /usr/local/lib/python3.10/dist-packages (from dash<3.0.0,>=2.2.0->plotly-resampler>=0.8.3.1->pycaret) (2.0.0)\n",
            "Requirement already satisfied: dash-table==5.0.0 in /usr/local/lib/python3.10/dist-packages (from dash<3.0.0,>=2.2.0->plotly-resampler>=0.8.3.1->pycaret) (5.0.0)\n",
            "Requirement already satisfied: wrapt<2,>=1.10 in /usr/local/lib/python3.10/dist-packages (from deprecated>=1.2.13->sktime>=0.16.1->pycaret) (1.14.1)\n",
            "Requirement already satisfied: jupyter-client in /usr/local/lib/python3.10/dist-packages (from ipykernel>=4.5.1->ipywidgets>=7.6.5->pycaret) (6.1.12)\n",
            "Requirement already satisfied: tornado>=4.2 in /usr/local/lib/python3.10/dist-packages (from ipykernel>=4.5.1->ipywidgets>=7.6.5->pycaret) (6.3.1)\n",
            "Requirement already satisfied: parso<0.9.0,>=0.8.0 in /usr/local/lib/python3.10/dist-packages (from jedi>=0.16->ipython>=5.5.0->pycaret) (0.8.3)\n",
            "Requirement already satisfied: attrs>=17.4.0 in /usr/local/lib/python3.10/dist-packages (from jsonschema>=2.6->nbformat>=4.2.0->pycaret) (23.1.0)\n",
            "Requirement already satisfied: pyrsistent!=0.17.0,!=0.17.1,!=0.17.2,>=0.14.0 in /usr/local/lib/python3.10/dist-packages (from jsonschema>=2.6->nbformat>=4.2.0->pycaret) (0.19.3)\n",
            "Requirement already satisfied: retrying in /usr/local/lib/python3.10/dist-packages (from jupyter-dash>=0.4.2->plotly-resampler>=0.8.3.1->pycaret) (1.3.4)\n",
            "Requirement already satisfied: ansi2html in /usr/local/lib/python3.10/dist-packages (from jupyter-dash>=0.4.2->plotly-resampler>=0.8.3.1->pycaret) (1.8.0)\n",
            "Requirement already satisfied: nest-asyncio in /usr/local/lib/python3.10/dist-packages (from jupyter-dash>=0.4.2->plotly-resampler>=0.8.3.1->pycaret) (1.5.6)\n",
            "Requirement already satisfied: ptyprocess>=0.5 in /usr/local/lib/python3.10/dist-packages (from pexpect>4.3->ipython>=5.5.0->pycaret) (0.7.0)\n",
            "Requirement already satisfied: wcwidth in /usr/local/lib/python3.10/dist-packages (from prompt-toolkit!=3.0.0,!=3.0.1,<3.1.0,>=2.0.0->ipython>=5.5.0->pycaret) (0.2.6)\n",
            "Requirement already satisfied: notebook>=4.4.1 in /usr/local/lib/python3.10/dist-packages (from widgetsnbextension~=3.6.0->ipywidgets>=7.6.5->pycaret) (6.4.8)\n",
            "Requirement already satisfied: platformdirs>=2.5 in /usr/local/lib/python3.10/dist-packages (from jupyter-core->nbformat>=4.2.0->pycaret) (3.3.0)\n",
            "Requirement already satisfied: Werkzeug>=2.2.2 in /usr/local/lib/python3.10/dist-packages (from Flask>=1.0.4->dash<3.0.0,>=2.2.0->plotly-resampler>=0.8.3.1->pycaret) (2.3.0)\n",
            "Requirement already satisfied: itsdangerous>=2.0 in /usr/local/lib/python3.10/dist-packages (from Flask>=1.0.4->dash<3.0.0,>=2.2.0->plotly-resampler>=0.8.3.1->pycaret) (2.1.2)\n",
            "Requirement already satisfied: click>=8.0 in /usr/local/lib/python3.10/dist-packages (from Flask>=1.0.4->dash<3.0.0,>=2.2.0->plotly-resampler>=0.8.3.1->pycaret) (8.1.3)\n",
            "Requirement already satisfied: pyzmq>=17 in /usr/local/lib/python3.10/dist-packages (from notebook>=4.4.1->widgetsnbextension~=3.6.0->ipywidgets>=7.6.5->pycaret) (23.2.1)\n",
            "Requirement already satisfied: argon2-cffi in /usr/local/lib/python3.10/dist-packages (from notebook>=4.4.1->widgetsnbextension~=3.6.0->ipywidgets>=7.6.5->pycaret) (21.3.0)\n",
            "Requirement already satisfied: nbconvert in /usr/local/lib/python3.10/dist-packages (from notebook>=4.4.1->widgetsnbextension~=3.6.0->ipywidgets>=7.6.5->pycaret) (6.5.4)\n",
            "Requirement already satisfied: Send2Trash>=1.8.0 in /usr/local/lib/python3.10/dist-packages (from notebook>=4.4.1->widgetsnbextension~=3.6.0->ipywidgets>=7.6.5->pycaret) (1.8.0)\n",
            "Requirement already satisfied: terminado>=0.8.3 in /usr/local/lib/python3.10/dist-packages (from notebook>=4.4.1->widgetsnbextension~=3.6.0->ipywidgets>=7.6.5->pycaret) (0.17.1)\n",
            "Requirement already satisfied: prometheus-client in /usr/local/lib/python3.10/dist-packages (from notebook>=4.4.1->widgetsnbextension~=3.6.0->ipywidgets>=7.6.5->pycaret) (0.16.0)\n",
            "Requirement already satisfied: argon2-cffi-bindings in /usr/local/lib/python3.10/dist-packages (from argon2-cffi->notebook>=4.4.1->widgetsnbextension~=3.6.0->ipywidgets>=7.6.5->pycaret) (21.2.0)\n",
            "Requirement already satisfied: lxml in /usr/local/lib/python3.10/dist-packages (from nbconvert->notebook>=4.4.1->widgetsnbextension~=3.6.0->ipywidgets>=7.6.5->pycaret) (4.9.2)\n",
            "Requirement already satisfied: beautifulsoup4 in /usr/local/lib/python3.10/dist-packages (from nbconvert->notebook>=4.4.1->widgetsnbextension~=3.6.0->ipywidgets>=7.6.5->pycaret) (4.11.2)\n",
            "Requirement already satisfied: bleach in /usr/local/lib/python3.10/dist-packages (from nbconvert->notebook>=4.4.1->widgetsnbextension~=3.6.0->ipywidgets>=7.6.5->pycaret) (6.0.0)\n",
            "Requirement already satisfied: defusedxml in /usr/local/lib/python3.10/dist-packages (from nbconvert->notebook>=4.4.1->widgetsnbextension~=3.6.0->ipywidgets>=7.6.5->pycaret) (0.7.1)\n",
            "Requirement already satisfied: entrypoints>=0.2.2 in /usr/local/lib/python3.10/dist-packages (from nbconvert->notebook>=4.4.1->widgetsnbextension~=3.6.0->ipywidgets>=7.6.5->pycaret) (0.4)\n",
            "Requirement already satisfied: jupyterlab-pygments in /usr/local/lib/python3.10/dist-packages (from nbconvert->notebook>=4.4.1->widgetsnbextension~=3.6.0->ipywidgets>=7.6.5->pycaret) (0.2.2)\n",
            "Requirement already satisfied: mistune<2,>=0.8.1 in /usr/local/lib/python3.10/dist-packages (from nbconvert->notebook>=4.4.1->widgetsnbextension~=3.6.0->ipywidgets>=7.6.5->pycaret) (0.8.4)\n",
            "Requirement already satisfied: nbclient>=0.5.0 in /usr/local/lib/python3.10/dist-packages (from nbconvert->notebook>=4.4.1->widgetsnbextension~=3.6.0->ipywidgets>=7.6.5->pycaret) (0.7.4)\n",
            "Requirement already satisfied: pandocfilters>=1.4.1 in /usr/local/lib/python3.10/dist-packages (from nbconvert->notebook>=4.4.1->widgetsnbextension~=3.6.0->ipywidgets>=7.6.5->pycaret) (1.5.0)\n",
            "Requirement already satisfied: tinycss2 in /usr/local/lib/python3.10/dist-packages (from nbconvert->notebook>=4.4.1->widgetsnbextension~=3.6.0->ipywidgets>=7.6.5->pycaret) (1.2.1)\n",
            "Requirement already satisfied: cffi>=1.0.1 in /usr/local/lib/python3.10/dist-packages (from argon2-cffi-bindings->argon2-cffi->notebook>=4.4.1->widgetsnbextension~=3.6.0->ipywidgets>=7.6.5->pycaret) (1.15.1)\n",
            "Requirement already satisfied: soupsieve>1.2 in /usr/local/lib/python3.10/dist-packages (from beautifulsoup4->nbconvert->notebook>=4.4.1->widgetsnbextension~=3.6.0->ipywidgets>=7.6.5->pycaret) (2.4.1)\n",
            "Requirement already satisfied: webencodings in /usr/local/lib/python3.10/dist-packages (from bleach->nbconvert->notebook>=4.4.1->widgetsnbextension~=3.6.0->ipywidgets>=7.6.5->pycaret) (0.5.1)\n",
            "Requirement already satisfied: pycparser in /usr/local/lib/python3.10/dist-packages (from cffi>=1.0.1->argon2-cffi-bindings->argon2-cffi->notebook>=4.4.1->widgetsnbextension~=3.6.0->ipywidgets>=7.6.5->pycaret) (2.21)\n"
          ]
        }
      ],
      "source": [
        "!pip install pycaret"
      ]
    },
    {
      "cell_type": "code",
      "execution_count": 87,
      "metadata": {
        "id": "swKZoHnFDqiV"
      },
      "outputs": [],
      "source": [
        "import pycaret"
      ]
    },
    {
      "cell_type": "code",
      "execution_count": 88,
      "metadata": {
        "id": "6f-1sDn9FvuE"
      },
      "outputs": [],
      "source": [
        "from pycaret.datasets import get_data"
      ]
    },
    {
      "cell_type": "code",
      "execution_count": 89,
      "metadata": {
        "colab": {
          "base_uri": "https://localhost:8080/",
          "height": 645
        },
        "id": "xMl2mYlvF0Yv",
        "outputId": "a4bc27ea-1e52-403b-ebdc-a40ce430ced8"
      },
      "outputs": [
        {
          "output_type": "display_data",
          "data": {
            "text/plain": [
              "<pandas.io.formats.style.Styler at 0x7f201837ba90>"
            ],
            "text/html": [
              "<style type=\"text/css\">\n",
              "#T_38acb_row8_col1 {\n",
              "  background-color: lightgreen;\n",
              "}\n",
              "</style>\n",
              "<table id=\"T_38acb\" class=\"dataframe\">\n",
              "  <thead>\n",
              "    <tr>\n",
              "      <th class=\"blank level0\" >&nbsp;</th>\n",
              "      <th id=\"T_38acb_level0_col0\" class=\"col_heading level0 col0\" >Description</th>\n",
              "      <th id=\"T_38acb_level0_col1\" class=\"col_heading level0 col1\" >Value</th>\n",
              "    </tr>\n",
              "  </thead>\n",
              "  <tbody>\n",
              "    <tr>\n",
              "      <th id=\"T_38acb_level0_row0\" class=\"row_heading level0 row0\" >0</th>\n",
              "      <td id=\"T_38acb_row0_col0\" class=\"data row0 col0\" >Session id</td>\n",
              "      <td id=\"T_38acb_row0_col1\" class=\"data row0 col1\" >123</td>\n",
              "    </tr>\n",
              "    <tr>\n",
              "      <th id=\"T_38acb_level0_row1\" class=\"row_heading level0 row1\" >1</th>\n",
              "      <td id=\"T_38acb_row1_col0\" class=\"data row1 col0\" >Target</td>\n",
              "      <td id=\"T_38acb_row1_col1\" class=\"data row1 col1\" >target</td>\n",
              "    </tr>\n",
              "    <tr>\n",
              "      <th id=\"T_38acb_level0_row2\" class=\"row_heading level0 row2\" >2</th>\n",
              "      <td id=\"T_38acb_row2_col0\" class=\"data row2 col0\" >Target type</td>\n",
              "      <td id=\"T_38acb_row2_col1\" class=\"data row2 col1\" >Binary</td>\n",
              "    </tr>\n",
              "    <tr>\n",
              "      <th id=\"T_38acb_level0_row3\" class=\"row_heading level0 row3\" >3</th>\n",
              "      <td id=\"T_38acb_row3_col0\" class=\"data row3 col0\" >Original data shape</td>\n",
              "      <td id=\"T_38acb_row3_col1\" class=\"data row3 col1\" >(1025, 14)</td>\n",
              "    </tr>\n",
              "    <tr>\n",
              "      <th id=\"T_38acb_level0_row4\" class=\"row_heading level0 row4\" >4</th>\n",
              "      <td id=\"T_38acb_row4_col0\" class=\"data row4 col0\" >Transformed data shape</td>\n",
              "      <td id=\"T_38acb_row4_col1\" class=\"data row4 col1\" >(1025, 14)</td>\n",
              "    </tr>\n",
              "    <tr>\n",
              "      <th id=\"T_38acb_level0_row5\" class=\"row_heading level0 row5\" >5</th>\n",
              "      <td id=\"T_38acb_row5_col0\" class=\"data row5 col0\" >Transformed train set shape</td>\n",
              "      <td id=\"T_38acb_row5_col1\" class=\"data row5 col1\" >(717, 14)</td>\n",
              "    </tr>\n",
              "    <tr>\n",
              "      <th id=\"T_38acb_level0_row6\" class=\"row_heading level0 row6\" >6</th>\n",
              "      <td id=\"T_38acb_row6_col0\" class=\"data row6 col0\" >Transformed test set shape</td>\n",
              "      <td id=\"T_38acb_row6_col1\" class=\"data row6 col1\" >(308, 14)</td>\n",
              "    </tr>\n",
              "    <tr>\n",
              "      <th id=\"T_38acb_level0_row7\" class=\"row_heading level0 row7\" >7</th>\n",
              "      <td id=\"T_38acb_row7_col0\" class=\"data row7 col0\" >Numeric features</td>\n",
              "      <td id=\"T_38acb_row7_col1\" class=\"data row7 col1\" >13</td>\n",
              "    </tr>\n",
              "    <tr>\n",
              "      <th id=\"T_38acb_level0_row8\" class=\"row_heading level0 row8\" >8</th>\n",
              "      <td id=\"T_38acb_row8_col0\" class=\"data row8 col0\" >Preprocess</td>\n",
              "      <td id=\"T_38acb_row8_col1\" class=\"data row8 col1\" >True</td>\n",
              "    </tr>\n",
              "    <tr>\n",
              "      <th id=\"T_38acb_level0_row9\" class=\"row_heading level0 row9\" >9</th>\n",
              "      <td id=\"T_38acb_row9_col0\" class=\"data row9 col0\" >Imputation type</td>\n",
              "      <td id=\"T_38acb_row9_col1\" class=\"data row9 col1\" >simple</td>\n",
              "    </tr>\n",
              "    <tr>\n",
              "      <th id=\"T_38acb_level0_row10\" class=\"row_heading level0 row10\" >10</th>\n",
              "      <td id=\"T_38acb_row10_col0\" class=\"data row10 col0\" >Numeric imputation</td>\n",
              "      <td id=\"T_38acb_row10_col1\" class=\"data row10 col1\" >mean</td>\n",
              "    </tr>\n",
              "    <tr>\n",
              "      <th id=\"T_38acb_level0_row11\" class=\"row_heading level0 row11\" >11</th>\n",
              "      <td id=\"T_38acb_row11_col0\" class=\"data row11 col0\" >Categorical imputation</td>\n",
              "      <td id=\"T_38acb_row11_col1\" class=\"data row11 col1\" >mode</td>\n",
              "    </tr>\n",
              "    <tr>\n",
              "      <th id=\"T_38acb_level0_row12\" class=\"row_heading level0 row12\" >12</th>\n",
              "      <td id=\"T_38acb_row12_col0\" class=\"data row12 col0\" >Fold Generator</td>\n",
              "      <td id=\"T_38acb_row12_col1\" class=\"data row12 col1\" >StratifiedKFold</td>\n",
              "    </tr>\n",
              "    <tr>\n",
              "      <th id=\"T_38acb_level0_row13\" class=\"row_heading level0 row13\" >13</th>\n",
              "      <td id=\"T_38acb_row13_col0\" class=\"data row13 col0\" >Fold Number</td>\n",
              "      <td id=\"T_38acb_row13_col1\" class=\"data row13 col1\" >10</td>\n",
              "    </tr>\n",
              "    <tr>\n",
              "      <th id=\"T_38acb_level0_row14\" class=\"row_heading level0 row14\" >14</th>\n",
              "      <td id=\"T_38acb_row14_col0\" class=\"data row14 col0\" >CPU Jobs</td>\n",
              "      <td id=\"T_38acb_row14_col1\" class=\"data row14 col1\" >-1</td>\n",
              "    </tr>\n",
              "    <tr>\n",
              "      <th id=\"T_38acb_level0_row15\" class=\"row_heading level0 row15\" >15</th>\n",
              "      <td id=\"T_38acb_row15_col0\" class=\"data row15 col0\" >Use GPU</td>\n",
              "      <td id=\"T_38acb_row15_col1\" class=\"data row15 col1\" >False</td>\n",
              "    </tr>\n",
              "    <tr>\n",
              "      <th id=\"T_38acb_level0_row16\" class=\"row_heading level0 row16\" >16</th>\n",
              "      <td id=\"T_38acb_row16_col0\" class=\"data row16 col0\" >Log Experiment</td>\n",
              "      <td id=\"T_38acb_row16_col1\" class=\"data row16 col1\" >False</td>\n",
              "    </tr>\n",
              "    <tr>\n",
              "      <th id=\"T_38acb_level0_row17\" class=\"row_heading level0 row17\" >17</th>\n",
              "      <td id=\"T_38acb_row17_col0\" class=\"data row17 col0\" >Experiment Name</td>\n",
              "      <td id=\"T_38acb_row17_col1\" class=\"data row17 col1\" >clf-default-name</td>\n",
              "    </tr>\n",
              "    <tr>\n",
              "      <th id=\"T_38acb_level0_row18\" class=\"row_heading level0 row18\" >18</th>\n",
              "      <td id=\"T_38acb_row18_col0\" class=\"data row18 col0\" >USI</td>\n",
              "      <td id=\"T_38acb_row18_col1\" class=\"data row18 col1\" >10c4</td>\n",
              "    </tr>\n",
              "  </tbody>\n",
              "</table>\n"
            ]
          },
          "metadata": {}
        }
      ],
      "source": [
        "from pycaret.classification import *\n",
        "exp = setup(data=data, target='target',train_size=0.70, session_id=123)"
      ]
    },
    {
      "cell_type": "code",
      "execution_count": 90,
      "metadata": {
        "id": "4Fk0q3NnHHcB",
        "colab": {
          "base_uri": "https://localhost:8080/",
          "height": 519,
          "referenced_widgets": [
            "0aa203fb53474b54a60c6e8e31961a52",
            "77fddc383da046e4b8b8318a907a8090",
            "112a4a8f43744fa98a6e6e5387504dcc",
            "157f6abd35ca4c88b33eb291a005f96e",
            "0a87d715b5dd4d0691652aa3dc935f60",
            "e86c1d12b6714253aa58575fbbf65169",
            "7b3f2703b19d4525abe01877c6942957",
            "7478aca6192845c487e6fad61be4d6dc",
            "b0a63cd1cc5c4a738bd6f711e3ab8053",
            "622d0ff087434168b2f7c88b8a57d619",
            "6561250ed6854087a5819abf1823fd5d"
          ]
        },
        "outputId": "3f50501c-a1dd-48fa-92e5-10f7202b422e"
      },
      "outputs": [
        {
          "output_type": "display_data",
          "data": {
            "text/plain": [
              "<IPython.core.display.HTML object>"
            ],
            "text/html": []
          },
          "metadata": {}
        },
        {
          "output_type": "display_data",
          "data": {
            "text/plain": [
              "<pandas.io.formats.style.Styler at 0x7f2019b5df60>"
            ],
            "text/html": [
              "<style type=\"text/css\">\n",
              "#T_f6fbb th {\n",
              "  text-align: left;\n",
              "}\n",
              "#T_f6fbb_row0_col0, #T_f6fbb_row0_col2, #T_f6fbb_row0_col3, #T_f6fbb_row0_col4, #T_f6fbb_row1_col0, #T_f6fbb_row1_col1, #T_f6fbb_row1_col3, #T_f6fbb_row1_col5, #T_f6fbb_row1_col6, #T_f6fbb_row1_col7, #T_f6fbb_row2_col0, #T_f6fbb_row2_col1, #T_f6fbb_row2_col2, #T_f6fbb_row2_col3, #T_f6fbb_row2_col4, #T_f6fbb_row2_col5, #T_f6fbb_row2_col6, #T_f6fbb_row2_col7, #T_f6fbb_row3_col0, #T_f6fbb_row3_col1, #T_f6fbb_row3_col2, #T_f6fbb_row3_col3, #T_f6fbb_row3_col4, #T_f6fbb_row3_col5, #T_f6fbb_row3_col6, #T_f6fbb_row3_col7, #T_f6fbb_row4_col0, #T_f6fbb_row4_col1, #T_f6fbb_row4_col2, #T_f6fbb_row4_col3, #T_f6fbb_row4_col4, #T_f6fbb_row4_col5, #T_f6fbb_row4_col6, #T_f6fbb_row4_col7, #T_f6fbb_row5_col0, #T_f6fbb_row5_col1, #T_f6fbb_row5_col2, #T_f6fbb_row5_col3, #T_f6fbb_row5_col4, #T_f6fbb_row5_col5, #T_f6fbb_row5_col6, #T_f6fbb_row5_col7, #T_f6fbb_row6_col0, #T_f6fbb_row6_col1, #T_f6fbb_row6_col2, #T_f6fbb_row6_col3, #T_f6fbb_row6_col4, #T_f6fbb_row6_col5, #T_f6fbb_row6_col6, #T_f6fbb_row6_col7, #T_f6fbb_row7_col0, #T_f6fbb_row7_col1, #T_f6fbb_row7_col2, #T_f6fbb_row7_col3, #T_f6fbb_row7_col4, #T_f6fbb_row7_col5, #T_f6fbb_row7_col6, #T_f6fbb_row7_col7, #T_f6fbb_row8_col0, #T_f6fbb_row8_col1, #T_f6fbb_row8_col2, #T_f6fbb_row8_col3, #T_f6fbb_row8_col4, #T_f6fbb_row8_col5, #T_f6fbb_row8_col6, #T_f6fbb_row8_col7, #T_f6fbb_row9_col0, #T_f6fbb_row9_col1, #T_f6fbb_row9_col2, #T_f6fbb_row9_col3, #T_f6fbb_row9_col4, #T_f6fbb_row9_col5, #T_f6fbb_row9_col6, #T_f6fbb_row9_col7, #T_f6fbb_row10_col0, #T_f6fbb_row10_col1, #T_f6fbb_row10_col2, #T_f6fbb_row10_col3, #T_f6fbb_row10_col4, #T_f6fbb_row10_col5, #T_f6fbb_row10_col6, #T_f6fbb_row10_col7, #T_f6fbb_row11_col0, #T_f6fbb_row11_col1, #T_f6fbb_row11_col2, #T_f6fbb_row11_col3, #T_f6fbb_row11_col4, #T_f6fbb_row11_col5, #T_f6fbb_row11_col6, #T_f6fbb_row11_col7, #T_f6fbb_row12_col0, #T_f6fbb_row12_col1, #T_f6fbb_row12_col2, #T_f6fbb_row12_col3, #T_f6fbb_row12_col4, #T_f6fbb_row12_col5, #T_f6fbb_row12_col6, #T_f6fbb_row12_col7, #T_f6fbb_row13_col0, #T_f6fbb_row13_col1, #T_f6fbb_row13_col2, #T_f6fbb_row13_col3, #T_f6fbb_row13_col4, #T_f6fbb_row13_col5, #T_f6fbb_row13_col6, #T_f6fbb_row13_col7, #T_f6fbb_row14_col0, #T_f6fbb_row14_col1, #T_f6fbb_row14_col2, #T_f6fbb_row14_col4, #T_f6fbb_row14_col5, #T_f6fbb_row14_col6, #T_f6fbb_row14_col7 {\n",
              "  text-align: left;\n",
              "}\n",
              "#T_f6fbb_row0_col1, #T_f6fbb_row0_col5, #T_f6fbb_row0_col6, #T_f6fbb_row0_col7, #T_f6fbb_row1_col2, #T_f6fbb_row1_col4, #T_f6fbb_row14_col3 {\n",
              "  text-align: left;\n",
              "  background-color: yellow;\n",
              "}\n",
              "#T_f6fbb_row0_col8, #T_f6fbb_row1_col8, #T_f6fbb_row2_col8, #T_f6fbb_row3_col8, #T_f6fbb_row4_col8, #T_f6fbb_row5_col8, #T_f6fbb_row6_col8, #T_f6fbb_row7_col8, #T_f6fbb_row8_col8, #T_f6fbb_row10_col8, #T_f6fbb_row11_col8, #T_f6fbb_row12_col8, #T_f6fbb_row13_col8, #T_f6fbb_row14_col8 {\n",
              "  text-align: left;\n",
              "  background-color: lightgrey;\n",
              "}\n",
              "#T_f6fbb_row9_col8 {\n",
              "  text-align: left;\n",
              "  background-color: yellow;\n",
              "  background-color: lightgrey;\n",
              "}\n",
              "</style>\n",
              "<table id=\"T_f6fbb\" class=\"dataframe\">\n",
              "  <thead>\n",
              "    <tr>\n",
              "      <th class=\"blank level0\" >&nbsp;</th>\n",
              "      <th id=\"T_f6fbb_level0_col0\" class=\"col_heading level0 col0\" >Model</th>\n",
              "      <th id=\"T_f6fbb_level0_col1\" class=\"col_heading level0 col1\" >Accuracy</th>\n",
              "      <th id=\"T_f6fbb_level0_col2\" class=\"col_heading level0 col2\" >AUC</th>\n",
              "      <th id=\"T_f6fbb_level0_col3\" class=\"col_heading level0 col3\" >Recall</th>\n",
              "      <th id=\"T_f6fbb_level0_col4\" class=\"col_heading level0 col4\" >Prec.</th>\n",
              "      <th id=\"T_f6fbb_level0_col5\" class=\"col_heading level0 col5\" >F1</th>\n",
              "      <th id=\"T_f6fbb_level0_col6\" class=\"col_heading level0 col6\" >Kappa</th>\n",
              "      <th id=\"T_f6fbb_level0_col7\" class=\"col_heading level0 col7\" >MCC</th>\n",
              "      <th id=\"T_f6fbb_level0_col8\" class=\"col_heading level0 col8\" >TT (Sec)</th>\n",
              "    </tr>\n",
              "  </thead>\n",
              "  <tbody>\n",
              "    <tr>\n",
              "      <th id=\"T_f6fbb_level0_row0\" class=\"row_heading level0 row0\" >rf</th>\n",
              "      <td id=\"T_f6fbb_row0_col0\" class=\"data row0 col0\" >Random Forest Classifier</td>\n",
              "      <td id=\"T_f6fbb_row0_col1\" class=\"data row0 col1\" >0.9805</td>\n",
              "      <td id=\"T_f6fbb_row0_col2\" class=\"data row0 col2\" >0.9978</td>\n",
              "      <td id=\"T_f6fbb_row0_col3\" class=\"data row0 col3\" >0.9837</td>\n",
              "      <td id=\"T_f6fbb_row0_col4\" class=\"data row0 col4\" >0.9786</td>\n",
              "      <td id=\"T_f6fbb_row0_col5\" class=\"data row0 col5\" >0.9810</td>\n",
              "      <td id=\"T_f6fbb_row0_col6\" class=\"data row0 col6\" >0.9609</td>\n",
              "      <td id=\"T_f6fbb_row0_col7\" class=\"data row0 col7\" >0.9612</td>\n",
              "      <td id=\"T_f6fbb_row0_col8\" class=\"data row0 col8\" >0.4475</td>\n",
              "    </tr>\n",
              "    <tr>\n",
              "      <th id=\"T_f6fbb_level0_row1\" class=\"row_heading level0 row1\" >et</th>\n",
              "      <td id=\"T_f6fbb_row1_col0\" class=\"data row1 col0\" >Extra Trees Classifier</td>\n",
              "      <td id=\"T_f6fbb_row1_col1\" class=\"data row1 col1\" >0.9791</td>\n",
              "      <td id=\"T_f6fbb_row1_col2\" class=\"data row1 col2\" >0.9988</td>\n",
              "      <td id=\"T_f6fbb_row1_col3\" class=\"data row1 col3\" >0.9810</td>\n",
              "      <td id=\"T_f6fbb_row1_col4\" class=\"data row1 col4\" >0.9789</td>\n",
              "      <td id=\"T_f6fbb_row1_col5\" class=\"data row1 col5\" >0.9796</td>\n",
              "      <td id=\"T_f6fbb_row1_col6\" class=\"data row1 col6\" >0.9581</td>\n",
              "      <td id=\"T_f6fbb_row1_col7\" class=\"data row1 col7\" >0.9588</td>\n",
              "      <td id=\"T_f6fbb_row1_col8\" class=\"data row1 col8\" >0.6525</td>\n",
              "    </tr>\n",
              "    <tr>\n",
              "      <th id=\"T_f6fbb_level0_row2\" class=\"row_heading level0 row2\" >lightgbm</th>\n",
              "      <td id=\"T_f6fbb_row2_col0\" class=\"data row2 col0\" >Light Gradient Boosting Machine</td>\n",
              "      <td id=\"T_f6fbb_row2_col1\" class=\"data row2 col1\" >0.9763</td>\n",
              "      <td id=\"T_f6fbb_row2_col2\" class=\"data row2 col2\" >0.9911</td>\n",
              "      <td id=\"T_f6fbb_row2_col3\" class=\"data row2 col3\" >0.9810</td>\n",
              "      <td id=\"T_f6fbb_row2_col4\" class=\"data row2 col4\" >0.9737</td>\n",
              "      <td id=\"T_f6fbb_row2_col5\" class=\"data row2 col5\" >0.9771</td>\n",
              "      <td id=\"T_f6fbb_row2_col6\" class=\"data row2 col6\" >0.9526</td>\n",
              "      <td id=\"T_f6fbb_row2_col7\" class=\"data row2 col7\" >0.9531</td>\n",
              "      <td id=\"T_f6fbb_row2_col8\" class=\"data row2 col8\" >0.4800</td>\n",
              "    </tr>\n",
              "    <tr>\n",
              "      <th id=\"T_f6fbb_level0_row3\" class=\"row_heading level0 row3\" >xgboost</th>\n",
              "      <td id=\"T_f6fbb_row3_col0\" class=\"data row3 col0\" >Extreme Gradient Boosting</td>\n",
              "      <td id=\"T_f6fbb_row3_col1\" class=\"data row3 col1\" >0.9749</td>\n",
              "      <td id=\"T_f6fbb_row3_col2\" class=\"data row3 col2\" >0.9912</td>\n",
              "      <td id=\"T_f6fbb_row3_col3\" class=\"data row3 col3\" >0.9755</td>\n",
              "      <td id=\"T_f6fbb_row3_col4\" class=\"data row3 col4\" >0.9765</td>\n",
              "      <td id=\"T_f6fbb_row3_col5\" class=\"data row3 col5\" >0.9756</td>\n",
              "      <td id=\"T_f6fbb_row3_col6\" class=\"data row3 col6\" >0.9498</td>\n",
              "      <td id=\"T_f6fbb_row3_col7\" class=\"data row3 col7\" >0.9505</td>\n",
              "      <td id=\"T_f6fbb_row3_col8\" class=\"data row3 col8\" >0.1800</td>\n",
              "    </tr>\n",
              "    <tr>\n",
              "      <th id=\"T_f6fbb_level0_row4\" class=\"row_heading level0 row4\" >dt</th>\n",
              "      <td id=\"T_f6fbb_row4_col0\" class=\"data row4 col0\" >Decision Tree Classifier</td>\n",
              "      <td id=\"T_f6fbb_row4_col1\" class=\"data row4 col1\" >0.9665</td>\n",
              "      <td id=\"T_f6fbb_row4_col2\" class=\"data row4 col2\" >0.9665</td>\n",
              "      <td id=\"T_f6fbb_row4_col3\" class=\"data row4 col3\" >0.9674</td>\n",
              "      <td id=\"T_f6fbb_row4_col4\" class=\"data row4 col4\" >0.9674</td>\n",
              "      <td id=\"T_f6fbb_row4_col5\" class=\"data row4 col5\" >0.9673</td>\n",
              "      <td id=\"T_f6fbb_row4_col6\" class=\"data row4 col6\" >0.9330</td>\n",
              "      <td id=\"T_f6fbb_row4_col7\" class=\"data row4 col7\" >0.9332</td>\n",
              "      <td id=\"T_f6fbb_row4_col8\" class=\"data row4 col8\" >0.1125</td>\n",
              "    </tr>\n",
              "    <tr>\n",
              "      <th id=\"T_f6fbb_level0_row5\" class=\"row_heading level0 row5\" >gbc</th>\n",
              "      <td id=\"T_f6fbb_row5_col0\" class=\"data row5 col0\" >Gradient Boosting Classifier</td>\n",
              "      <td id=\"T_f6fbb_row5_col1\" class=\"data row5 col1\" >0.9554</td>\n",
              "      <td id=\"T_f6fbb_row5_col2\" class=\"data row5 col2\" >0.9877</td>\n",
              "      <td id=\"T_f6fbb_row5_col3\" class=\"data row5 col3\" >0.9647</td>\n",
              "      <td id=\"T_f6fbb_row5_col4\" class=\"data row5 col4\" >0.9495</td>\n",
              "      <td id=\"T_f6fbb_row5_col5\" class=\"data row5 col5\" >0.9569</td>\n",
              "      <td id=\"T_f6fbb_row5_col6\" class=\"data row5 col6\" >0.9106</td>\n",
              "      <td id=\"T_f6fbb_row5_col7\" class=\"data row5 col7\" >0.9110</td>\n",
              "      <td id=\"T_f6fbb_row5_col8\" class=\"data row5 col8\" >0.4525</td>\n",
              "    </tr>\n",
              "    <tr>\n",
              "      <th id=\"T_f6fbb_level0_row6\" class=\"row_heading level0 row6\" >ada</th>\n",
              "      <td id=\"T_f6fbb_row6_col0\" class=\"data row6 col0\" >Ada Boost Classifier</td>\n",
              "      <td id=\"T_f6fbb_row6_col1\" class=\"data row6 col1\" >0.8953</td>\n",
              "      <td id=\"T_f6fbb_row6_col2\" class=\"data row6 col2\" >0.9619</td>\n",
              "      <td id=\"T_f6fbb_row6_col3\" class=\"data row6 col3\" >0.9022</td>\n",
              "      <td id=\"T_f6fbb_row6_col4\" class=\"data row6 col4\" >0.8949</td>\n",
              "      <td id=\"T_f6fbb_row6_col5\" class=\"data row6 col5\" >0.8984</td>\n",
              "      <td id=\"T_f6fbb_row6_col6\" class=\"data row6 col6\" >0.7905</td>\n",
              "      <td id=\"T_f6fbb_row6_col7\" class=\"data row6 col7\" >0.7907</td>\n",
              "      <td id=\"T_f6fbb_row6_col8\" class=\"data row6 col8\" >0.3275</td>\n",
              "    </tr>\n",
              "    <tr>\n",
              "      <th id=\"T_f6fbb_level0_row7\" class=\"row_heading level0 row7\" >lr</th>\n",
              "      <td id=\"T_f6fbb_row7_col0\" class=\"data row7 col0\" >Logistic Regression</td>\n",
              "      <td id=\"T_f6fbb_row7_col1\" class=\"data row7 col1\" >0.8410</td>\n",
              "      <td id=\"T_f6fbb_row7_col2\" class=\"data row7 col2\" >0.9092</td>\n",
              "      <td id=\"T_f6fbb_row7_col3\" class=\"data row7 col3\" >0.8913</td>\n",
              "      <td id=\"T_f6fbb_row7_col4\" class=\"data row7 col4\" >0.8166</td>\n",
              "      <td id=\"T_f6fbb_row7_col5\" class=\"data row7 col5\" >0.8518</td>\n",
              "      <td id=\"T_f6fbb_row7_col6\" class=\"data row7 col6\" >0.6810</td>\n",
              "      <td id=\"T_f6fbb_row7_col7\" class=\"data row7 col7\" >0.6852</td>\n",
              "      <td id=\"T_f6fbb_row7_col8\" class=\"data row7 col8\" >1.3200</td>\n",
              "    </tr>\n",
              "    <tr>\n",
              "      <th id=\"T_f6fbb_level0_row8\" class=\"row_heading level0 row8\" >qda</th>\n",
              "      <td id=\"T_f6fbb_row8_col0\" class=\"data row8 col0\" >Quadratic Discriminant Analysis</td>\n",
              "      <td id=\"T_f6fbb_row8_col1\" class=\"data row8 col1\" >0.8410</td>\n",
              "      <td id=\"T_f6fbb_row8_col2\" class=\"data row8 col2\" >0.9271</td>\n",
              "      <td id=\"T_f6fbb_row8_col3\" class=\"data row8 col3\" >0.8614</td>\n",
              "      <td id=\"T_f6fbb_row8_col4\" class=\"data row8 col4\" >0.8344</td>\n",
              "      <td id=\"T_f6fbb_row8_col5\" class=\"data row8 col5\" >0.8475</td>\n",
              "      <td id=\"T_f6fbb_row8_col6\" class=\"data row8 col6\" >0.6814</td>\n",
              "      <td id=\"T_f6fbb_row8_col7\" class=\"data row8 col7\" >0.6821</td>\n",
              "      <td id=\"T_f6fbb_row8_col8\" class=\"data row8 col8\" >0.1050</td>\n",
              "    </tr>\n",
              "    <tr>\n",
              "      <th id=\"T_f6fbb_level0_row9\" class=\"row_heading level0 row9\" >ridge</th>\n",
              "      <td id=\"T_f6fbb_row9_col0\" class=\"data row9 col0\" >Ridge Classifier</td>\n",
              "      <td id=\"T_f6fbb_row9_col1\" class=\"data row9 col1\" >0.8229</td>\n",
              "      <td id=\"T_f6fbb_row9_col2\" class=\"data row9 col2\" >0.0000</td>\n",
              "      <td id=\"T_f6fbb_row9_col3\" class=\"data row9 col3\" >0.9076</td>\n",
              "      <td id=\"T_f6fbb_row9_col4\" class=\"data row9 col4\" >0.7828</td>\n",
              "      <td id=\"T_f6fbb_row9_col5\" class=\"data row9 col5\" >0.8401</td>\n",
              "      <td id=\"T_f6fbb_row9_col6\" class=\"data row9 col6\" >0.6439</td>\n",
              "      <td id=\"T_f6fbb_row9_col7\" class=\"data row9 col7\" >0.6543</td>\n",
              "      <td id=\"T_f6fbb_row9_col8\" class=\"data row9 col8\" >0.0900</td>\n",
              "    </tr>\n",
              "    <tr>\n",
              "      <th id=\"T_f6fbb_level0_row10\" class=\"row_heading level0 row10\" >lda</th>\n",
              "      <td id=\"T_f6fbb_row10_col0\" class=\"data row10 col0\" >Linear Discriminant Analysis</td>\n",
              "      <td id=\"T_f6fbb_row10_col1\" class=\"data row10 col1\" >0.8229</td>\n",
              "      <td id=\"T_f6fbb_row10_col2\" class=\"data row10 col2\" >0.9087</td>\n",
              "      <td id=\"T_f6fbb_row10_col3\" class=\"data row10 col3\" >0.9076</td>\n",
              "      <td id=\"T_f6fbb_row10_col4\" class=\"data row10 col4\" >0.7828</td>\n",
              "      <td id=\"T_f6fbb_row10_col5\" class=\"data row10 col5\" >0.8401</td>\n",
              "      <td id=\"T_f6fbb_row10_col6\" class=\"data row10 col6\" >0.6439</td>\n",
              "      <td id=\"T_f6fbb_row10_col7\" class=\"data row10 col7\" >0.6543</td>\n",
              "      <td id=\"T_f6fbb_row10_col8\" class=\"data row10 col8\" >0.1850</td>\n",
              "    </tr>\n",
              "    <tr>\n",
              "      <th id=\"T_f6fbb_level0_row11\" class=\"row_heading level0 row11\" >nb</th>\n",
              "      <td id=\"T_f6fbb_row11_col0\" class=\"data row11 col0\" >Naive Bayes</td>\n",
              "      <td id=\"T_f6fbb_row11_col1\" class=\"data row11 col1\" >0.8187</td>\n",
              "      <td id=\"T_f6fbb_row11_col2\" class=\"data row11 col2\" >0.8962</td>\n",
              "      <td id=\"T_f6fbb_row11_col3\" class=\"data row11 col3\" >0.8668</td>\n",
              "      <td id=\"T_f6fbb_row11_col4\" class=\"data row11 col4\" >0.7975</td>\n",
              "      <td id=\"T_f6fbb_row11_col5\" class=\"data row11 col5\" >0.8306</td>\n",
              "      <td id=\"T_f6fbb_row11_col6\" class=\"data row11 col6\" >0.6363</td>\n",
              "      <td id=\"T_f6fbb_row11_col7\" class=\"data row11 col7\" >0.6391</td>\n",
              "      <td id=\"T_f6fbb_row11_col8\" class=\"data row11 col8\" >0.1350</td>\n",
              "    </tr>\n",
              "    <tr>\n",
              "      <th id=\"T_f6fbb_level0_row12\" class=\"row_heading level0 row12\" >knn</th>\n",
              "      <td id=\"T_f6fbb_row12_col0\" class=\"data row12 col0\" >K Neighbors Classifier</td>\n",
              "      <td id=\"T_f6fbb_row12_col1\" class=\"data row12 col1\" >0.7127</td>\n",
              "      <td id=\"T_f6fbb_row12_col2\" class=\"data row12 col2\" >0.8111</td>\n",
              "      <td id=\"T_f6fbb_row12_col3\" class=\"data row12 col3\" >0.7011</td>\n",
              "      <td id=\"T_f6fbb_row12_col4\" class=\"data row12 col4\" >0.7282</td>\n",
              "      <td id=\"T_f6fbb_row12_col5\" class=\"data row12 col5\" >0.7133</td>\n",
              "      <td id=\"T_f6fbb_row12_col6\" class=\"data row12 col6\" >0.4257</td>\n",
              "      <td id=\"T_f6fbb_row12_col7\" class=\"data row12 col7\" >0.4271</td>\n",
              "      <td id=\"T_f6fbb_row12_col8\" class=\"data row12 col8\" >0.1425</td>\n",
              "    </tr>\n",
              "    <tr>\n",
              "      <th id=\"T_f6fbb_level0_row13\" class=\"row_heading level0 row13\" >svm</th>\n",
              "      <td id=\"T_f6fbb_row13_col0\" class=\"data row13 col0\" >SVM - Linear Kernel</td>\n",
              "      <td id=\"T_f6fbb_row13_col1\" class=\"data row13 col1\" >0.6473</td>\n",
              "      <td id=\"T_f6fbb_row13_col2\" class=\"data row13 col2\" >0.0000</td>\n",
              "      <td id=\"T_f6fbb_row13_col3\" class=\"data row13 col3\" >0.7717</td>\n",
              "      <td id=\"T_f6fbb_row13_col4\" class=\"data row13 col4\" >0.6882</td>\n",
              "      <td id=\"T_f6fbb_row13_col5\" class=\"data row13 col5\" >0.6769</td>\n",
              "      <td id=\"T_f6fbb_row13_col6\" class=\"data row13 col6\" >0.2891</td>\n",
              "      <td id=\"T_f6fbb_row13_col7\" class=\"data row13 col7\" >0.3519</td>\n",
              "      <td id=\"T_f6fbb_row13_col8\" class=\"data row13 col8\" >0.1000</td>\n",
              "    </tr>\n",
              "    <tr>\n",
              "      <th id=\"T_f6fbb_level0_row14\" class=\"row_heading level0 row14\" >dummy</th>\n",
              "      <td id=\"T_f6fbb_row14_col0\" class=\"data row14 col0\" >Dummy Classifier</td>\n",
              "      <td id=\"T_f6fbb_row14_col1\" class=\"data row14 col1\" >0.5133</td>\n",
              "      <td id=\"T_f6fbb_row14_col2\" class=\"data row14 col2\" >0.5000</td>\n",
              "      <td id=\"T_f6fbb_row14_col3\" class=\"data row14 col3\" >1.0000</td>\n",
              "      <td id=\"T_f6fbb_row14_col4\" class=\"data row14 col4\" >0.5133</td>\n",
              "      <td id=\"T_f6fbb_row14_col5\" class=\"data row14 col5\" >0.6783</td>\n",
              "      <td id=\"T_f6fbb_row14_col6\" class=\"data row14 col6\" >0.0000</td>\n",
              "      <td id=\"T_f6fbb_row14_col7\" class=\"data row14 col7\" >0.0000</td>\n",
              "      <td id=\"T_f6fbb_row14_col8\" class=\"data row14 col8\" >0.1450</td>\n",
              "    </tr>\n",
              "  </tbody>\n",
              "</table>\n"
            ]
          },
          "metadata": {}
        },
        {
          "output_type": "display_data",
          "data": {
            "text/plain": [
              "Processing:   0%|          | 0/65 [00:00<?, ?it/s]"
            ],
            "application/vnd.jupyter.widget-view+json": {
              "version_major": 2,
              "version_minor": 0,
              "model_id": "0aa203fb53474b54a60c6e8e31961a52"
            }
          },
          "metadata": {
            "application/vnd.jupyter.widget-view+json": {
              "colab": {
                "custom_widget_manager": {
                  "url": "https://ssl.gstatic.com/colaboratory-static/widgets/colab-cdn-widget-manager/b3e629b1971e1542/manager.min.js"
                }
              }
            }
          }
        },
        {
          "output_type": "display_data",
          "data": {
            "text/plain": [
              "<IPython.core.display.HTML object>"
            ],
            "text/html": []
          },
          "metadata": {}
        }
      ],
      "source": [
        "best_model = compare_models(fold=4)"
      ]
    },
    {
      "cell_type": "code",
      "execution_count": 91,
      "metadata": {
        "id": "ZvgpbDPx95YX",
        "colab": {
          "base_uri": "https://localhost:8080/"
        },
        "outputId": "ec9a668e-bb5c-498d-c43f-b99296022b32"
      },
      "outputs": [
        {
          "output_type": "execute_result",
          "data": {
            "text/plain": [
              "{'bootstrap': True,\n",
              " 'ccp_alpha': 0.0,\n",
              " 'class_weight': None,\n",
              " 'criterion': 'gini',\n",
              " 'max_depth': None,\n",
              " 'max_features': 'sqrt',\n",
              " 'max_leaf_nodes': None,\n",
              " 'max_samples': None,\n",
              " 'min_impurity_decrease': 0.0,\n",
              " 'min_samples_leaf': 1,\n",
              " 'min_samples_split': 2,\n",
              " 'min_weight_fraction_leaf': 0.0,\n",
              " 'n_estimators': 100,\n",
              " 'n_jobs': -1,\n",
              " 'oob_score': False,\n",
              " 'random_state': 123,\n",
              " 'verbose': 0,\n",
              " 'warm_start': False}"
            ]
          },
          "metadata": {},
          "execution_count": 91
        }
      ],
      "source": [
        "# check the final params of best model\n",
        "best_model.get_params()\n"
      ]
    },
    {
      "cell_type": "code",
      "execution_count": 92,
      "metadata": {
        "id": "pzupdvVnHKH-",
        "colab": {
          "base_uri": "https://localhost:8080/",
          "height": 1000,
          "referenced_widgets": [
            "6b004f1c0e6348548fea97e26d705e6c",
            "d98ea2c5804148358174baae5cf3b462",
            "17cf1387bbea473e8ea0a594bbf3846c",
            "435f1e0d75eb4933967b18a775bc3bbd",
            "1231444c8bf34e87bb3ee5e169501cc8",
            "d02974a4d6384b1a91ba15390363b1a8",
            "b215223db4284a77b9aee89ee8fee098"
          ]
        },
        "outputId": "83506d6a-0cad-44cf-bec6-a152116d18e5"
      },
      "outputs": [
        {
          "output_type": "display_data",
          "data": {
            "text/plain": [
              "interactive(children=(ToggleButtons(description='Plot Type:', icons=('',), options=(('Pipeline Plot', 'pipelin…"
            ],
            "application/vnd.jupyter.widget-view+json": {
              "version_major": 2,
              "version_minor": 0,
              "model_id": "6b004f1c0e6348548fea97e26d705e6c"
            }
          },
          "metadata": {
            "application/vnd.jupyter.widget-view+json": {
              "colab": {
                "custom_widget_manager": {
                  "url": "https://ssl.gstatic.com/colaboratory-static/widgets/colab-cdn-widget-manager/b3e629b1971e1542/manager.min.js"
                }
              }
            }
          }
        },
        {
          "output_type": "display_data",
          "data": {
            "text/plain": [
              "<Figure size 1200x600 with 1 Axes>"
            ],
            "image/png": "[encoded data removed]"
          },
          "metadata": {}
        }
      ],
      "source": [
        "evaluate_model(best_model)"
      ]
    },
    {
      "cell_type": "code",
      "execution_count": 93,
      "metadata": {
        "id": "zmB69uODHMq5",
        "colab": {
          "base_uri": "https://localhost:8080/",
          "height": 491,
          "referenced_widgets": [
            "35953cc2ebcb4e75b24cce4cd5226959",
            "c1375899ffa0460eb1d26b9c0585b1d1",
            "82fa982206f14ab69efb51ed9f282e64",
            "ff928bb50ac645c18ba7b185b1d6a6a8",
            "6d234377a6e14d49a0d23957ffa1526a",
            "df7c37b92e0445c98b512906ff786ec7",
            "f4b78ddf331c4b4db45db0a22cd512a9",
            "7e72267a0e0a4d0680701fbddb57c59f",
            "c9de892ce7d04a9e8672e553951f478c",
            "79b45b4a5e0f4850a860b65084ddabd4",
            "1b86d9084e794b3ca5763c2c388aabd3"
          ]
        },
        "outputId": "52b2323a-01fa-4fc6-b12f-c086f000b918"
      },
      "outputs": [
        {
          "output_type": "display_data",
          "data": {
            "text/plain": [
              "<IPython.core.display.HTML object>"
            ],
            "text/html": []
          },
          "metadata": {}
        },
        {
          "output_type": "display_data",
          "data": {
            "text/plain": [
              "<pandas.io.formats.style.Styler at 0x7f201392c3a0>"
            ],
            "text/html": [
              "<style type=\"text/css\">\n",
              "#T_9dea0_row10_col0, #T_9dea0_row10_col1, #T_9dea0_row10_col2, #T_9dea0_row10_col3, #T_9dea0_row10_col4, #T_9dea0_row10_col5, #T_9dea0_row10_col6 {\n",
              "  background: yellow;\n",
              "}\n",
              "</style>\n",
              "<table id=\"T_9dea0\" class=\"dataframe\">\n",
              "  <thead>\n",
              "    <tr>\n",
              "      <th class=\"blank level0\" >&nbsp;</th>\n",
              "      <th id=\"T_9dea0_level0_col0\" class=\"col_heading level0 col0\" >Accuracy</th>\n",
              "      <th id=\"T_9dea0_level0_col1\" class=\"col_heading level0 col1\" >AUC</th>\n",
              "      <th id=\"T_9dea0_level0_col2\" class=\"col_heading level0 col2\" >Recall</th>\n",
              "      <th id=\"T_9dea0_level0_col3\" class=\"col_heading level0 col3\" >Prec.</th>\n",
              "      <th id=\"T_9dea0_level0_col4\" class=\"col_heading level0 col4\" >F1</th>\n",
              "      <th id=\"T_9dea0_level0_col5\" class=\"col_heading level0 col5\" >Kappa</th>\n",
              "      <th id=\"T_9dea0_level0_col6\" class=\"col_heading level0 col6\" >MCC</th>\n",
              "    </tr>\n",
              "    <tr>\n",
              "      <th class=\"index_name level0\" >Fold</th>\n",
              "      <th class=\"blank col0\" >&nbsp;</th>\n",
              "      <th class=\"blank col1\" >&nbsp;</th>\n",
              "      <th class=\"blank col2\" >&nbsp;</th>\n",
              "      <th class=\"blank col3\" >&nbsp;</th>\n",
              "      <th class=\"blank col4\" >&nbsp;</th>\n",
              "      <th class=\"blank col5\" >&nbsp;</th>\n",
              "      <th class=\"blank col6\" >&nbsp;</th>\n",
              "    </tr>\n",
              "  </thead>\n",
              "  <tbody>\n",
              "    <tr>\n",
              "      <th id=\"T_9dea0_level0_row0\" class=\"row_heading level0 row0\" >0</th>\n",
              "      <td id=\"T_9dea0_row0_col0\" class=\"data row0 col0\" >0.9167</td>\n",
              "      <td id=\"T_9dea0_row0_col1\" class=\"data row0 col1\" >0.9876</td>\n",
              "      <td id=\"T_9dea0_row0_col2\" class=\"data row0 col2\" >0.9189</td>\n",
              "      <td id=\"T_9dea0_row0_col3\" class=\"data row0 col3\" >0.9189</td>\n",
              "      <td id=\"T_9dea0_row0_col4\" class=\"data row0 col4\" >0.9189</td>\n",
              "      <td id=\"T_9dea0_row0_col5\" class=\"data row0 col5\" >0.8332</td>\n",
              "      <td id=\"T_9dea0_row0_col6\" class=\"data row0 col6\" >0.8332</td>\n",
              "    </tr>\n",
              "    <tr>\n",
              "      <th id=\"T_9dea0_level0_row1\" class=\"row_heading level0 row1\" >1</th>\n",
              "      <td id=\"T_9dea0_row1_col0\" class=\"data row1 col0\" >0.9167</td>\n",
              "      <td id=\"T_9dea0_row1_col1\" class=\"data row1 col1\" >0.9907</td>\n",
              "      <td id=\"T_9dea0_row1_col2\" class=\"data row1 col2\" >0.9730</td>\n",
              "      <td id=\"T_9dea0_row1_col3\" class=\"data row1 col3\" >0.8780</td>\n",
              "      <td id=\"T_9dea0_row1_col4\" class=\"data row1 col4\" >0.9231</td>\n",
              "      <td id=\"T_9dea0_row1_col5\" class=\"data row1 col5\" >0.8327</td>\n",
              "      <td id=\"T_9dea0_row1_col6\" class=\"data row1 col6\" >0.8379</td>\n",
              "    </tr>\n",
              "    <tr>\n",
              "      <th id=\"T_9dea0_level0_row2\" class=\"row_heading level0 row2\" >2</th>\n",
              "      <td id=\"T_9dea0_row2_col0\" class=\"data row2 col0\" >0.9028</td>\n",
              "      <td id=\"T_9dea0_row2_col1\" class=\"data row2 col1\" >0.9761</td>\n",
              "      <td id=\"T_9dea0_row2_col2\" class=\"data row2 col2\" >0.9189</td>\n",
              "      <td id=\"T_9dea0_row2_col3\" class=\"data row2 col3\" >0.8947</td>\n",
              "      <td id=\"T_9dea0_row2_col4\" class=\"data row2 col4\" >0.9067</td>\n",
              "      <td id=\"T_9dea0_row2_col5\" class=\"data row2 col5\" >0.8053</td>\n",
              "      <td id=\"T_9dea0_row2_col6\" class=\"data row2 col6\" >0.8056</td>\n",
              "    </tr>\n",
              "    <tr>\n",
              "      <th id=\"T_9dea0_level0_row3\" class=\"row_heading level0 row3\" >3</th>\n",
              "      <td id=\"T_9dea0_row3_col0\" class=\"data row3 col0\" >0.9306</td>\n",
              "      <td id=\"T_9dea0_row3_col1\" class=\"data row3 col1\" >0.9876</td>\n",
              "      <td id=\"T_9dea0_row3_col2\" class=\"data row3 col2\" >0.9459</td>\n",
              "      <td id=\"T_9dea0_row3_col3\" class=\"data row3 col3\" >0.9211</td>\n",
              "      <td id=\"T_9dea0_row3_col4\" class=\"data row3 col4\" >0.9333</td>\n",
              "      <td id=\"T_9dea0_row3_col5\" class=\"data row3 col5\" >0.8609</td>\n",
              "      <td id=\"T_9dea0_row3_col6\" class=\"data row3 col6\" >0.8612</td>\n",
              "    </tr>\n",
              "    <tr>\n",
              "      <th id=\"T_9dea0_level0_row4\" class=\"row_heading level0 row4\" >4</th>\n",
              "      <td id=\"T_9dea0_row4_col0\" class=\"data row4 col0\" >0.9167</td>\n",
              "      <td id=\"T_9dea0_row4_col1\" class=\"data row4 col1\" >0.9761</td>\n",
              "      <td id=\"T_9dea0_row4_col2\" class=\"data row4 col2\" >0.9459</td>\n",
              "      <td id=\"T_9dea0_row4_col3\" class=\"data row4 col3\" >0.8974</td>\n",
              "      <td id=\"T_9dea0_row4_col4\" class=\"data row4 col4\" >0.9211</td>\n",
              "      <td id=\"T_9dea0_row4_col5\" class=\"data row4 col5\" >0.8329</td>\n",
              "      <td id=\"T_9dea0_row4_col6\" class=\"data row4 col6\" >0.8342</td>\n",
              "    </tr>\n",
              "    <tr>\n",
              "      <th id=\"T_9dea0_level0_row5\" class=\"row_heading level0 row5\" >5</th>\n",
              "      <td id=\"T_9dea0_row5_col0\" class=\"data row5 col0\" >0.9306</td>\n",
              "      <td id=\"T_9dea0_row5_col1\" class=\"data row5 col1\" >0.9799</td>\n",
              "      <td id=\"T_9dea0_row5_col2\" class=\"data row5 col2\" >0.9459</td>\n",
              "      <td id=\"T_9dea0_row5_col3\" class=\"data row5 col3\" >0.9211</td>\n",
              "      <td id=\"T_9dea0_row5_col4\" class=\"data row5 col4\" >0.9333</td>\n",
              "      <td id=\"T_9dea0_row5_col5\" class=\"data row5 col5\" >0.8609</td>\n",
              "      <td id=\"T_9dea0_row5_col6\" class=\"data row5 col6\" >0.8612</td>\n",
              "    </tr>\n",
              "    <tr>\n",
              "      <th id=\"T_9dea0_level0_row6\" class=\"row_heading level0 row6\" >6</th>\n",
              "      <td id=\"T_9dea0_row6_col0\" class=\"data row6 col0\" >0.9167</td>\n",
              "      <td id=\"T_9dea0_row6_col1\" class=\"data row6 col1\" >0.9815</td>\n",
              "      <td id=\"T_9dea0_row6_col2\" class=\"data row6 col2\" >0.9459</td>\n",
              "      <td id=\"T_9dea0_row6_col3\" class=\"data row6 col3\" >0.8974</td>\n",
              "      <td id=\"T_9dea0_row6_col4\" class=\"data row6 col4\" >0.9211</td>\n",
              "      <td id=\"T_9dea0_row6_col5\" class=\"data row6 col5\" >0.8329</td>\n",
              "      <td id=\"T_9dea0_row6_col6\" class=\"data row6 col6\" >0.8342</td>\n",
              "    </tr>\n",
              "    <tr>\n",
              "      <th id=\"T_9dea0_level0_row7\" class=\"row_heading level0 row7\" >7</th>\n",
              "      <td id=\"T_9dea0_row7_col0\" class=\"data row7 col0\" >0.9014</td>\n",
              "      <td id=\"T_9dea0_row7_col1\" class=\"data row7 col1\" >0.9539</td>\n",
              "      <td id=\"T_9dea0_row7_col2\" class=\"data row7 col2\" >0.9189</td>\n",
              "      <td id=\"T_9dea0_row7_col3\" class=\"data row7 col3\" >0.8947</td>\n",
              "      <td id=\"T_9dea0_row7_col4\" class=\"data row7 col4\" >0.9067</td>\n",
              "      <td id=\"T_9dea0_row7_col5\" class=\"data row7 col5\" >0.8022</td>\n",
              "      <td id=\"T_9dea0_row7_col6\" class=\"data row7 col6\" >0.8025</td>\n",
              "    </tr>\n",
              "    <tr>\n",
              "      <th id=\"T_9dea0_level0_row8\" class=\"row_heading level0 row8\" >8</th>\n",
              "      <td id=\"T_9dea0_row8_col0\" class=\"data row8 col0\" >0.9437</td>\n",
              "      <td id=\"T_9dea0_row8_col1\" class=\"data row8 col1\" >0.9841</td>\n",
              "      <td id=\"T_9dea0_row8_col2\" class=\"data row8 col2\" >0.9444</td>\n",
              "      <td id=\"T_9dea0_row8_col3\" class=\"data row8 col3\" >0.9444</td>\n",
              "      <td id=\"T_9dea0_row8_col4\" class=\"data row8 col4\" >0.9444</td>\n",
              "      <td id=\"T_9dea0_row8_col5\" class=\"data row8 col5\" >0.8873</td>\n",
              "      <td id=\"T_9dea0_row8_col6\" class=\"data row8 col6\" >0.8873</td>\n",
              "    </tr>\n",
              "    <tr>\n",
              "      <th id=\"T_9dea0_level0_row9\" class=\"row_heading level0 row9\" >9</th>\n",
              "      <td id=\"T_9dea0_row9_col0\" class=\"data row9 col0\" >0.9437</td>\n",
              "      <td id=\"T_9dea0_row9_col1\" class=\"data row9 col1\" >0.9762</td>\n",
              "      <td id=\"T_9dea0_row9_col2\" class=\"data row9 col2\" >0.9444</td>\n",
              "      <td id=\"T_9dea0_row9_col3\" class=\"data row9 col3\" >0.9444</td>\n",
              "      <td id=\"T_9dea0_row9_col4\" class=\"data row9 col4\" >0.9444</td>\n",
              "      <td id=\"T_9dea0_row9_col5\" class=\"data row9 col5\" >0.8873</td>\n",
              "      <td id=\"T_9dea0_row9_col6\" class=\"data row9 col6\" >0.8873</td>\n",
              "    </tr>\n",
              "    <tr>\n",
              "      <th id=\"T_9dea0_level0_row10\" class=\"row_heading level0 row10\" >Mean</th>\n",
              "      <td id=\"T_9dea0_row10_col0\" class=\"data row10 col0\" >0.9219</td>\n",
              "      <td id=\"T_9dea0_row10_col1\" class=\"data row10 col1\" >0.9794</td>\n",
              "      <td id=\"T_9dea0_row10_col2\" class=\"data row10 col2\" >0.9402</td>\n",
              "      <td id=\"T_9dea0_row10_col3\" class=\"data row10 col3\" >0.9112</td>\n",
              "      <td id=\"T_9dea0_row10_col4\" class=\"data row10 col4\" >0.9253</td>\n",
              "      <td id=\"T_9dea0_row10_col5\" class=\"data row10 col5\" >0.8436</td>\n",
              "      <td id=\"T_9dea0_row10_col6\" class=\"data row10 col6\" >0.8445</td>\n",
              "    </tr>\n",
              "    <tr>\n",
              "      <th id=\"T_9dea0_level0_row11\" class=\"row_heading level0 row11\" >Std</th>\n",
              "      <td id=\"T_9dea0_row11_col0\" class=\"data row11 col0\" >0.0141</td>\n",
              "      <td id=\"T_9dea0_row11_col1\" class=\"data row11 col1\" >0.0099</td>\n",
              "      <td id=\"T_9dea0_row11_col2\" class=\"data row11 col2\" >0.0161</td>\n",
              "      <td id=\"T_9dea0_row11_col3\" class=\"data row11 col3\" >0.0212</td>\n",
              "      <td id=\"T_9dea0_row11_col4\" class=\"data row11 col4\" >0.0128</td>\n",
              "      <td id=\"T_9dea0_row11_col5\" class=\"data row11 col5\" >0.0284</td>\n",
              "      <td id=\"T_9dea0_row11_col6\" class=\"data row11 col6\" >0.0281</td>\n",
              "    </tr>\n",
              "  </tbody>\n",
              "</table>\n"
            ]
          },
          "metadata": {}
        },
        {
          "output_type": "display_data",
          "data": {
            "text/plain": [
              "Processing:   0%|          | 0/7 [00:00<?, ?it/s]"
            ],
            "application/vnd.jupyter.widget-view+json": {
              "version_major": 2,
              "version_minor": 0,
              "model_id": "35953cc2ebcb4e75b24cce4cd5226959"
            }
          },
          "metadata": {
            "application/vnd.jupyter.widget-view+json": {
              "colab": {
                "custom_widget_manager": {
                  "url": "https://ssl.gstatic.com/colaboratory-static/widgets/colab-cdn-widget-manager/b3e629b1971e1542/manager.min.js"
                }
              }
            }
          }
        },
        {
          "output_type": "stream",
          "name": "stdout",
          "text": [
            "Fitting 10 folds for each of 10 candidates, totalling 100 fits\n"
          ]
        },
        {
          "output_type": "display_data",
          "data": {
            "text/plain": [
              "<IPython.core.display.HTML object>"
            ],
            "text/html": []
          },
          "metadata": {}
        },
        {
          "output_type": "stream",
          "name": "stdout",
          "text": [
            "Original model was better than the tuned model, hence it will be returned. NOTE: The display metrics are for the tuned model (not the original one).\n"
          ]
        }
      ],
      "source": [
        "tuned_model = tune_model(best_model)"
      ]
    },
    {
      "cell_type": "code",
      "execution_count": 94,
      "metadata": {
        "id": "ltRP1uKtHQC-",
        "colab": {
          "base_uri": "https://localhost:8080/",
          "height": 81
        },
        "outputId": "588fed5d-282e-469e-d44b-1124c657379f"
      },
      "outputs": [
        {
          "output_type": "display_data",
          "data": {
            "text/plain": [
              "<pandas.io.formats.style.Styler at 0x7f2013e93e20>"
            ],
            "text/html": [
              "<style type=\"text/css\">\n",
              "</style>\n",
              "<table id=\"T_3faf2\" class=\"dataframe\">\n",
              "  <thead>\n",
              "    <tr>\n",
              "      <th class=\"blank level0\" >&nbsp;</th>\n",
              "      <th id=\"T_3faf2_level0_col0\" class=\"col_heading level0 col0\" >Model</th>\n",
              "      <th id=\"T_3faf2_level0_col1\" class=\"col_heading level0 col1\" >Accuracy</th>\n",
              "      <th id=\"T_3faf2_level0_col2\" class=\"col_heading level0 col2\" >AUC</th>\n",
              "      <th id=\"T_3faf2_level0_col3\" class=\"col_heading level0 col3\" >Recall</th>\n",
              "      <th id=\"T_3faf2_level0_col4\" class=\"col_heading level0 col4\" >Prec.</th>\n",
              "      <th id=\"T_3faf2_level0_col5\" class=\"col_heading level0 col5\" >F1</th>\n",
              "      <th id=\"T_3faf2_level0_col6\" class=\"col_heading level0 col6\" >Kappa</th>\n",
              "      <th id=\"T_3faf2_level0_col7\" class=\"col_heading level0 col7\" >MCC</th>\n",
              "    </tr>\n",
              "  </thead>\n",
              "  <tbody>\n",
              "    <tr>\n",
              "      <th id=\"T_3faf2_level0_row0\" class=\"row_heading level0 row0\" >0</th>\n",
              "      <td id=\"T_3faf2_row0_col0\" class=\"data row0 col0\" >Random Forest Classifier</td>\n",
              "      <td id=\"T_3faf2_row0_col1\" class=\"data row0 col1\" >1.0000</td>\n",
              "      <td id=\"T_3faf2_row0_col2\" class=\"data row0 col2\" >1.0000</td>\n",
              "      <td id=\"T_3faf2_row0_col3\" class=\"data row0 col3\" >1.0000</td>\n",
              "      <td id=\"T_3faf2_row0_col4\" class=\"data row0 col4\" >1.0000</td>\n",
              "      <td id=\"T_3faf2_row0_col5\" class=\"data row0 col5\" >1.0000</td>\n",
              "      <td id=\"T_3faf2_row0_col6\" class=\"data row0 col6\" >1.0000</td>\n",
              "      <td id=\"T_3faf2_row0_col7\" class=\"data row0 col7\" >1.0000</td>\n",
              "    </tr>\n",
              "  </tbody>\n",
              "</table>\n"
            ]
          },
          "metadata": {}
        }
      ],
      "source": [
        "predictions = predict_model(tuned_model, data=data.drop('target', axis = 1, inplace = True))"
      ]
    },
    {
      "cell_type": "markdown",
      "metadata": {
        "id": "FVdIZlGf2UPG"
      },
      "source": [
        "# Pycaret-- TUNED MODEL \n",
        "\n",
        "\n"
      ]
    },
    {
      "cell_type": "code",
      "execution_count": 95,
      "metadata": {
        "id": "IPv9DJrr2Yb1"
      },
      "outputs": [],
      "source": [
        "from sklearn.metrics import accuracy_score"
      ]
    },
    {
      "cell_type": "code",
      "execution_count": 96,
      "metadata": {
        "id": "T-RezGBvY8p-",
        "colab": {
          "base_uri": "https://localhost:8080/",
          "height": 178
        },
        "outputId": "31fe0a9c-cd68-4691-b43e-7df20a3a307a"
      },
      "outputs": [
        {
          "output_type": "execute_result",
          "data": {
            "text/plain": [
              "RandomForestClassifier(bootstrap=True, ccp_alpha=0.0, class_weight=None,\n",
              "                       criterion='gini', max_depth=None, max_features='sqrt',\n",
              "                       max_leaf_nodes=None, max_samples=None,\n",
              "                       min_impurity_decrease=0.0, min_samples_leaf=1,\n",
              "                       min_samples_split=2, min_weight_fraction_leaf=0.0,\n",
              "                       n_estimators=100, n_jobs=-1, oob_score=False,\n",
              "                       random_state=123, verbose=0, warm_start=False)"
            ],
            "text/html": [
              "<style>#sk-container-id-7 {color: black;background-color: white;}#sk-container-id-7 pre{padding: 0;}#sk-container-id-7 div.sk-toggleable {background-color: white;}#sk-container-id-7 label.sk-toggleable__label {cursor: pointer;display: block;width: 100%;margin-bottom: 0;padding: 0.3em;box-sizing: border-box;text-align: center;}#sk-container-id-7 label.sk-toggleable__label-arrow:before {content: \"▸\";float: left;margin-right: 0.25em;color: #696969;}#sk-container-id-7 label.sk-toggleable__label-arrow:hover:before {color: black;}#sk-container-id-7 div.sk-estimator:hover label.sk-toggleable__label-arrow:before {color: black;}#sk-container-id-7 div.sk-toggleable__content {max-height: 0;max-width: 0;overflow: hidden;text-align: left;background-color: #f0f8ff;}#sk-container-id-7 div.sk-toggleable__content pre {margin: 0.2em;color: black;border-radius: 0.25em;background-color: #f0f8ff;}#sk-container-id-7 input.sk-toggleable__control:checked~div.sk-toggleable__content {max-height: 200px;max-width: 100%;overflow: auto;}#sk-container-id-7 input.sk-toggleable__control:checked~label.sk-toggleable__label-arrow:before {content: \"▾\";}#sk-container-id-7 div.sk-estimator input.sk-toggleable__control:checked~label.sk-toggleable__label {background-color: #d4ebff;}#sk-container-id-7 div.sk-label input.sk-toggleable__control:checked~label.sk-toggleable__label {background-color: #d4ebff;}#sk-container-id-7 input.sk-hidden--visually {border: 0;clip: rect(1px 1px 1px 1px);clip: rect(1px, 1px, 1px, 1px);height: 1px;margin: -1px;overflow: hidden;padding: 0;position: absolute;width: 1px;}#sk-container-id-7 div.sk-estimator {font-family: monospace;background-color: #f0f8ff;border: 1px dotted black;border-radius: 0.25em;box-sizing: border-box;margin-bottom: 0.5em;}#sk-container-id-7 div.sk-estimator:hover {background-color: #d4ebff;}#sk-container-id-7 div.sk-parallel-item::after {content: \"\";width: 100%;border-bottom: 1px solid gray;flex-grow: 1;}#sk-container-id-7 div.sk-label:hover label.sk-toggleable__label {background-color: #d4ebff;}#sk-container-id-7 div.sk-serial::before {content: \"\";position: absolute;border-left: 1px solid gray;box-sizing: border-box;top: 0;bottom: 0;left: 50%;z-index: 0;}#sk-container-id-7 div.sk-serial {display: flex;flex-direction: column;align-items: center;background-color: white;padding-right: 0.2em;padding-left: 0.2em;position: relative;}#sk-container-id-7 div.sk-item {position: relative;z-index: 1;}#sk-container-id-7 div.sk-parallel {display: flex;align-items: stretch;justify-content: center;background-color: white;position: relative;}#sk-container-id-7 div.sk-item::before, #sk-container-id-7 div.sk-parallel-item::before {content: \"\";position: absolute;border-left: 1px solid gray;box-sizing: border-box;top: 0;bottom: 0;left: 50%;z-index: -1;}#sk-container-id-7 div.sk-parallel-item {display: flex;flex-direction: column;z-index: 1;position: relative;background-color: white;}#sk-container-id-7 div.sk-parallel-item:first-child::after {align-self: flex-end;width: 50%;}#sk-container-id-7 div.sk-parallel-item:last-child::after {align-self: flex-start;width: 50%;}#sk-container-id-7 div.sk-parallel-item:only-child::after {width: 0;}#sk-container-id-7 div.sk-dashed-wrapped {border: 1px dashed gray;margin: 0 0.4em 0.5em 0.4em;box-sizing: border-box;padding-bottom: 0.4em;background-color: white;}#sk-container-id-7 div.sk-label label {font-family: monospace;font-weight: bold;display: inline-block;line-height: 1.2em;}#sk-container-id-7 div.sk-label-container {text-align: center;}#sk-container-id-7 div.sk-container {/* jupyter's `normalize.less` sets `[hidden] { display: none; }` but bootstrap.min.css set `[hidden] { display: none !important; }` so we also need the `!important` here to be able to override the default hidden behavior on the sphinx rendered scikit-learn.org. See: https://github.com/scikit-learn/scikit-learn/issues/21755 */display: inline-block !important;position: relative;}#sk-container-id-7 div.sk-text-repr-fallback {display: none;}</style><div id=\"sk-container-id-7\" class=\"sk-top-container\"><div class=\"sk-text-repr-fallback\"><pre>RandomForestClassifier(bootstrap=True, ccp_alpha=0.0, class_weight=None,\n",
              "                       criterion=&#x27;gini&#x27;, max_depth=None, max_features=&#x27;sqrt&#x27;,\n",
              "                       max_leaf_nodes=None, max_samples=None,\n",
              "                       min_impurity_decrease=0.0, min_samples_leaf=1,\n",
              "                       min_samples_split=2, min_weight_fraction_leaf=0.0,\n",
              "                       n_estimators=100, n_jobs=-1, oob_score=False,\n",
              "                       random_state=123, verbose=0, warm_start=False)</pre><b>In a Jupyter environment, please rerun this cell to show the HTML representation or trust the notebook. <br />On GitHub, the HTML representation is unable to render, please try loading this page with nbviewer.org.</b></div><div class=\"sk-container\" hidden><div class=\"sk-item\"><div class=\"sk-estimator sk-toggleable\"><input class=\"sk-toggleable__control sk-hidden--visually\" id=\"sk-estimator-id-7\" type=\"checkbox\" checked><label for=\"sk-estimator-id-7\" class=\"sk-toggleable__label sk-toggleable__label-arrow\">RandomForestClassifier</label><div class=\"sk-toggleable__content\"><pre>RandomForestClassifier(bootstrap=True, ccp_alpha=0.0, class_weight=None,\n",
              "                       criterion=&#x27;gini&#x27;, max_depth=None, max_features=&#x27;sqrt&#x27;,\n",
              "                       max_leaf_nodes=None, max_samples=None,\n",
              "                       min_impurity_decrease=0.0, min_samples_leaf=1,\n",
              "                       min_samples_split=2, min_weight_fraction_leaf=0.0,\n",
              "                       n_estimators=100, n_jobs=-1, oob_score=False,\n",
              "                       random_state=123, verbose=0, warm_start=False)</pre></div></div></div></div></div>"
            ]
          },
          "metadata": {},
          "execution_count": 96
        }
      ],
      "source": [
        "tuned_model.fit(X_train,Y_train)"
      ]
    },
    {
      "cell_type": "code",
      "source": [
        "tuned_model.score(X_train,Y_train)"
      ],
      "metadata": {
        "colab": {
          "base_uri": "https://localhost:8080/"
        },
        "id": "12gy2bPESNHh",
        "outputId": "ae6fdb29-fe15-4c1a-c176-eade34e3eb67"
      },
      "execution_count": 97,
      "outputs": [
        {
          "output_type": "execute_result",
          "data": {
            "text/plain": [
              "1.0"
            ]
          },
          "metadata": {},
          "execution_count": 97
        }
      ]
    },
    {
      "cell_type": "code",
      "execution_count": 98,
      "metadata": {
        "id": "sbC4o6HE2cdm",
        "colab": {
          "base_uri": "https://localhost:8080/"
        },
        "outputId": "aa22f836-6b70-46b6-b179-5a5b2ec06e7a"
      },
      "outputs": [
        {
          "output_type": "execute_result",
          "data": {
            "text/plain": [
              "0.9902597402597403"
            ]
          },
          "metadata": {},
          "execution_count": 98
        }
      ],
      "source": [
        "tuned_model.score(X_test,Y_test)"
      ]
    },
    {
      "cell_type": "markdown",
      "source": [
        "# BAGGING "
      ],
      "metadata": {
        "id": "k4g5E09ky9ic"
      }
    },
    {
      "cell_type": "code",
      "source": [
        "from sklearn.ensemble import BaggingClassifier"
      ],
      "metadata": {
        "id": "EX0jlPWIzIkt"
      },
      "execution_count": 99,
      "outputs": []
    },
    {
      "cell_type": "code",
      "execution_count": 100,
      "metadata": {
        "id": "zYqaylwilop9",
        "colab": {
          "base_uri": "https://localhost:8080/"
        },
        "outputId": "03fcc739-28f6-4098-cdd8-6f33d3f0cc07"
      },
      "outputs": [
        {
          "output_type": "execute_result",
          "data": {
            "text/plain": [
              "0.9832635983263598"
            ]
          },
          "metadata": {},
          "execution_count": 100
        }
      ],
      "source": [
        "bag_model = BaggingClassifier(\n",
        "    estimator=tuned_model, \n",
        "    n_estimators=100, \n",
        "    max_samples=0.8, \n",
        "    oob_score=True,\n",
        "    random_state=0\n",
        ")\n",
        "bag_model.fit(X_train, Y_train)\n",
        "bag_model.oob_score_"
      ]
    },
    {
      "cell_type": "code",
      "execution_count": 101,
      "metadata": {
        "id": "47kKFVyflop_",
        "colab": {
          "base_uri": "https://localhost:8080/"
        },
        "outputId": "d27aa44a-9c24-4e93-db3b-26940832d420"
      },
      "outputs": [
        {
          "output_type": "execute_result",
          "data": {
            "text/plain": [
              "0.9902597402597403"
            ]
          },
          "metadata": {},
          "execution_count": 101
        }
      ],
      "source": [
        "bag_model.score(X_test, Y_test)"
      ]
    },
    {
      "cell_type": "markdown",
      "source": [
        "# NOTE:- \n",
        "*   reshape(-1, 1) ---- Reshapes the input record into Single column, multiple rows \n",
        "*   reshape(1, -1) ---- Reshapes the input record into Single row , multiple columns "
      ],
      "metadata": {
        "id": "2Rx0WGEBIsuM"
      }
    },
    {
      "cell_type": "code",
      "execution_count": 102,
      "metadata": {
        "colab": {
          "base_uri": "https://localhost:8080/"
        },
        "id": "w0FjSoO1MGBU",
        "outputId": "9f687f7c-fb76-4a01-c906-29f8352401d2"
      },
      "outputs": [
        {
          "output_type": "stream",
          "name": "stdout",
          "text": [
            "[0]\n",
            "The Person does not have any Heart Disease, according to our model\n"
          ]
        }
      ],
      "source": [
        "input_data = (58,1,0,114,318,0,2,140,0,4.4,0,3,1)\n",
        "\n",
        "# changing input data to a numpy array\n",
        "input_data_as_numpy_array = np.asarray(input_data)\n",
        "\n",
        "# reshape the numpy array\n",
        "input_data_reshaped = input_data_as_numpy_array.reshape(1,-1)\n",
        "scaler = StandardScaler()\n",
        "scaler.fit(X_train)\n",
        "\n",
        "# standardize the data\n",
        "std_data = scaler.transform(input_data_reshaped)\n",
        "\n",
        "prediction1 =tuned_model.predict(std_data)\n",
        "print(prediction1)\n",
        "\n",
        "\n",
        "if (prediction1[0] == 0):\n",
        "  print(\"The Person does not have any Heart Disease, according to our model\")\n",
        "\n",
        "else:\n",
        "  print(\"The Person may have some heart disease\")\n"
      ]
    },
    {
      "cell_type": "markdown",
      "metadata": {
        "id": "Yiyxdh7uMwSD"
      },
      "source": [
        "# Extra Tree Classifier"
      ]
    },
    {
      "cell_type": "code",
      "execution_count": 103,
      "metadata": {
        "id": "RjlJLicb40_O"
      },
      "outputs": [],
      "source": [
        "clf = ExtraTreesClassifier(n_estimators=100, random_state=42)"
      ]
    },
    {
      "cell_type": "code",
      "execution_count": 104,
      "metadata": {
        "colab": {
          "base_uri": "https://localhost:8080/",
          "height": 178
        },
        "outputId": "e289f04e-251a-48e9-e77c-75f27e545ce8",
        "id": "3l6gGnnw40_P"
      },
      "outputs": [
        {
          "output_type": "execute_result",
          "data": {
            "text/plain": [
              "ExtraTreesClassifier(bootstrap=False, ccp_alpha=0.0, class_weight=None,\n",
              "                     criterion='gini', max_depth=None, max_features='sqrt',\n",
              "                     max_leaf_nodes=None, max_samples=None,\n",
              "                     min_impurity_decrease=0.0, min_samples_leaf=1,\n",
              "                     min_samples_split=2, min_weight_fraction_leaf=0.0,\n",
              "                     n_estimators=100, n_jobs=None, oob_score=False,\n",
              "                     random_state=42, verbose=0, warm_start=False)"
            ],
            "text/html": [
              "<style>#sk-container-id-8 {color: black;background-color: white;}#sk-container-id-8 pre{padding: 0;}#sk-container-id-8 div.sk-toggleable {background-color: white;}#sk-container-id-8 label.sk-toggleable__label {cursor: pointer;display: block;width: 100%;margin-bottom: 0;padding: 0.3em;box-sizing: border-box;text-align: center;}#sk-container-id-8 label.sk-toggleable__label-arrow:before {content: \"▸\";float: left;margin-right: 0.25em;color: #696969;}#sk-container-id-8 label.sk-toggleable__label-arrow:hover:before {color: black;}#sk-container-id-8 div.sk-estimator:hover label.sk-toggleable__label-arrow:before {color: black;}#sk-container-id-8 div.sk-toggleable__content {max-height: 0;max-width: 0;overflow: hidden;text-align: left;background-color: #f0f8ff;}#sk-container-id-8 div.sk-toggleable__content pre {margin: 0.2em;color: black;border-radius: 0.25em;background-color: #f0f8ff;}#sk-container-id-8 input.sk-toggleable__control:checked~div.sk-toggleable__content {max-height: 200px;max-width: 100%;overflow: auto;}#sk-container-id-8 input.sk-toggleable__control:checked~label.sk-toggleable__label-arrow:before {content: \"▾\";}#sk-container-id-8 div.sk-estimator input.sk-toggleable__control:checked~label.sk-toggleable__label {background-color: #d4ebff;}#sk-container-id-8 div.sk-label input.sk-toggleable__control:checked~label.sk-toggleable__label {background-color: #d4ebff;}#sk-container-id-8 input.sk-hidden--visually {border: 0;clip: rect(1px 1px 1px 1px);clip: rect(1px, 1px, 1px, 1px);height: 1px;margin: -1px;overflow: hidden;padding: 0;position: absolute;width: 1px;}#sk-container-id-8 div.sk-estimator {font-family: monospace;background-color: #f0f8ff;border: 1px dotted black;border-radius: 0.25em;box-sizing: border-box;margin-bottom: 0.5em;}#sk-container-id-8 div.sk-estimator:hover {background-color: #d4ebff;}#sk-container-id-8 div.sk-parallel-item::after {content: \"\";width: 100%;border-bottom: 1px solid gray;flex-grow: 1;}#sk-container-id-8 div.sk-label:hover label.sk-toggleable__label {background-color: #d4ebff;}#sk-container-id-8 div.sk-serial::before {content: \"\";position: absolute;border-left: 1px solid gray;box-sizing: border-box;top: 0;bottom: 0;left: 50%;z-index: 0;}#sk-container-id-8 div.sk-serial {display: flex;flex-direction: column;align-items: center;background-color: white;padding-right: 0.2em;padding-left: 0.2em;position: relative;}#sk-container-id-8 div.sk-item {position: relative;z-index: 1;}#sk-container-id-8 div.sk-parallel {display: flex;align-items: stretch;justify-content: center;background-color: white;position: relative;}#sk-container-id-8 div.sk-item::before, #sk-container-id-8 div.sk-parallel-item::before {content: \"\";position: absolute;border-left: 1px solid gray;box-sizing: border-box;top: 0;bottom: 0;left: 50%;z-index: -1;}#sk-container-id-8 div.sk-parallel-item {display: flex;flex-direction: column;z-index: 1;position: relative;background-color: white;}#sk-container-id-8 div.sk-parallel-item:first-child::after {align-self: flex-end;width: 50%;}#sk-container-id-8 div.sk-parallel-item:last-child::after {align-self: flex-start;width: 50%;}#sk-container-id-8 div.sk-parallel-item:only-child::after {width: 0;}#sk-container-id-8 div.sk-dashed-wrapped {border: 1px dashed gray;margin: 0 0.4em 0.5em 0.4em;box-sizing: border-box;padding-bottom: 0.4em;background-color: white;}#sk-container-id-8 div.sk-label label {font-family: monospace;font-weight: bold;display: inline-block;line-height: 1.2em;}#sk-container-id-8 div.sk-label-container {text-align: center;}#sk-container-id-8 div.sk-container {/* jupyter's `normalize.less` sets `[hidden] { display: none; }` but bootstrap.min.css set `[hidden] { display: none !important; }` so we also need the `!important` here to be able to override the default hidden behavior on the sphinx rendered scikit-learn.org. See: https://github.com/scikit-learn/scikit-learn/issues/21755 */display: inline-block !important;position: relative;}#sk-container-id-8 div.sk-text-repr-fallback {display: none;}</style><div id=\"sk-container-id-8\" class=\"sk-top-container\"><div class=\"sk-text-repr-fallback\"><pre>ExtraTreesClassifier(bootstrap=False, ccp_alpha=0.0, class_weight=None,\n",
              "                     criterion=&#x27;gini&#x27;, max_depth=None, max_features=&#x27;sqrt&#x27;,\n",
              "                     max_leaf_nodes=None, max_samples=None,\n",
              "                     min_impurity_decrease=0.0, min_samples_leaf=1,\n",
              "                     min_samples_split=2, min_weight_fraction_leaf=0.0,\n",
              "                     n_estimators=100, n_jobs=None, oob_score=False,\n",
              "                     random_state=42, verbose=0, warm_start=False)</pre><b>In a Jupyter environment, please rerun this cell to show the HTML representation or trust the notebook. <br />On GitHub, the HTML representation is unable to render, please try loading this page with nbviewer.org.</b></div><div class=\"sk-container\" hidden><div class=\"sk-item\"><div class=\"sk-estimator sk-toggleable\"><input class=\"sk-toggleable__control sk-hidden--visually\" id=\"sk-estimator-id-8\" type=\"checkbox\" checked><label for=\"sk-estimator-id-8\" class=\"sk-toggleable__label sk-toggleable__label-arrow\">ExtraTreesClassifier</label><div class=\"sk-toggleable__content\"><pre>ExtraTreesClassifier(bootstrap=False, ccp_alpha=0.0, class_weight=None,\n",
              "                     criterion=&#x27;gini&#x27;, max_depth=None, max_features=&#x27;sqrt&#x27;,\n",
              "                     max_leaf_nodes=None, max_samples=None,\n",
              "                     min_impurity_decrease=0.0, min_samples_leaf=1,\n",
              "                     min_samples_split=2, min_weight_fraction_leaf=0.0,\n",
              "                     n_estimators=100, n_jobs=None, oob_score=False,\n",
              "                     random_state=42, verbose=0, warm_start=False)</pre></div></div></div></div></div>"
            ]
          },
          "metadata": {},
          "execution_count": 104
        }
      ],
      "source": [
        "clf.fit(X_train, Y_train)"
      ]
    },
    {
      "cell_type": "code",
      "execution_count": 105,
      "metadata": {
        "id": "y_mVNDcz40_Q"
      },
      "outputs": [],
      "source": [
        "Y_pred = clf.predict(X_test)"
      ]
    },
    {
      "cell_type": "code",
      "execution_count": 106,
      "metadata": {
        "colab": {
          "base_uri": "https://localhost:8080/"
        },
        "outputId": "e2292def-3058-481c-cc83-36c3ee00f865",
        "id": "o7s0WmmR40_Q"
      },
      "outputs": [
        {
          "output_type": "execute_result",
          "data": {
            "text/plain": [
              "0.9902597402597403"
            ]
          },
          "metadata": {},
          "execution_count": 106
        }
      ],
      "source": [
        "clf.score(X_test,Y_test)"
      ]
    }
  ]
}